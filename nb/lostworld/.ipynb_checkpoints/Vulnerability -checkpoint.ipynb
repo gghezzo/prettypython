{
 "cells": [
  {
   "cell_type": "markdown",
   "metadata": {},
   "source": [
    "# Lost World Vulnerability Mapping \n",
    "For a given character represented in a .txt file, determine what moves they are vulnerable to \n",
    "For the 4 defence move, how often they get hurt (not hit) \n",
    "Sudo Code \n",
    "Read in the .txt file \n",
    "Parse the line 'damage=' to create determine all the result page that cause damage of 1 or more \n",
    "For all pages, determine if any of the attack moves are in column 4,8,18,20\n",
    "For each ?your move? (column 4,8, 18, 20) , # do the result pages hit  \n",
    "Aggreggated across all the damaging results page \n",
    "\n",
    "Example\n",
    "For the name of the File: xxxx.txt \n",
    "   Move 8: 5 \n",
    "   Move 16: 0\n",
    "   Move 18: 8\n",
    "   Move 20: 7 \n",
    "Additional details \n",
    "   Number of damage results pages that cause damage of 1 or more \n",
    "   Which pages Hit "
   ]
  },
  {
   "cell_type": "code",
   "execution_count": null,
   "metadata": {
    "collapsed": false
   },
   "outputs": [],
   "source": [
    "# get the info \n",
    "import os \n",
    "print(os.getcwd())\n",
    "path = 'amulf of peth-m.txt'\n",
    "f = open(path, 'r')"
   ]
  },
  {
   "cell_type": "code",
   "execution_count": null,
   "metadata": {
    "collapsed": false
   },
   "outputs": [],
   "source": [
    "def howhurt(f, output):\n",
    "    f = open(path, 'r')\n",
    "    f.seek(0)\n",
    "    pages, moves, damagerPages = [], [],[]\n",
    "    minny = 0      # minimum damanage\n",
    "    dodge, jumpup, jumpaway, duck = 0,0,0,0\n",
    "    \n",
    "    try:\n",
    "        for line in f:\n",
    "            temp = line.rstrip()\n",
    "            if temp[0:6] == 'pages[':\n",
    "                move = temp[11:-1].split(',')\n",
    "                moves.append(move)\n",
    "            elif temp[0] == 'd':\n",
    "                damage = temp[7:].split('|')\n",
    "                for index, value in enumerate(damage): \n",
    "                    boo = value.split(',')\n",
    "                    if int(boo[1]) > minny: \n",
    "                        damagerPages.append(int(boo[0])) \n",
    "        for index, value in enumerate(moves):\n",
    "            if int(value[3]) in damagerPages:\n",
    "                dodge += 1 \n",
    "            if int(value[7]) in damagerPages:\n",
    "                jumpaway += 1 \n",
    "            if int(value[8]) in damagerPages:\n",
    "                jumpup += 1\n",
    "            if int(value[9]) in damagerPages:\n",
    "                duck += 1     \n",
    "        print ('For File: ', path)\n",
    "        print ('    Dodge     (Move 8)  gets hit: ', dodge)\n",
    "        print ('    Jump Away (Move 16) gets hit: ', jumpaway)\n",
    "        print ('    Jump Up   (Move 18) gets hit: ', jumpup)\n",
    "        print ('    Duke      (Move 20) gets hit: ', duck)\n",
    "        print ('The following page cause positive damange', damagerPages)\n",
    "\n",
    "        \n",
    "        mystr = 'For File: ' + path + '\\n'\n",
    "        mystr = mystr + '    Dodge     (Move 8)  gets hit: ' + str(dodge) + '\\n'\n",
    "        mystr = mystr + '    Jump Away (Move 16) gets hit: ' + str(jumpaway) + '\\n'\n",
    "        mystr = mystr + '    Jump Up   (Move 18) gets hit: ' + str(jumpup) + '\\n'\n",
    "        mystr = mystr + '    Duke      (Move 20) gets hit: ' + str(duck) + '\\n'\n",
    "        output.write(mystr)\n",
    "\n",
    "    except:\n",
    "        mystr = '*** There was a problem with ' + path + ' ***\\n'\n",
    "        print(mystr)\n",
    "        output.write(mystr)\n",
    "        return()\n",
    "    "
   ]
  },
  {
   "cell_type": "code",
   "execution_count": null,
   "metadata": {
    "collapsed": false
   },
   "outputs": [],
   "source": [
    "# don't run this \n",
    "path = 'driataur-m.txt'\n",
    "howhurt(path, out)"
   ]
  },
  {
   "cell_type": "code",
   "execution_count": null,
   "metadata": {
    "collapsed": false
   },
   "outputs": [],
   "source": [
    "import glob \n",
    "out = open(\"results.xxx\", 'w')\n",
    "for filename in glob.glob('*.txt'):\n",
    "    path = filename\n",
    "    howhurt(path, out)\n",
    "out.close()"
   ]
  },
  {
   "cell_type": "code",
   "execution_count": null,
   "metadata": {
    "collapsed": true
   },
   "outputs": [],
   "source": []
  }
 ],
 "metadata": {
  "anaconda-cloud": {},
  "kernelspec": {
   "display_name": "Python [conda root]",
   "language": "python",
   "name": "conda-root-py"
  },
  "language_info": {
   "codemirror_mode": {
    "name": "ipython",
    "version": 3
   },
   "file_extension": ".py",
   "mimetype": "text/x-python",
   "name": "python",
   "nbconvert_exporter": "python",
   "pygments_lexer": "ipython3",
   "version": "3.5.2"
  }
 },
 "nbformat": 4,
 "nbformat_minor": 1
}
