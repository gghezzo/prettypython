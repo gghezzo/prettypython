{
 "cells": [
  {
   "cell_type": "markdown",
   "metadata": {},
   "source": [
    "# Day 9 - January 6, 2018"
   ]
  },
  {
   "cell_type": "markdown",
   "metadata": {},
   "source": [
    "** Problem 24 ** A permutation is an ordered arrangement of objects. For example, 3124 is one possible permutation of the digits 1, 2, 3 and 4. If all of the permutations are listed numerically or alphabetically, we call it lexicographic order. The lexicographic permutations of 0, 1 and 2 are:\n",
    "\n",
    "012   021   102   120   201   210\n",
    "\n",
    "What is the millionth lexicographic permutation of the digits 0, 1, 2, 3, 4, 5, 6, 7, 8 and 9?\n",
    "Note: What permutation changes the "
   ]
  },
  {
   "cell_type": "code",
   "execution_count": 53,
   "metadata": {
    "collapsed": false
   },
   "outputs": [
    {
     "name": "stdout",
     "output_type": "stream",
     "text": [
      "1 loop, best of 3: 1.1 s per loop\n"
     ]
    }
   ],
   "source": [
    "%%timeit\n",
    "import itertools as i \n",
    "a = [x for x in  i.permutations(range(10))]\n",
    "value = a[1000000]"
   ]
  },
  {
   "cell_type": "code",
   "execution_count": 33,
   "metadata": {
    "collapsed": false,
    "scrolled": true
   },
   "outputs": [
    {
     "name": "stdout",
     "output_type": "stream",
     "text": [
      "2783915604\n"
     ]
    }
   ],
   "source": [
    "moo = ''\n",
    "for x in a[1000000]: \n",
    "    moo = moo + str(x)\n",
    "print(moo)"
   ]
  },
  {
   "cell_type": "code",
   "execution_count": 52,
   "metadata": {
    "collapsed": false
   },
   "outputs": [
    {
     "name": "stdout",
     "output_type": "stream",
     "text": [
      "10000 loops, best of 3: 30.5 µs per loop\n"
     ]
    }
   ],
   "source": [
    "%%timeit\n",
    "# with math \n",
    "import math\n",
    "alist = [0,1,2,3,4,5,6,7,8,9]\n",
    "value = ''\n",
    "remain = 1000000\n",
    "for x in range(9,0,-1):\n",
    "    boo = math.factorial(x)\n",
    "    place = (math.floor(remain / boo))\n",
    "    value = value + str(alist[place])\n",
    "    alist.pop(place)\n",
    "    remain = remain % boo\n",
    "value = value + str(alist[0])\n",
    "# print(value)"
   ]
  },
  {
   "cell_type": "markdown",
   "metadata": {},
   "source": [
    "# Day 8 - January 4, 2018 "
   ]
  },
  {
   "cell_type": "markdown",
   "metadata": {
    "collapsed": true
   },
   "source": [
    "** Problem 23 ** A perfect number is a number for which the sum of its proper divisors is exactly equal to the number. For example, the sum of the proper divisors of 28 would be 1 + 2 + 4 + 7 + 14 = 28, which means that 28 is a perfect number.\n",
    "\n",
    "A number n is called deficient if the sum of its proper divisors is less than n and it is called abundant if this sum exceeds n.\n",
    "\n",
    "As 12 is the smallest abundant number, 1 + 2 + 3 + 4 + 6 = 16, the smallest number that can be written as the sum of two abundant numbers is 24. By mathematical analysis, it can be shown that all integers greater than 28123 can be written as the sum of two abundant numbers. However, this upper limit cannot be reduced any further by analysis even though it is known that the greatest number that cannot be expressed as the sum of two abundant numbers is less than this limit.\n",
    "\n",
    "Find the sum of all the positive integers which cannot be written as the sum of two abundant numbers."
   ]
  },
  {
   "cell_type": "code",
   "execution_count": 30,
   "metadata": {
    "collapsed": false
   },
   "outputs": [
    {
     "name": "stdout",
     "output_type": "stream",
     "text": [
      "True\n",
      "4179871\n"
     ]
    }
   ],
   "source": [
    "smallest = 24  # 12 is the smallest abundant number, 1 + 2 + 3 + 4 + 6 = 16 \n",
    "biggest = 28123 #  28123 can be written as the sum of two abundant numbers \n",
    "\n",
    "theabuns, allnum = set(), set()\n",
    "\n",
    "total = 0 \n",
    "def isAbundant(num):\n",
    "    count, facty = 0, 1 \n",
    "    divisors = set()\n",
    "    for x in range(1,num):\n",
    "        if num % x == 0:\n",
    "            divisors.add(x)\n",
    "    if sum(divisors) > num:\n",
    "        return(True)\n",
    "    return(False)\n",
    "\n",
    "print(isAbundant(12))\n",
    "for a in range(11, biggest):\n",
    "    if isAbundant(a):\n",
    "        theabuns.add(a)\n",
    "for a in theabuns:\n",
    "    for b in theabuns:\n",
    "        allnum.add(a+b)\n",
    "for a in range(1, biggest):\n",
    "    if a not in allnum:\n",
    "        total = total + a\n",
    "print(total)"
   ]
  },
  {
   "cell_type": "code",
   "execution_count": 29,
   "metadata": {
    "collapsed": false
   },
   "outputs": [
    {
     "name": "stdout",
     "output_type": "stream",
     "text": [
      "4179871\n"
     ]
    }
   ],
   "source": [
    "for a in range(1,smallest):\n",
    "    total = total + a \n",
    "print(total)"
   ]
  },
  {
   "cell_type": "markdown",
   "metadata": {},
   "source": [
    "** Problem 22 ** Using names.txt (right click and 'Save Link/Target As...'), a 46K text file containing over five-thousand first names, begin by sorting it into alphabetical order. Then working out the alphabetical value for each name, multiply this value by its alphabetical position in the list to obtain a name score.\n",
    "\n",
    "For example, when the list is sorted into alphabetical order, COLIN, which is worth 3 + 15 + 12 + 9 + 14 = 53, is the 938th name in the list. So, COLIN would obtain a score of 938 × 53 = 49714.\n",
    "\n",
    "What is the total of all the name scores in the file?"
   ]
  },
  {
   "cell_type": "code",
   "execution_count": 52,
   "metadata": {
    "collapsed": false
   },
   "outputs": [
    {
     "name": "stdout",
     "output_type": "stream",
     "text": [
      "Sum of the value of the names * order) 871198282\n"
     ]
    }
   ],
   "source": [
    "path = 'p022_names.txt'\n",
    "with open(path, 'r') as file:\n",
    "    content = file.read().rsplit(',')\n",
    "for key, value in enumerate(content):\n",
    "    content[key] = value.strip('/\"')\n",
    "content = sorted(content)\n",
    "#print(content)\n",
    "total = 0 \n",
    "for key, value in enumerate(content):\n",
    "    namescore = 0 \n",
    "    for x in value:\n",
    "        namescore = namescore + ord(x) - 64\n",
    "    # print(\"The value of \", value, \" is \",namescore, (namescore * (key+1)) )\n",
    "    total = total + (namescore * (key+1))\n",
    "print(\"Sum of the value of the names * order)\", total)"
   ]
  },
  {
   "cell_type": "markdown",
   "metadata": {},
   "source": [
    "** Problem 21 ** Let d(n) be defined as the sum of proper divisors of n (numbers less than n which divide evenly into n).\n",
    "If d(a) = b and d(b) = a, where a ≠ b, then a and b are an amicable pair and each of a and b are called amicable numbers.\n",
    "\n",
    "For example, the proper divisors of 220 are 1, 2, 4, 5, 10, 11, 20, 22, 44, 55 and 110; therefore d(220) = 284. The proper divisors of 284 are 1, 2, 4, 71 and 142; so d(284) = 220.\n",
    "\n",
    "Evaluate the sum of all the amicable numbers under 10000.\n",
    "Note: https://en.wikipedia.org/wiki/Amicable_numbers"
   ]
  },
  {
   "cell_type": "code",
   "execution_count": 17,
   "metadata": {
    "collapsed": false
   },
   "outputs": [
    {
     "name": "stdout",
     "output_type": "stream",
     "text": [
      " We really found one 284 220\n",
      " We really found one 1210 1184\n",
      " We really found one 2924 2620\n",
      " We really found one 5564 5020\n",
      " We really found one 6368 6232\n",
      "31626\n"
     ]
    }
   ],
   "source": [
    "\n",
    "def d(num):\n",
    "    boo = set()\n",
    "    total = 0\n",
    "    for x in range(1,num):\n",
    "        if num % x == 0:\n",
    "            boo.add(x)\n",
    "    for x in boo:\n",
    "        total = total + int(x)\n",
    "    return(total)   \n",
    "top = 10000 \n",
    "divisorsums = set()\n",
    "sumofall = 0 \n",
    "for y in range(1,top):\n",
    "    temp = d(y)\n",
    "    divisorsums.add(temp)     # there will be 10k-ish in here \n",
    "    if y in divisorsums:\n",
    "        if y == d(temp) and y != temp:\n",
    "            print(\" We really found one\",y, temp)\n",
    "            sumofall = sumofall + y + temp\n",
    "print(sumofall)"
   ]
  },
  {
   "cell_type": "markdown",
   "metadata": {},
   "source": [
    "# Day 7 - January 3, 2018 "
   ]
  },
  {
   "cell_type": "markdown",
   "metadata": {},
   "source": [
    "** Problem 20 ** n! means n × (n − 1) × ... × 3 × 2 × 1\n",
    "\n",
    "For example, 10! = 10 × 9 × ... × 3 × 2 × 1 = 3628800,\n",
    "and the sum of the digits in the number 10! is 3 + 6 + 2 + 8 + 8 + 0 + 0 = 27.\n",
    "\n",
    "Find the sum of the digits in the number 100!"
   ]
  },
  {
   "cell_type": "code",
   "execution_count": 88,
   "metadata": {
    "collapsed": false
   },
   "outputs": [
    {
     "name": "stdout",
     "output_type": "stream",
     "text": [
      "10000 loops, best of 3: 68.9 µs per loop\n"
     ]
    }
   ],
   "source": [
    "%%timeit\n",
    "import math \n",
    "num = 100\n",
    "#num = 10\n",
    "count = 0 \n",
    "for x in str(math.factorial(num)):\n",
    "    count = count + int(x)\n",
    "#print(count)"
   ]
  },
  {
   "cell_type": "code",
   "execution_count": 99,
   "metadata": {
    "collapsed": false
   },
   "outputs": [
    {
     "name": "stdout",
     "output_type": "stream",
     "text": [
      "10000 loops, best of 3: 74.5 µs per loop\n"
     ]
    }
   ],
   "source": [
    "%%timeit\n",
    "num = 101\n",
    "# num = 10\n",
    "count, facty = 0, 1 \n",
    "for x in range(1,num):\n",
    "    facty = facty * x\n",
    "for x in str(facty):\n",
    "    count = count + int(x)\n",
    "#print(count)"
   ]
  },
  {
   "cell_type": "markdown",
   "metadata": {},
   "source": [
    "** Problem 19 ** You are given the following information, but you may prefer to do some research for yourself.\n",
    "\n",
    "* 1 Jan 1900 was a Monday.\n",
    "* Thirty days has September,\n",
    "April, June and November.\n",
    "All the rest have thirty-one,\n",
    "Saving February alone,\n",
    "Which has twenty-eight, rain or shine.\n",
    "And on leap years, twenty-nine.\n",
    "* A leap year occurs on any year evenly divisible by 4, but not on a century unless it is divisible by 400.\n",
    "\n",
    "How many Sundays fell on the first of the month during the twentieth century (1 Jan 1901 to 31 Dec 2000)?\n",
    "Note: Should I do this with no libraries? "
   ]
  },
  {
   "cell_type": "code",
   "execution_count": 83,
   "metadata": {
    "collapsed": false
   },
   "outputs": [
    {
     "name": "stdout",
     "output_type": "stream",
     "text": [
      "Is 1 Jan a Monday (0)? 0\n",
      "Total Sunday on the 1st of the month(1901 to 2000) 171\n"
     ]
    }
   ],
   "source": [
    "import calendar as c\n",
    "Sunday = 6\n",
    "count = 0 \n",
    "print(\"Is 1 Jan a Monday (0)?\", c.weekday(1900,1,1))\n",
    "for year in range(1901,2001):\n",
    "    for month in range(1,13):\n",
    "        if c.weekday(year,month,1) == Sunday:\n",
    "            count = count + 1\n",
    "print(\"Total Sunday on the 1st of the month(1901 to 2000)\", count)"
   ]
  },
  {
   "cell_type": "markdown",
   "metadata": {},
   "source": [
    "** Problem 18 and 67 ** By starting at the top of the triangle below and moving to adjacent numbers on the row below, the maximum total from top to bottom is 23.\n",
    "\n",
    "3\n",
    "7 4\n",
    "2 4 6\n",
    "8 5 9 3\n",
    "\n",
    "That is, 3 + 7 + 4 + 9 = 23.\n",
    "\n",
    "Find the maximum total from top to bottom of the triangle below:\n",
    "\n",
    "75\n",
    "95 64\n",
    "17 47 82\n",
    "18 35 87 10\n",
    "20 04 82 47 65\n",
    "19 01 23 75 03 34\n",
    "88 02 77 73 07 63 67\n",
    "99 65 04 28 06 16 70 92\n",
    "41 41 26 56 83 40 80 70 33\n",
    "41 48 72 33 47 32 37 16 94 29\n",
    "53 71 44 65 25 43 91 52 97 51 14\n",
    "70 11 33 28 77 73 17 78 39 68 17 57\n",
    "91 71 52 38 17 14 91 43 58 50 27 29 48\n",
    "63 66 04 68 89 53 67 30 73 16 69 87 40 31\n",
    "04 62 98 27 23 09 70 98 73 93 38 53 60 04 23\n",
    "\n",
    "NOTE: As there are only 16384 routes, it is possible to solve this problem by trying every route. However, Problem 67, is the same challenge with a triangle containing one-hundred rows; it cannot be solved by brute force, and requires a clever method! ;o)"
   ]
  },
  {
   "cell_type": "code",
   "execution_count": 70,
   "metadata": {
    "collapsed": false
   },
   "outputs": [
    {
     "name": "stdout",
     "output_type": "stream",
     "text": [
      "7273\n"
     ]
    }
   ],
   "source": [
    "import sys\n",
    "path = 'p18b.txt'\n",
    "total, most = 0, 0 \n",
    "tower,distance = [], []\n",
    "with open(path, 'r') as file:\n",
    "    content = file.read().splitlines()\n",
    "    for x in content:\n",
    "        tower.append(x.rsplit())\n",
    "# print(tower)\n",
    "for row, value in enumerate(tower):\n",
    "    distance.append([0]* len(value))\n",
    "    for col, node in enumerate(value):\n",
    "        if col < len(value)-1 :\n",
    "            vmom = distance[row-1][col]\n",
    "        else: \n",
    "            vmom = 0\n",
    "            # print(\"There is no mom (to the right) \")\n",
    "        if (col - 1) >= 0:\n",
    "            vdad = distance[row-1][col-1]\n",
    "        else: \n",
    "            vdad = 0 \n",
    "            # print(\"There is no dad (to the left) \")\n",
    "        distance[row][col] = max(vdad, vmom) + int(node)\n",
    "\n",
    "# print(distance)\n",
    "print(max(distance[len(distance)-1]))"
   ]
  },
  {
   "cell_type": "markdown",
   "metadata": {},
   "source": [
    "# Day 6 - January 2, 2018"
   ]
  },
  {
   "cell_type": "markdown",
   "metadata": {},
   "source": [
    "** Problem 17 ** If the numbers 1 to 5 are written out in words: one, two, three, four, five, then there are 3 + 3 + 5 + 4 + 4 = 19 letters used in total.\n",
    "\n",
    "If all the numbers from 1 to 1000 (one thousand) inclusive were written out in words, how many letters would be used?\n",
    "\n",
    "\n",
    "NOTE: Do not count spaces or hyphens. For example, 342 (three hundred and forty-two) contains 23 letters and 115 (one hundred and fifteen) contains 20 letters. The use of \"and\" when writing out numbers is in compliance with British usage.\n",
    "Note: Feels like a dictionary - https://www.ego4u.com/en/cram-up/vocabulary/numbers/cardinal \n",
    "Not: 21145, 21121\n",
    "Answer = 21124\n"
   ]
  },
  {
   "cell_type": "code",
   "execution_count": 60,
   "metadata": {
    "collapsed": false
   },
   "outputs": [
    {
     "name": "stdout",
     "output_type": "stream",
     "text": [
      "{0: '', 1: 'one', 2: 'two', 3: 'three', 4: 'four', 5: 'five', 70: 'seventy', 7: 'seven', 8: 'eight', 9: 'nine', 10: 'ten', 11: 'eleven', 12: 'twelve', 13: 'thirteen', 14: 'fourteen', 15: 'fifteen', 80: 'eighty', 17: 'seventeen', 18: 'eighteen', 19: 'nineteen', 20: 'twenty', 90: 'ninety', 30: 'thirty', 16: 'sixteen', 100: 'hundred', 6: 'six', 40: 'forty', 1000: 'onethousand', 50: 'fifty', 60: 'sixty'}\n",
      "three\n"
     ]
    }
   ],
   "source": [
    "cardinal = {0: '',1:'one', 11:'eleven', 2:'two', 12:'twelve',40:'forty',3:'three', 13:'thirteen', 50:'fifty', 4:'four', 14:'fourteen',\n",
    "60:'sixty',\n",
    "5:\t'five',\n",
    "15:\t'fifteen',\n",
    "70:'seventy',\n",
    "6:\t'six',\n",
    "16:\t'sixteen',\n",
    "80:'eighty',\n",
    "7:\t'seven',\n",
    "17:\t'seventeen',\n",
    "90:'ninety',\n",
    "8:\t'eight',\n",
    "18:\t'eighteen',\n",
    "100:'hundred',\n",
    "9:\t'nine',\n",
    "19:\t'nineteen',\n",
    "1000:'onethousand',\n",
    "10:'ten',\n",
    "20:'twenty',\n",
    "30:'thirty'}\n",
    "print(cardinal)\n",
    "num = 342\n",
    "print(cardinal[((num - (num % 100))/100)])\n",
    "    "
   ]
  },
  {
   "cell_type": "code",
   "execution_count": 77,
   "metadata": {
    "collapsed": false
   },
   "outputs": [
    {
     "name": "stdout",
     "output_type": "stream",
     "text": [
      "Total:  21124\n",
      "{0: '', 1: 'one', 2: 'two', 3: 'three', 4: 'four', 5: 'five', 70: 'seventy', 7: 'seven', 8: 'eight', 9: 'nine', 10: 'ten', 11: 'eleven', 12: 'twelve', 13: 'thirteen', 14: 'fourteen', 15: 'fifteen', 80: 'eighty', 17: 'seventeen', 18: 'eighteen', 19: 'nineteen', 20: 'twenty', 90: 'ninety', 30: 'thirty', 16: 'sixteen', 100: 'hundred', 6: 'six', 40: 'forty', 1000: 'onethousand', 50: 'fifty', 60: 'sixty'}\n"
     ]
    }
   ],
   "source": [
    "top = 22 \n",
    "total = 0 \n",
    "def gettens(num):\n",
    "    if num in cardinal: \n",
    "        return(len(cardinal[num]))\n",
    "    onesplace = num % 10 \n",
    "    tensplace = num - (num % 10)\n",
    "    sum  =len(cardinal[tensplace]) + len(cardinal[onesplace])\n",
    "    return(sum)\n",
    "def gethundreds(num):\n",
    "    sum = len(cardinal[((num - (num % 100))/100)]) \n",
    "    sum = sum + len(cardinal[100])\n",
    "    tens = (num % 100)\n",
    "    if tens != 0:\n",
    "        sum = sum + 3    # and \n",
    "        sum = sum + gettens(tens)\n",
    "    return(sum)\n",
    "bot  = 1\n",
    "top = 1000\n",
    "total = 0  \n",
    "just = 0 \n",
    "for x in range(bot,top+1):\n",
    "    if x in cardinal: \n",
    "        total = total + len(cardinal[x])\n",
    "        if x == 100: \n",
    "            total = total + 3 \n",
    "        just = len(cardinal[x])\n",
    "    elif x > 20 and x < 100: \n",
    "        total = total + gettens(x)\n",
    "        just = gettens(x)\n",
    "    elif x > 100 and x < 1000:\n",
    "        total = total + gethundreds(x)\n",
    "        just = gethundreds(x)\n",
    "    else: \n",
    "        print(\"oops, too high or too wrong\", x)  \n",
    "\n",
    "print(\"Total: \", total)\n",
    "print(cardinal)"
   ]
  },
  {
   "cell_type": "code",
   "execution_count": 18,
   "metadata": {
    "collapsed": false
   },
   "outputs": [
    {
     "name": "stdout",
     "output_type": "stream",
     "text": [
      "ten\n"
     ]
    }
   ],
   "source": [
    "cardinal = {1:\t'one', 11:'eleven', 2:'two', 12:'twelve',40:'forty',3:'three', \n",
    "13:\t'thirteen'\t\n",
    "50\t'fifty'\n",
    "4:\t'four'\t\n",
    "14:\t'fourteen'\t\n",
    "60\t'sixty'\n",
    "5:\t'five'\t\n",
    "15:\t'fifteen'\t\n",
    "70\t'seventy'\n",
    "6:\t'six'\t\n",
    "16:\t'sixteen'\t\n",
    "80\t'eighty'\n",
    "7:\t'seven'\t\n",
    "17:\t'seventeen'\n",
    "90\t'ninety'\n",
    "8:\t'eight'\t\n",
    "18:\t'eighteen'\n",
    "100\t'onehundred'\n",
    "9:\t'nine'\t\n",
    "19:\t'nineteen'\n",
    "1,000\t'onethousand'\n",
    "10:\t'ten'\t\n",
    "20:\t'twenty'\t\n",
    "30\t'thirty'\n"
   ]
  },
  {
   "cell_type": "markdown",
   "metadata": {},
   "source": [
    "** Problem 16 ** 215 = 32768 and the sum of its digits is 3 + 2 + 7 + 6 + 8 = 26.\n",
    "\n",
    "What is the sum of the digits of the number 21000?"
   ]
  },
  {
   "cell_type": "code",
   "execution_count": 14,
   "metadata": {
    "collapsed": false
   },
   "outputs": [
    {
     "name": "stdout",
     "output_type": "stream",
     "text": [
      "Two raised to the   1000  :  10715086071862673209484250490600018105614048117055336074437503883703510511249361224931983788156958581275946729175531468251871452856923140435984577574698574803934567774824230985421074605062371141877954182153046474983581941267398767559165543946077062914571196477686542167660429831652624386837205668069376\n",
      "   The sum of the digits is  1366\n"
     ]
    }
   ],
   "source": [
    "x = 1000\n",
    "value = 2**x\n",
    "print(\"Two raised to the  \", x, \" : \",value )\n",
    "total = 0\n",
    "for y in str(value):\n",
    "    total = total + int(y )\n",
    "print(\"   The sum of the digits is \", total)"
   ]
  },
  {
   "cell_type": "markdown",
   "metadata": {},
   "source": [
    "# Day 5 - January 1, 2018 "
   ]
  },
  {
   "cell_type": "markdown",
   "metadata": {},
   "source": [
    "** Problem 15 ** Starting in the top left corner of a 2×2 grid, and only being able to move to the right and down, there are exactly 6 routes to the bottom right corner.\n",
    "\n",
    "How many such routes are there through a 20×20 grid?\n",
    "Note: Is this a recurssion? Is this just math? \n",
    "Steps = N * 2 (so 2 will have 4 steps and 20 will have 40 steps . Half will be over, half down. Order will not matter \n",
    "Thank you : https://www.youtube.com/watch?v=M8BYckxI8_U "
   ]
  },
  {
   "cell_type": "code",
   "execution_count": 125,
   "metadata": {
    "collapsed": false
   },
   "outputs": [
    {
     "name": "stdout",
     "output_type": "stream",
     "text": [
      "5919012181389927685417441689600000000\n",
      "137846528820.0\n"
     ]
    }
   ],
   "source": [
    "import math\n",
    "size = 20\n",
    "count = 0 \n",
    "num = math.factorial(size*2)\n",
    "dem = math.factorial(size) * math.factorial(size)\n",
    "print(num/dem)"
   ]
  },
  {
   "cell_type": "markdown",
   "metadata": {},
   "source": [
    "** Problem 14 ** The following iterative sequence is defined for the set of positive integers:\n",
    "\n",
    "n → n/2 (n is even)\n",
    "n → 3n + 1 (n is odd)\n",
    "\n",
    "Using the rule above and starting with 13, we generate the following sequence:\n",
    "\n",
    "13 → 40 → 20 → 10 → 5 → 16 → 8 → 4 → 2 → 1\n",
    "It can be seen that this sequence (starting at 13 and finishing at 1) contains 10 terms. Although it has not been proved yet (Collatz Problem), it is thought that all starting numbers finish at 1.\n",
    "\n",
    "Which starting number, under one million, produces the longest chain?\n",
    "\n",
    "NOTE: Once the chain starts the terms are allowed to go above one million.\n",
    "MyNOTE: Start from 1? Every number is in a set (ie 13 is always with 40, etc) Use recurssion to find the sets but do we really have to ... A MILLION TIMES? \n",
    "The right answer is 837,799 (from wikipedia) with 524 steps. "
   ]
  },
  {
   "cell_type": "code",
   "execution_count": 74,
   "metadata": {
    "collapsed": false,
    "scrolled": true
   },
   "outputs": [
    {
     "name": "stdout",
     "output_type": "stream",
     "text": [
      "837799 525\n"
     ]
    }
   ],
   "source": [
    "# This is slow. Too slow \n",
    "def getCollatz(num):\n",
    "    seq = set()\n",
    "    seq.add(num)\n",
    "    if num == 1:\n",
    "        return(seq)\n",
    "    else:\n",
    "        if num % 2 == 0:\n",
    "            temp = int(num/2)\n",
    "        else: \n",
    "            temp = int((3 * num) + 1 )\n",
    "        seq.update(getCollatz(temp))\n",
    "    return(seq)\n",
    "\n",
    "seed = 999999\n",
    "end = 99999\n",
    "high, bigdog = 0 , 0 \n",
    "for x in range(seed,end,-2):\n",
    "    total = len(getCollatz(x))\n",
    "    if total > high:\n",
    "        bigDog = x\n",
    "        high = total\n",
    "print(bigDog, high)\n"
   ]
  },
  {
   "cell_type": "code",
   "execution_count": 101,
   "metadata": {
    "collapsed": false
   },
   "outputs": [
    {
     "name": "stdout",
     "output_type": "stream",
     "text": [
      "837799\n"
     ]
    }
   ],
   "source": [
    "# For speed, find them once and save them. But which ones? A million\n",
    "seed = 1000000\n",
    "million = [0 for x in range(seed)]\n",
    "million[1] = 1\n",
    "million[0] = 1\n",
    "high = 0 \n",
    "def getCollatzSize(num):\n",
    "    if num < seed:\n",
    "        if million[num] != 0:\n",
    "            return(million[num])\n",
    "        else: \n",
    "            if num % 2 == 0:\n",
    "                temp = int(num/2)\n",
    "            else: \n",
    "                temp = int((3 * num) + 1) \n",
    "            million[num] = getCollatzSize(temp) +1 \n",
    "            return(million[num])\n",
    "    else: \n",
    "        if num % 2 == 0:\n",
    "            temp = int(num/2)\n",
    "        else: \n",
    "            temp = int((3 * num) + 1) \n",
    "        return(getCollatzSize(temp) +1 )    \n",
    "for x in range(seed):\n",
    "    getCollatzSize(x)\n",
    "top = max(million)\n",
    "print(million.index(top))"
   ]
  },
  {
   "cell_type": "markdown",
   "metadata": {},
   "source": [
    "** Problem  13 ** Work out the first ten digits of the sum of the following one-hundred 50-digit numbers."
   ]
  },
  {
   "cell_type": "code",
   "execution_count": 34,
   "metadata": {
    "collapsed": false
   },
   "outputs": [
    {
     "name": "stdout",
     "output_type": "stream",
     "text": [
      "5537376230390876637302048746832985971773659831892672\n",
      "5537376230\n"
     ]
    }
   ],
   "source": [
    "path = 'p13.txt'\n",
    "total = 0 \n",
    "with open(path, 'r') as file:\n",
    "    content = file.read().splitlines()\n",
    "for x in content:\n",
    "    value = int(x)\n",
    "    total = total + value\n",
    "print(total)\n",
    "print(str(total)[:10])"
   ]
  },
  {
   "cell_type": "markdown",
   "metadata": {},
   "source": [
    "# Day 4 - December 31"
   ]
  },
  {
   "cell_type": "markdown",
   "metadata": {},
   "source": [
    "** Problem 12 ** The sequence of triangle numbers is generated by adding the natural numbers. So the 7th triangle number would be 1 + 2 + 3 + 4 + 5 + 6 + 7 = 28. The first ten terms would be:\n",
    "\n",
    "1, 3, 6, 10, 15, 21, 28, 36, 45, 55, ...\n",
    "\n",
    "Let us list the factors of the first seven triangle numbers:\n",
    "\n",
    " 1: 1\n",
    " 3: 1,3\n",
    " 6: 1,2,3,6\n",
    "10: 1,2,5,10\n",
    "15: 1,3,5,15\n",
    "21: 1,3,7,21\n",
    "28: 1,2,4,7,14,28\n",
    "We can see that 28 is the first triangle number to have over five divisors.\n",
    "\n",
    "What is the value of the first triangle number to have over five hundred divisors?\n",
    "Rule : n(n+1)/2 = is the value of the nth triangle number (5th = 5(5+1)/2 = 15 (https://www.mathsisfun.com/algebra/triangular-numbers.html) \n",
    "Note: Every other one is a 'triagular number 1,6,15,28 ...) \n",
    "Note: every triangular number is either divisible by three or has a remainder of 1 when divided by 9\n"
   ]
  },
  {
   "cell_type": "code",
   "execution_count": 50,
   "metadata": {
    "collapsed": false
   },
   "outputs": [
    {
     "name": "stdout",
     "output_type": "stream",
     "text": [
      "You did it! \n",
      "The nth triangle number with over 500 is  12375 76576500\n"
     ]
    }
   ],
   "source": [
    "import math\n",
    "stillLooking = True\n",
    "x, trinum = 1, 0 \n",
    "divisor = 500\n",
    "# divisor = 5\n",
    "def numberofFactors(num):\n",
    "    upto = int(math.sqrt(num) + 1)\n",
    "    total = 0\n",
    "    temp = set()\n",
    "    for x in range(1,upto):\n",
    "        if num % x == 0:\n",
    "            temp.add(x)\n",
    "            temp.add(int(num/x))\n",
    "    return(len(temp))\n",
    "while stillLooking:\n",
    "    trinum = int((x*(x+1))/2)\n",
    "    if numberofFactors(trinum) > divisor:\n",
    "        stillLooking = False\n",
    "        print(\"You did it! \")\n",
    "    else:\n",
    "        x = x + 1 \n",
    "print(\"The nth triangle number with over 500 is \", x, trinum)"
   ]
  },
  {
   "cell_type": "markdown",
   "metadata": {},
   "source": [
    "** Problem 11 ** \n",
    "In the 20×20 grid below, four numbers along a diagonal line have been marked in red.\n",
    "\n",
    "08 02 22 97 38 15 00 40 00 75 04 05 07 78 52 12 50 77 91 08\n",
    "49 49 99 40 17 81 18 57 60 87 17 40 98 43 69 48 04 56 62 00\n",
    "81 49 31 73 55 79 14 29 93 71 40 67 53 88 30 03 49 13 36 65\n",
    "52 70 95 23 04 60 11 42 69 24 68 56 01 32 56 71 37 02 36 91\n",
    "22 31 16 71 51 67 63 89 41 92 36 54 22 40 40 28 66 33 13 80\n",
    "24 47 32 60 99 03 45 02 44 75 33 53 78 36 84 20 35 17 12 50\n",
    "32 98 81 28 64 23 67 10 26 38 40 67 59 54 70 66 18 38 64 70\n",
    "67 26 20 68 02 62 12 20 95 63 94 39 63 08 40 91 66 49 94 21\n",
    "24 55 58 05 66 73 99 26 97 17 78 78 96 83 14 88 34 89 63 72\n",
    "21 36 23 09 75 00 76 44 20 45 35 14 00 61 33 97 34 31 33 95\n",
    "78 17 53 28 22 75 31 67 15 94 03 80 04 62 16 14 09 53 56 92\n",
    "16 39 05 42 96 35 31 47 55 58 88 24 00 17 54 24 36 29 85 57\n",
    "86 56 00 48 35 71 89 07 05 44 44 37 44 60 21 58 51 54 17 58\n",
    "19 80 81 68 05 94 47 69 28 73 92 13 86 52 17 77 04 89 55 40\n",
    "04 52 08 83 97 35 99 16 07 97 57 32 16 26 26 79 33 27 98 66\n",
    "88 36 68 87 57 62 20 72 03 46 33 67 46 55 12 32 63 93 53 69\n",
    "04 42 16 73 38 25 39 11 24 94 72 18 08 46 29 32 40 62 76 36\n",
    "20 69 36 41 72 30 23 88 34 62 99 69 82 67 59 85 74 04 36 16\n",
    "20 73 35 29 78 31 90 01 74 31 49 71 48 86 81 16 23 57 05 54\n",
    "01 70 54 71 83 51 54 69 16 92 33 48 61 43 52 01 89 19 67 48\n",
    "\n",
    "The product of these numbers is 26 × 63 × 78 × 14 = 1788696.\n",
    "\n",
    "What is the greatest product of four adjacent numbers in the same direction (up, down, left, right, or diagonally) in the 20×20 grid?"
   ]
  },
  {
   "cell_type": "code",
   "execution_count": 32,
   "metadata": {
    "collapsed": false
   },
   "outputs": [
    {
     "name": "stdout",
     "output_type": "stream",
     "text": [
      "23\n",
      "70600674 15 3\n"
     ]
    }
   ],
   "source": [
    "path = 'p11.txt'\n",
    "grid = []\n",
    "highest = 0 \n",
    "with open(path, 'r') as file:\n",
    "    content = file.read().splitlines()\n",
    "for x in content: \n",
    "    grid.append(x.rsplit(' '))\n",
    "print(grid[3][3])\n",
    "for x in range(20):\n",
    "    for y in range(20):\n",
    "    # check row \n",
    "        try:\n",
    "            temp = int(grid[x][y]) * int(grid[x][y+1]) * int(grid[x][y+2]) * int(grid[x][y+3])\n",
    "            if temp > highest: \n",
    "                highest = temp\n",
    "                foo, bar = x,y\n",
    "            temp = int(grid[x][y]) * int(grid[x+1][y]) * int(grid[x+2][y]) * int(grid[x+3][y])\n",
    "            if temp > highest: \n",
    "                highest = temp\n",
    "                foo, bar = x,y\n",
    "            temp = int(grid[x][y]) * int(grid[x+1][y+1]) * int(grid[x+2][y+2]) * int(grid[x+3][y+3])\n",
    "            if temp > highest: \n",
    "                highest = temp\n",
    "                foo, bar = x,y\n",
    "            temp = int(grid[x][y]) * int(grid[x-1][y+1]) * int(grid[x-2][y+2]) * int(grid[x-3][y+3])\n",
    "            if temp > highest: \n",
    "                highest = temp\n",
    "                foo, bar = x,y\n",
    "        except:\n",
    "            pass \n",
    "print(highest, foo, bar)  "
   ]
  },
  {
   "cell_type": "markdown",
   "metadata": {},
   "source": [
    "** Problem 10 ** The sum of the primes below 10 is 2 + 3 + 5 + 7 = 17. Find the sum of all the primes below two million.\n",
    "This took longer then I hoped. TODO - Think about optimizing"
   ]
  },
  {
   "cell_type": "code",
   "execution_count": 4,
   "metadata": {
    "collapsed": false
   },
   "outputs": [
    {
     "name": "stdout",
     "output_type": "stream",
     "text": [
      "148933 142913828922\n"
     ]
    }
   ],
   "source": [
    "import math\n",
    "def isPrime(anumber):\n",
    "    if anumber ==  2:\n",
    "        return(True)\n",
    "    for x in range(2, int(math.sqrt(anumber))+1):     \n",
    "        if anumber % x == 0:\n",
    "            return(False)\n",
    "    return(True)\n",
    "\n",
    "top = 2000000\n",
    "# top = 10 \n",
    "count, total  = 1,2 # to account for the number 2 \n",
    "for x in range(3,top, 2):\n",
    "    if isPrime(x):\n",
    "        count +=1 \n",
    "        total = total + x \n",
    "print(count, total)\n",
    "    \n",
    "    "
   ]
  },
  {
   "cell_type": "markdown",
   "metadata": {},
   "source": [
    "# Day 3 - December 30 "
   ]
  },
  {
   "cell_type": "markdown",
   "metadata": {},
   "source": [
    "** Problem 9 ** A Pythagorean triplet is a set of three natural numbers, a < b < c, for which,\n",
    "\n",
    "a*a + b*b = c*c\n",
    "For example, 3^2 + 4^2 = 9 + 16 = 25 = 5^2.\n",
    "\n",
    "There exists exactly one Pythagorean triplet for which a + b + c = 1000.\n",
    "Find the product abc.\n",
    "Note: 3+ 4+ 5 = 12 and 3x4x5 = 60 \n",
    "Note: https://www.youtube.com/watch?v=B2FLARYs3bo Pick any two numbers M and N (with M > N) you get a Pythagorean Triple with A = M^2 - N^2, B = (MN)2 C = M^2 + N^2  \n",
    "So .... (M^2 - N^2) +  (MN)2 +  M^2 + N^2  = 1000 "
   ]
  },
  {
   "cell_type": "code",
   "execution_count": 20,
   "metadata": {
    "collapsed": false
   },
   "outputs": [
    {
     "name": "stdout",
     "output_type": "stream",
     "text": [
      "We made it!  20 5\n",
      "What what 20 5\n",
      "A =  375 B =  200 C= 425\n",
      "Sum =  1000\n",
      "Product =  31875000\n"
     ]
    }
   ],
   "source": [
    "for m in range(100):\n",
    "    for n in range(m-1):\n",
    "        if (m* (m+n) == 500):\n",
    "            print(\"We made it! \", m, n)\n",
    "        if ((m*m) - (n*n)) + (2 * m * n) + ((m*m) + (n*n)) == 1000:\n",
    "            print(\"What what\", m, n) \n",
    "            print(\"A = \", ((m*m) - (n*n)), \"B = \", (2 * m * n), \"C=\",((m*m) + (n*n)) )\n",
    "            a = ((m*m) - (n*n))\n",
    "            b = (2 * m * n)\n",
    "            c = ((m*m) + (n*n)) \n",
    "            print(\"Sum = \", a + b + c)\n",
    "            print(\"Product = \", a * b * c)\n",
    "            break \n",
    "            "
   ]
  },
  {
   "cell_type": "markdown",
   "metadata": {},
   "source": [
    "** Problem 8 ** The four adjacent digits in the 1000-digit number that have the greatest product are 9 × 9 × 8 × 9 = 5832.\n",
    "\n",
    "73167176531330624919225119674426574742355349194934\n",
    "96983520312774506326239578318016984801869478851843\n",
    "85861560789112949495459501737958331952853208805511\n",
    "12540698747158523863050715693290963295227443043557\n",
    "66896648950445244523161731856403098711121722383113\n",
    "62229893423380308135336276614282806444486645238749\n",
    "30358907296290491560440772390713810515859307960866\n",
    "70172427121883998797908792274921901699720888093776\n",
    "65727333001053367881220235421809751254540594752243\n",
    "52584907711670556013604839586446706324415722155397\n",
    "53697817977846174064955149290862569321978468622482\n",
    "83972241375657056057490261407972968652414535100474\n",
    "82166370484403199890008895243450658541227588666881\n",
    "16427171479924442928230863465674813919123162824586\n",
    "17866458359124566529476545682848912883142607690042\n",
    "24219022671055626321111109370544217506941658960408\n",
    "07198403850962455444362981230987879927244284909188\n",
    "84580156166097919133875499200524063689912560717606\n",
    "05886116467109405077541002256983155200055935729725\n",
    "71636269561882670428252483600823257530420752963450\n",
    "\n",
    "Find the thirteen adjacent digits in the 1000-digit number that have the greatest product. What is the value of this product?\n",
    "Note: I think treating it like a string is the best "
   ]
  },
  {
   "cell_type": "code",
   "execution_count": 9,
   "metadata": {
    "collapsed": false
   },
   "outputs": [
    {
     "name": "stdout",
     "output_type": "stream",
     "text": [
      "Value  23514624000 string  5576689664895\n"
     ]
    }
   ],
   "source": [
    "test = '7316717653133062491922511967442657474235534919493496983520312774506326239578318016984801869478851843858615607891129494954595017379583319528532088055111254069874715852386305071569329096329522744304355766896648950445244523161731856403098711121722383113622298934233803081353362766142828064444866452387493035890729629049156044077239071381051585930796086670172427121883998797908792274921901699720888093776657273330010533678812202354218097512545405947522435258490771167055601360483958644670632441572215539753697817977846174064955149290862569321978468622482839722413756570560574902614079729686524145351004748216637048440319989000889524345065854122758866688116427171479924442928230863465674813919123162824586178664583591245665294765456828489128831426076900422421902267105562632111110937054421750694165896040807198403850962455444362981230987879927244284909188845801561660979191338754992005240636899125607176060588611646710940507754100225698315520005593572972571636269561882670428252483600823257530420752963450'\n",
    "#test = '01234567899876543210'\n",
    "length = len(test)\n",
    "top = test[0:13]\n",
    "topvalue = 0\n",
    "for x in range(length):\n",
    "    temp = test[x:x+13]\n",
    "    product = 1 \n",
    "    for y in temp: \n",
    "        product = product * int(y)\n",
    "    if product > topvalue:\n",
    "        topvalue = product \n",
    "        top = temp \n",
    "print(\"Value \", topvalue, \"string \", top )"
   ]
  },
  {
   "cell_type": "markdown",
   "metadata": {},
   "source": [
    "** Problem 7** By listing the first six prime numbers: 2, 3, 5, 7, 11, and 13, we can see that the 6th prime is 13.\n",
    "\n",
    "What is the 10 001st prime number?"
   ]
  },
  {
   "cell_type": "code",
   "execution_count": 5,
   "metadata": {
    "collapsed": false
   },
   "outputs": [
    {
     "name": "stdout",
     "output_type": "stream",
     "text": [
      "The  10001  prime is  104743\n"
     ]
    }
   ],
   "source": [
    "import math\n",
    "which = 10001\n",
    "# which = 6 \n",
    "x, count  = 1, 0\n",
    "def isPrime(anumber):\n",
    "    if anumber ==  2:\n",
    "        return(True)\n",
    "    for x in range(2, int(math.sqrt(anumber))+1):     \n",
    "        if anumber % x == 0:\n",
    "            return(False)\n",
    "    return(True)\n",
    "\n",
    "while count < which: \n",
    "    x += 1 \n",
    "    if isPrime(x):\n",
    "        count += 1 \n",
    "print(\"The \", count, \" prime is \", x)\n",
    "    "
   ]
  },
  {
   "cell_type": "markdown",
   "metadata": {},
   "source": [
    "# Day 2 - December ?? "
   ]
  },
  {
   "cell_type": "markdown",
   "metadata": {},
   "source": [
    "** Problem 6 ** The sum of the squares of the first ten natural numbers is,\n",
    "\n",
    "12 + 22 + ... + 102 = 385\n",
    "The square of the sum of the first ten natural numbers is,\n",
    "\n",
    "(1 + 2 + ... + 10)2 = 552 = 3025\n",
    "Hence the difference between the sum of the squares of the first ten natural numbers and the square of the sum is 3025 − 385 = 2640.\n",
    "\n",
    "Find the difference between the sum of the squares of the first one hundred natural numbers and the square of the sum."
   ]
  },
  {
   "cell_type": "code",
   "execution_count": 87,
   "metadata": {
    "collapsed": false
   },
   "outputs": [
    {
     "name": "stdout",
     "output_type": "stream",
     "text": [
      "25502500\n",
      "338350\n",
      "25164150\n"
     ]
    }
   ],
   "source": [
    "num = 100\n",
    "#num = 10 \n",
    "total1,total2 = 0,0\n",
    "for x in range(num,0,-1):\n",
    "    total1 = total1 + x \n",
    "    total2 = total2 + (x*x)\n",
    "print(total1* total1)\n",
    "print(total2)\n",
    "print((total1* total1) - total2)"
   ]
  },
  {
   "cell_type": "markdown",
   "metadata": {},
   "source": [
    "** Problem 5 ** 2520 is the smallest number that can be divided by each of the numbers from 1 to 10 without any remainder. What is the smallest positive number that is evenly divisible by all of the numbers from 1 to 20?\n",
    "Note: Set of all the factors "
   ]
  },
  {
   "cell_type": "code",
   "execution_count": 76,
   "metadata": {
    "collapsed": false
   },
   "outputs": [
    {
     "name": "stdout",
     "output_type": "stream",
     "text": [
      "232792560\n"
     ]
    }
   ],
   "source": [
    "import math\n",
    "top = 20\n",
    "# top = 10 \n",
    "total = 1 \n",
    "for x in range(top, 1, -1):\n",
    "    while total % x != 0:\n",
    "        foo = math.gcd(total, x)\n",
    "        total = int(total * (x/foo))\n",
    "print(total)"
   ]
  },
  {
   "cell_type": "markdown",
   "metadata": {},
   "source": [
    "** Problem 4 ** A palindromic number reads the same both ways. The largest palindrome made from the product of two 2-digit numbers is 9009 = 91 × 99.\n",
    "Find the largest palindrome made from the product of two 3-digit numbers."
   ]
  },
  {
   "cell_type": "code",
   "execution_count": 22,
   "metadata": {
    "collapsed": false
   },
   "outputs": [
    {
     "name": "stdout",
     "output_type": "stream",
     "text": [
      "Tops 998001 bots  698896 digits  3\n",
      "913 993\n",
      "The Highest Palindrom is  906609\n"
     ]
    }
   ],
   "source": [
    "tops = 999 * 999\n",
    "bots = 698896    # 698896 \n",
    "digits = 3\n",
    "# tops = 99 * 99\n",
    "# bots = 676 \n",
    "# digits = 2\n",
    "\n",
    "def isPalindromic(num):\n",
    "    string = str(num)\n",
    "    length = int(len(string)/2)\n",
    "    # print(\"   num, string, len \", num, string, length)\n",
    "    if string[length:][::-1] == string[:length]:\n",
    "        return(True)\n",
    "    return(False)\n",
    "def isProductSize(num, digits):\n",
    "    results = set()\n",
    "    for i in range(1, int(num ** .5)+1):\n",
    "        div, mod = divmod(num, i)\n",
    "        if mod == 0:\n",
    "            results |= {i, div}\n",
    "            if len(str(i)) == digits and len(str(div)) == digits:\n",
    "                print(i, div)\n",
    "                return(True)\n",
    "print('Tops', tops, 'bots ', bots, 'digits ', digits)\n",
    "for x in range(tops, bots, -1 ): \n",
    "    if isPalindromic(x):\n",
    "        # print(\"Yep, a palidrom \", x)\n",
    "        if isProductSize(x, digits):\n",
    "            print(\"The Highest Palindrom is \", x)\n",
    "            break \n"
   ]
  },
  {
   "cell_type": "code",
   "execution_count": 21,
   "metadata": {
    "collapsed": false
   },
   "outputs": [
    {
     "data": {
      "text/plain": [
       "True"
      ]
     },
     "execution_count": 21,
     "metadata": {},
     "output_type": "execute_result"
    }
   ],
   "source": [
    "isPalindromic(999999)"
   ]
  },
  {
   "cell_type": "markdown",
   "metadata": {},
   "source": [
    "# Day 1 - December 27 "
   ]
  },
  {
   "cell_type": "markdown",
   "metadata": {},
   "source": [
    "** Problem 1 ** If we list all the natural numbers below 10 that are multiples of 3 or 5, we get 3, 5, 6 and 9. The sum of these multiples is 23.\n",
    "\n",
    "Find the sum of all the multiples of 3 or 5 below 1000.\n",
    "You are the 715697th person to have solved this problem."
   ]
  },
  {
   "cell_type": "code",
   "execution_count": 2,
   "metadata": {
    "collapsed": false
   },
   "outputs": [
    {
     "name": "stdout",
     "output_type": "stream",
     "text": [
      "233168\n"
     ]
    }
   ],
   "source": [
    "below = 1000\n",
    "# below = 10 \n",
    "total = 0\n",
    "for x in range(below):\n",
    "    if (x % 3 == 0) or (x % 5 == 0):\n",
    "        total = total + x\n",
    "print(total)"
   ]
  },
  {
   "cell_type": "markdown",
   "metadata": {},
   "source": [
    "** Problem 2 ** Each new term in the Fibonacci sequence is generated by adding the previous two terms. By starting with 1 and 2, the first 10 terms will be:\n",
    "\n",
    "1, 2, 3, 5, 8, 13, 21, 34, 55, 89, ...\n",
    "\n",
    "By considering the terms in the Fibonacci sequence whose values do not exceed four million, find the sum of the even-valued terms."
   ]
  },
  {
   "cell_type": "code",
   "execution_count": 8,
   "metadata": {
    "collapsed": false
   },
   "outputs": [
    {
     "name": "stdout",
     "output_type": "stream",
     "text": [
      "Total evens  4613732\n",
      "last, second, first 5702887 5702887 3524578\n"
     ]
    }
   ],
   "source": [
    "top = 4000000\n",
    "# top = 89 \n",
    "first = 1 \n",
    "second = 2\n",
    "total, last = 0 , 0\n",
    "while last < top:\n",
    "    last = first + second \n",
    "    if last % 2 == 0:\n",
    "        total = total + last\n",
    "    first = second \n",
    "    second = last \n",
    "print(\"Total evens \", total + 2)\n",
    "print(\"last, second, first\", last, second, first)"
   ]
  },
  {
   "cell_type": "markdown",
   "metadata": {},
   "source": [
    "** Problem 3 ** The prime factors of 13195 are 5, 7, 13 and 29. \n",
    "What is the largest prime factor of the number 600851475143 ?\n",
    "\n",
    "TODO: You could performance tune the hell out of this one. ie go through it in reverse until found. "
   ]
  },
  {
   "cell_type": "code",
   "execution_count": 20,
   "metadata": {
    "collapsed": false
   },
   "outputs": [
    {
     "name": "stdout",
     "output_type": "stream",
     "text": [
      "Can not be divisible by more then sqrt 775146\n",
      "6857\n"
     ]
    }
   ],
   "source": [
    "import math\n",
    "mynum = 600851475143 \n",
    "# mynum = 13195\n",
    "myprimes = []\n",
    "top =  math.floor(math.sqrt(mynum))    # Does this need to be ceil instead \n",
    "print(\"Can not be divisible by more then sqrt\", top)\n",
    "\n",
    "def isPrime(anumber):\n",
    "    if anumber < 2:\n",
    "        return(False)\n",
    "    for x in range(2, int(math.sqrt(anumber))+1):     # does this need to be sqrt + 1? \n",
    "        if anumber % x == 0:\n",
    "            return(False)\n",
    "    return(True)\n",
    "for x in range(1, top, 2):\n",
    "    if isPrime(x):\n",
    "        if mynum % x == 0:\n",
    "            myprimes.append(x)\n",
    "# print(myprimes)\n",
    "print(\"The highest prime factor \", max(myprimes))"
   ]
  },
  {
   "cell_type": "code",
   "execution_count": null,
   "metadata": {
    "collapsed": true
   },
   "outputs": [],
   "source": []
  }
 ],
 "metadata": {
  "anaconda-cloud": {},
  "kernelspec": {
   "display_name": "Python [conda root]",
   "language": "python",
   "name": "conda-root-py"
  },
  "language_info": {
   "codemirror_mode": {
    "name": "ipython",
    "version": 3
   },
   "file_extension": ".py",
   "mimetype": "text/x-python",
   "name": "python",
   "nbconvert_exporter": "python",
   "pygments_lexer": "ipython3",
   "version": "3.5.2"
  }
 },
 "nbformat": 4,
 "nbformat_minor": 1
}
