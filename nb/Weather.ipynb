{
 "cells": [
  {
   "cell_type": "markdown",
   "metadata": {},
   "source": [
    "# Playing with Weather \n",
    "## https://openweathermap.org/api"
   ]
  },
  {
   "cell_type": "code",
   "execution_count": null,
   "metadata": {
    "collapsed": false
   },
   "outputs": [],
   "source": [
    "import pyowm                   # Open Weather Map from Google \n",
    "import smtplib                 # sending email/SMS\n",
    "from datetime import datetime\n",
    "from dateutil.tz import tz, tzlocal"
   ]
  },
  {
   "cell_type": "code",
   "execution_count": null,
   "metadata": {
    "collapsed": true
   },
   "outputs": [],
   "source": [
    "## Setup the variables to play with Current Weather \n",
    "### owm is the object to access all weather info \n",
    "### forecast is an observation  object the day's forecast for Durham NC "
   ]
  },
  {
   "cell_type": "code",
   "execution_count": null,
   "metadata": {
    "collapsed": false
   },
   "outputs": [],
   "source": [
    "owm = pyowm.OWM('DELETED') # Plant Key from https://home.openweathermap.org/api_keys\n",
    "print(owm)"
   ]
  },
  {
   "cell_type": "code",
   "execution_count": null,
   "metadata": {
    "collapsed": false,
    "scrolled": false
   },
   "outputs": [],
   "source": [
    "DURM = 4464368\n",
    "forecast = owm.weather_at_id(DURM)\n",
    "print(forecast)\n",
    "time = forecast.get_reception_time(timeformat='date')\n",
    "print('GMT time: ',time)\n",
    "print('EST Time:', time.astimezone(tzlocal()))           # make EST instead of GMT"
   ]
  },
  {
   "cell_type": "code",
   "execution_count": null,
   "metadata": {
    "collapsed": false
   },
   "outputs": [],
   "source": [
    "weather = forecast.get_weather()\n",
    "print('temperature: ',weather.get_temperature('fahrenheit')['temp'])\n",
    "print('Detailed Status: ',weather.get_detailed_status())\n",
    "sunset = weather.get_sunset_time(timeformat='date').astimezone(tzlocal())\n",
    "print('Sunset Time: ', sunset.hour-12, ':',str(sunset.minute).rjust(2,'0'))\n",
    "print('Wind = ', weather.get_wind()['speed'])\n",
    "# todo: remove date"
   ]
  },
  {
   "cell_type": "code",
   "execution_count": null,
   "metadata": {
    "collapsed": false
   },
   "outputs": [],
   "source": [
    "fc = owm.daily_forecast('Durham,us',limit=3)\n",
    "f = fc.get_forecast()\n",
    "lst = f.get_weathers()\n",
    "for weather in f: \n",
    "    print(weather.get_reference_time('iso'), weather.get_temperature('fahrenheit')['min'])"
   ]
  },
  {
   "cell_type": "code",
   "execution_count": null,
   "metadata": {
    "collapsed": false
   },
   "outputs": [],
   "source": [
    "today_forecast = owm.daily_forecast('Durham, us', limit=1).get_forecast().get_weathers()[0].get_temperature('fahrenheit')['min']\n",
    "print(today_forecast)"
   ]
  },
  {
   "cell_type": "markdown",
   "metadata": {},
   "source": [
    "# Playing with SMS "
   ]
  },
  {
   "cell_type": "code",
   "execution_count": null,
   "metadata": {
    "collapsed": true
   },
   "outputs": [],
   "source": []
  },
  {
   "cell_type": "markdown",
   "metadata": {
    "collapsed": true
   },
   "source": [
    "# Below are scraps "
   ]
  },
  {
   "cell_type": "code",
   "execution_count": null,
   "metadata": {
    "collapsed": true
   },
   "outputs": [],
   "source": [
    "registry = owm.city_id_registry()"
   ]
  },
  {
   "cell_type": "code",
   "execution_count": null,
   "metadata": {
    "collapsed": false
   },
   "outputs": [],
   "source": [
    "print(registry.location_for(\"Milan, it\")) "
   ]
  },
  {
   "cell_type": "code",
   "execution_count": null,
   "metadata": {
    "collapsed": false
   },
   "outputs": [],
   "source": [
    "print(registry)"
   ]
  },
  {
   "cell_type": "code",
   "execution_count": null,
   "metadata": {
    "collapsed": false
   },
   "outputs": [],
   "source": [
    "obs = owm.weather_at_place('Durham, us')"
   ]
  },
  {
   "cell_type": "code",
   "execution_count": null,
   "metadata": {
    "collapsed": true
   },
   "outputs": [],
   "source": [
    "w = obs.get_weather()"
   ]
  },
  {
   "cell_type": "code",
   "execution_count": null,
   "metadata": {
    "collapsed": false
   },
   "outputs": [],
   "source": [
    "print(w)"
   ]
  },
  {
   "cell_type": "code",
   "execution_count": null,
   "metadata": {
    "collapsed": false
   },
   "outputs": [],
   "source": [
    "print(obs)"
   ]
  },
  {
   "cell_type": "code",
   "execution_count": null,
   "metadata": {
    "collapsed": false
   },
   "outputs": [],
   "source": [
    "print(w.get_temperature('fahrenheit'))\n",
    "fc=owm.daily_forecast('Durham, us')\n",
    "print(fc.get_forecast().get_weathers())"
   ]
  },
  {
   "cell_type": "code",
   "execution_count": null,
   "metadata": {
    "collapsed": true
   },
   "outputs": [],
   "source": [
    "l = obs.get_location()"
   ]
  },
  {
   "cell_type": "code",
   "execution_count": null,
   "metadata": {
    "collapsed": false
   },
   "outputs": [],
   "source": [
    "print(l)"
   ]
  },
  {
   "cell_type": "code",
   "execution_count": null,
   "metadata": {
    "collapsed": true
   },
   "outputs": [],
   "source": []
  },
  {
   "cell_type": "code",
   "execution_count": null,
   "metadata": {
    "collapsed": true
   },
   "outputs": [],
   "source": [
    "from email.mime.text import MIMEText\n",
    "import smtplib"
   ]
  },
  {
   "cell_type": "code",
   "execution_count": null,
   "metadata": {
    "collapsed": false,
    "scrolled": true
   },
   "outputs": [],
   "source": [
    "with open('temp.txt') as fp: \n",
    "    msg = MIMEText(fp.read())\n",
    "msg['Subject'] = 'Ginny Test of Email'\n",
    "me = 'ginnyghezzo@gmail.com'\n",
    "msg['From'] = me\n",
    "msg['To'] = me\n",
    "s = smtplib.SMTP('smtp.gmail.com', 587)\n",
    "s.ehlo()\n",
    "s.starttls()\n",
    "s.login(me, 'cpgqqsorhfretpmt')\n",
    "s.sendmail(me, [me],msg.as_string())\n",
    "s.quit()"
   ]
  },
  {
   "cell_type": "markdown",
   "metadata": {
    "collapsed": true
   },
   "source": [
    "# Sending a Text \n",
    "Need to setup as "
   ]
  },
  {
   "cell_type": "code",
   "execution_count": null,
   "metadata": {
    "collapsed": false
   },
   "outputs": [],
   "source": [
    "from twilio.rest import TwilioRestClient"
   ]
  },
  {
   "cell_type": "code",
   "execution_count": null,
   "metadata": {
    "collapsed": false
   },
   "outputs": [],
   "source": [
    "accountSID = 'Deleted'\n",
    "authToken = 'Deleted'\n",
    "twilioCli = TwilioRestClient(accountSID, authToken)\n",
    "myTwilioNum = '+removed'\n",
    "myCellPhone = '+redacted'\n",
    "bodies=\"Thursday Phoenix arrival  49.19 Thursday Sedona  45.0 Friday Sedona  41.61 to 45.54 Friday Grand Canyon  41.56 to 29.82 Saturday Grand Canyon  27.88 to 32.83 31.19 to 13.59 Sunday Grand Canyon  14.59 to 29.55 Sunday Phoenix  49.55 to 41.63 Monday Phoneix  36.55 to 49.24\"\n",
    "msg = twilioCli.messages.create(to=myCellPhone, from_=myTwilioNum,  body=bodies)"
   ]
  },
  {
   "cell_type": "code",
   "execution_count": null,
   "metadata": {
    "collapsed": false
   },
   "outputs": [],
   "source": [
    "print(msg)"
   ]
  },
  {
   "cell_type": "markdown",
   "metadata": {},
   "source": [
    "## Charting Weather with Bokeh "
   ]
  },
  {
   "cell_type": "code",
   "execution_count": null,
   "metadata": {
    "collapsed": true
   },
   "outputs": [],
   "source": []
  }
 ],
 "metadata": {
  "anaconda-cloud": {},
  "kernelspec": {
   "display_name": "Python [conda root]",
   "language": "python",
   "name": "conda-root-py"
  },
  "language_info": {
   "codemirror_mode": {
    "name": "ipython",
    "version": 3
   },
   "file_extension": ".py",
   "mimetype": "text/x-python",
   "name": "python",
   "nbconvert_exporter": "python",
   "pygments_lexer": "ipython3",
   "version": "3.5.2"
  }
 },
 "nbformat": 4,
 "nbformat_minor": 1
}
