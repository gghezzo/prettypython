{
 "cells": [
  {
   "cell_type": "code",
   "execution_count": null,
   "metadata": {
    "collapsed": true
   },
   "outputs": [],
   "source": []
  },
  {
   "cell_type": "code",
   "execution_count": null,
   "metadata": {
    "collapsed": false
   },
   "outputs": [],
   "source": [
    "print(\"Hello Drops of Jupyter, hi alan\")\n",
    "print(\"Bite me Oasis\")"
   ]
  },
  {
   "cell_type": "code",
   "execution_count": 1,
   "metadata": {
    "collapsed": false
   },
   "outputs": [],
   "source": [
    "import pandas as pd\n",
    "import numpy as np\n",
    "import matplotlib.pyplot as plt\n",
    "%matplotlib inline "
   ]
  },
  {
   "cell_type": "code",
   "execution_count": null,
   "metadata": {
    "collapsed": true
   },
   "outputs": [],
   "source": [
    "s = pd.Series([1,3,5,np.nan,6,8])"
   ]
  },
  {
   "cell_type": "code",
   "execution_count": null,
   "metadata": {
    "collapsed": false
   },
   "outputs": [],
   "source": [
    "s"
   ]
  },
  {
   "cell_type": "code",
   "execution_count": null,
   "metadata": {
    "collapsed": true
   },
   "outputs": [],
   "source": [
    "import bokeh"
   ]
  },
  {
   "cell_type": "code",
   "execution_count": null,
   "metadata": {
    "collapsed": true
   },
   "outputs": [],
   "source": [
    "x = [1,2,3,4,5]\n",
    "y = [6,7,2,4,5]"
   ]
  },
  {
   "cell_type": "code",
   "execution_count": null,
   "metadata": {
    "collapsed": false
   },
   "outputs": [],
   "source": [
    "y"
   ]
  },
  {
   "cell_type": "code",
   "execution_count": null,
   "metadata": {
    "collapsed": true
   },
   "outputs": [],
   "source": [
    "from bokeh.plotting import figure, output_file, show"
   ]
  },
  {
   "cell_type": "code",
   "execution_count": null,
   "metadata": {
    "collapsed": false
   },
   "outputs": [],
   "source": [
    "output_file(\"lines.html\",title='line plt example')\n",
    "p = figure(title='simple line exampe', x_axis_label='x', y_axis_label='y')\n",
    "p.line(x,y, legend='Temp.\", line_width=2')\n",
    "show(p)"
   ]
  },
  {
   "cell_type": "markdown",
   "metadata": {
    "collapsed": true
   },
   "source": [
    "Parse emails "
   ]
  },
  {
   "cell_type": "code",
   "execution_count": 19,
   "metadata": {
    "collapsed": false
   },
   "outputs": [
    {
     "name": "stdout",
     "output_type": "stream",
     "text": [
      "7880\n",
      "crdonald78@gmail.com,\n",
      "drunderwood@frontier.com,\n",
      "chagwiza@gmail.com,\n",
      "kbradley@law.duke.edu,\n",
      "gregoryk619@gmail.com,\n",
      "susannalambert@gmail.com,\n",
      "Sarah@mcgiverin.net,\n",
      "fredmasonjr@yahoo.com,\n",
      "dlarson99@gmail.com,\n",
      "mollieflowe@hotmail.com,\n",
      "mitia_murray@frontier.com,\n",
      "paradrake@gmail.com,\n",
      "imani.asako@gmail.com,\n",
      "reedmcnitzky@gmail.com,\n",
      "fuller.sasser@gmail.com,\n",
      "anna.kihm@gmail.com,\n",
      "mrspudray@aol.com,\n",
      "eacdoug@icloud.com,\n",
      "jhmpearson@yahoo.com,\n",
      "ezriderrandy@yahoo.com,\n",
      "lynxstoob@yahoo.com,\n",
      "afkrueger@gmail.com,\n",
      "nicolesibalo@gmail.com,\n",
      "gairmcc@dukememorial.org,\n",
      "thomas.crichlow@gmail.com,\n",
      "tyrhudy@gmail.com,\n",
      "jennifer.n.fitts@gmail.com,\n",
      "theartofthepurse@gmail.com,\n",
      "heather@dukememorial.org,\n",
      "donna.elium@duke.edu,\n",
      "hazel.ryon@gmail.com,\n",
      "taladk@mindspring.com,\n",
      "ricks.jennifer@gmail.com,\n",
      "stuw615@aol.com,\n",
      "roger.loyd@duke.edu,\n",
      "lorraine.sease@gmail.com,\n",
      "jiasbill@dukememorial.org,\n",
      "gairmcc@frontier.com,\n",
      "skpiner@gmail.com,\n",
      "tchrist41@gmail.com,\n",
      "brown.doris10@gmail.com,\n",
      "jillsergison@gmail.com,\n",
      "daryl.riggins@gmail.com,\n",
      "billpg@dukememorial.org,\n",
      "carlrx@mac.com,\n",
      "juliewellis@yahoo.com,\n",
      "jrsmith906@nc.rr.com,\n",
      "Kellodie.Tassa@wholefoods.com,\n",
      "donmullen@gmail.com,\n",
      "barbara.deberry@nmfn.com,\n",
      "nadine.hoover@frontier.com,\n",
      "dani@zapfam.com,\n",
      "dudelangford@gmail.com,\n",
      "pjskcs02@nc.rr.com,\n",
      "lrlnccpa@nc.rr.com,\n",
      "beverly@campchestnutridge.org,\n",
      "tim.langford@ncmail.net,\n",
      "jaclynjewett@yahoo.com,\n",
      "ada.ambr@gmail.com,\n",
      "william.hodder722@frontier.com,\n",
      "tammi.brooks@gmail.com,\n",
      "timothy.turkington@duke.edu,\n",
      "rosasteele966@yahoo.com,\n",
      "revlhc@gmail.com,\n",
      "labor4evr@aol.com,\n",
      "msunflower47@aol.com,\n",
      "allison.saito@duke.edu,\n",
      "hallma7@frontier.com,\n",
      "selium@msn.com,\n",
      "stuart.wells@duke.edu,\n",
      "lorilocks@yahoo.com,\n",
      "sprague@nc.rr.com,\n",
      "mpeters4@nc.rr.com,\n",
      "savannah.ponder@duke.edu,\n",
      "harrietputman@dukememorial.org,\n",
      "m.todd.evans@gmail.com,\n",
      "lgalbreath@gmail.com,\n",
      "astrahley@gmail.com,\n",
      "beverly.benton@gmail.com,\n",
      "dmarshall@div.duke.edu,\n",
      "mritchie@nc.rr.com,\n",
      "mattwood50@gmail.com,\n",
      "fayjames1940@yahoo.com,\n",
      "Sasser.Erika@epamail.epa.gov,\n",
      "jhardin01@gmail.com,\n",
      "DBurch@icfconsulting.com,\n",
      "cyril@dukememorial.org,\n",
      "ginnyg@nc.rr.com,\n",
      "jhgarman@garmanhomes.biz,\n",
      "carlyjm@hotmail.com,\n",
      "ximenacolopy@gmail.com,\n",
      "kdbyers@gmail.com,\n",
      "rebecca.r.donald@gmail.com,\n",
      "jhcoman@hotmail.com,\n",
      "saasbill@gmail.com,\n",
      "selium@dksa-tsi.com,\n",
      "mariewspiller@gmail.com,\n",
      "anthonydnicholson@gmail.com,\n",
      "elizabeth.carter@duke.edu,\n",
      "bird.langford@gmail.com,\n",
      "calscigal@gmail.com,\n",
      "drwoodymason@gmail.com,\n",
      "hhspeight@gmail.com,\n",
      "cullenmckenney@dukememorial.org,\n",
      "pandbbutterw@earthlink.net,\n",
      "barbara.gillmer@gmail.com,\n",
      "cheymans@austin.rr.com,\n",
      "katherine.garman@duke.edu,\n",
      "hinsonmiller@gmail.com,\n",
      "gelinnela@gmail.com,\n",
      "wsmith@div.duke.edu,\n",
      "karalyncolopy@gmail.com,\n",
      "will@duke.edu,\n",
      "stellapsmith@frontier.com,\n",
      "ecbaldwin@gmail.com,\n",
      "eeferg@gmail.com,\n",
      "Knopp.barbara@gmail.com,\n",
      "sturkington@nc.rr.com,\n",
      "anne.marie.boyd@duke.edu,\n",
      "lisa.kukla2010@gmail.com,\n",
      "r.sears@duke.edu,\n",
      "johnstonmb@yahoo.com,\n",
      "aaroncom2005@gmail.com,\n",
      "louiserollins@mindspring.com,\n",
      "stuart.harrell@gmail.com,\n",
      "john.tassa@icloud.com,\n",
      "martosull@aol.com,\n",
      "john.legge@duke.edu,\n",
      "chris.kukla@responsiblelending.org,\n",
      "sconkmil@yahoo.com,\n",
      "willshingleton@gmail.com,\n",
      "miketwdavis@gmail.com,\n",
      "fdowell@nc.rr.com,\n",
      "pwillimon@gmail.com,\n",
      "brownfr52@gmail.com,\n",
      "smcfall2001@yahoo.com,\n",
      "ericmillercarolina@gmail.com,\n",
      "sbrennan150@gmail.com,\n",
      "kdoughty1@nc.rr.com,\n",
      "arwilliams28@gmail.com,\n",
      "deannaayers@yahoo.com,\n"
     ]
    }
   ],
   "source": [
    "str = \"Doris Brown <brown.doris10@gmail.com>, Patsy Willimon <pwillimon@gmail.com>, Katie Gregory <gregoryk619@gmail.com>, Ray James <fayjames1940@yahoo.com>, Margaret Johnston <johnstonmb@yahoo.com>, Jennifer Fitts <jennifer.n.fitts@gmail.com>, Shelley Piner Rhudy <skpiner@gmail.com>, Kimbie Sprague <sprague@nc.rr.com>, Fuller Sasser <fuller.sasser@gmail.com>, Harriet Putman <harrietputman@dukememorial.org>, Jane Ray <mrspudray@aol.com>, Martha McNair <msunflower47@aol.com>, Harold and Holly Speight <hhspeight@gmail.com>, Christine Hodder <william.hodder722@frontier.com>, Murray Simpson <mitia_murray@frontier.com>, Melody Peters <mpeters4@nc.rr.com>, Will Willimon <will@duke.edu>, David Marshall <dmarshall@div.duke.edu>, Barbara DeBerry <barbara.deberry@nmfn.com>, Judy Hilliard Coman <jhcoman@hotmail.com>, Tom Adkinson <taladk@mindspring.com>, Lee Ann Gelinne <gelinnela@gmail.com>, Tony Nicholson <anthonydnicholson@gmail.com>, Katie Byers <kdbyers@gmail.com>, Roger Loyd <roger.loyd@duke.edu>, Marty O'Sullivan <martosull@aol.com>, Phyllis Ponder <pandbbutterw@earthlink.net>, Hazel Ryon <hazel.ryon@gmail.com>, lorilocks@yahoo.com <lorilocks@yahoo.com>, Shannon Conklin-Miller <sconkmil@yahoo.com>, Stephanie Brennan <sbrennan150@gmail.com>, Jerry Smith <jrsmith906@nc.rr.com>, Ada Milenkovic Brown <ada.ambr@gmail.com>, Frank Brown <brownfr52@gmail.com>, Lorraine Sease <lorraine.sease@gmail.com>, miketwdavis@gmail.com <miketwdavis@gmail.com>, Adam & Marie Spiller <mariewspiller@gmail.com>, tchrist41@gmail.com <tchrist41@gmail.com>, Ginny Ghezzo <ginnyg@nc.rr.com>, <louiserollins@mindspring.com> <louiserollins@mindspring.com>, savannah.ponder@duke.edu <savannah.ponder@duke.edu>, Allison Saito <allison.saito@duke.edu>, Jay Davis <labor4evr@aol.com>, nancy.lockamy208@gmail.com, David Larson <dlarson99@gmail.com>, brittany.goff@ge.com, Art Krueger <afkrueger@gmail.com>, Sylvia Perry <theartofthepurse@gmail.com>, Frances Dowell <fdowell@nc.rr.com>, Spencer.cullom@duke.edu, Susan McFall <smcfall2001@yahoo.com>, Matthew Wood <mattwood50@gmail.com>, Daryl Riggins <daryl.riggins@gmail.com>, Cheryl Heymans <cheymans@austin.rr.com>, Jill Sergison <jillsergison@gmail.com>, elizabeth.carter@duke.edu <elizabeth.carter@duke.edu>, Kimberly C. Doughty <kdoughty1@nc.rr.com>, julie ellis <juliewellis@yahoo.com>, Reed McNitzky <reedmcnitzky@gmail.com>, Aaron Braun <aaroncom2005@gmail.com>, Barbara Gillmer <barbara.gillmer@gmail.com>, Beverly Christian <beverly.benton@gmail.com>, John Tassa <john.tassa@icloud.com>, Kellodie Tassa <Kellodie.Tassa@wholefoods.com>, Chris Donald <crdonald78@gmail.com>, Rebecca Donald <rebecca.r.donald@gmail.com>, averette@mindspring.com, ricks.jennifer@gmail.com <ricks.jennifer@gmail.com>, Doug Dickerson <eacdoug@icloud.com>, Ximena Colopy <ximenacolopy@gmail.com>, Gair McCullough <gairmcc@frontier.com>, Danielle Zapotoczny <dani@zapfam.com>, don@dlemmon.com, Ashley Strahley <astrahley@gmail.com>, Cullen McKenney <cullenmckenney@dukememorial.org>, Daryl Riggins <daryl.riggins@gmail.com>, Don Mullen <donmullen@gmail.com>, Doris Brown <brown.doris10@gmail.com>, Heather Rodrigues <heather@dukememorial.org>, Jay Davis <labor4evr@aol.com>, Jennifer Shingleton <ricks.jennifer@gmail.com>, John Legge <john.legge@duke.edu>, John Tassa <john.tassa@icloud.com>, Karalyn Colopy <karalyncolopy@gmail.com>, Kathryn Bradley <kbradley@law.duke.edu>, Katie Byers <kdbyers@gmail.com>, Kimbie Sprague <sprague@nc.rr.com>, Kristen Brown <calscigal@gmail.com>, Mark Evans <m.todd.evans@gmail.com>, Matthew Wood <mattwood50@gmail.com>, Roger Loyd <roger.loyd@duke.edu>, Seth Asbill <saasbill@gmail.com>, Tammi Brooks <tammi.brooks@gmail.com>, Thomas Crichlow <thomas.crichlow@gmail.com>, Ty Rhudy <tyrhudy@gmail.com>, Will Shingleton <willshingleton@gmail.com>, Stuart Harrell <stuart.harrell@gmail.com>, Ginny Ghezzo <ginnyg@nc.rr.com>, Ann Hall (hallma7@frontier.com) <hallma7@frontier.com>, Anne Boyd <anne.marie.boyd@duke.edu>, Barbara Deberry <barbara.deberry@nmfn.com>, Barbara Gillmer <barbara.gillmer@gmail.com>, Barbara Knopp <Knopp.barbara@gmail.com>, Chris Kukla <chris.kukla@responsiblelending.org>, David Burch <DBurch@icfconsulting.com>, Don Underwood <drunderwood@frontier.com>, Donna Elium <donna.elium@duke.edu>, Emily Fuemmeler <ecbaldwin@gmail.com>, Erika Sasser <Sasser.Erika@epamail.epa.gov>, Fuller Sasser <fuller.sasser@gmail.com>, Gair McCullough <gairmcc@dukememorial.org>, Harriet Putman <harrietputman@dukememorial.org>, Beverly Benton <beverly@campchestnutridge.org>, J. Warren Smith <wsmith@div.duke.edu>, Jim Garman <jhgarman@garmanhomes.biz>, John Hardin <jhardin01@gmail.com>, Julie Ellis <juliewellis@yahoo.com>, Roger Loyd <roger.loyd@duke.edu>, Karalyn Colopy <karalyncolopy@gmail.com>, Katherine Garman, M.D. <katherine.garman@duke.edu>, Kim Doughty <kdoughty1@nc.rr.com>, Kimbie Sprague <sprague@nc.rr.com>, Lee Galbreath <lgalbreath@gmail.com>, Leta Loyd <lrlnccpa@nc.rr.com>, Lisa Kukla <lisa.kukla2010@gmail.com>, Maurice Ritchie <mritchie@nc.rr.com>, Melody Peters <mpeters4@nc.rr.com>, Randy Ellis <ezriderrandy@yahoo.com>, Robin Langford <bird.langford@gmail.com>, Sandy 2 Elium <selium@msn.com>, Sandy Elium <selium@dksa-tsi.com>, Shelley Piner Rhudy <skpiner@gmail.com>, Shelley Turkington <sturkington@nc.rr.com>, Stella Patrick Smith <stellapsmith@frontier.com>, Stuart home Wells <stuw615@aol.com>, Stuart Wells <stuart.wells@duke.edu>, Susan McFall <smcfall2001@yahoo.com>, Tim 2 Langford <dudelangford@gmail.com>, Tim Langford <tim.langford@ncmail.net>, Timothy Turkington, Ph.D. <timothy.turkington@duke.edu>, Ty Rhudy <tyrhudy@gmail.com>, Jenn Fitts <jennifer.n.fitts@gmail.com>, mollieflowe@hotmail.com <mollieflowe@hotmail.com>, nadine.hoover@frontier.com <nadine.hoover@frontier.com>, hinsonmiller@gmail.com <hinsonmiller@gmail.com>, ericmillercarolina@gmail.com <ericmillercarolina@gmail.com>, Carl Abbott <carlrx@mac.com>, brownfr52@gmail.com <brownfr52@gmail.com>, susannalambert@gmail.com <susannalambert@gmail.com>, ada.ambr@gmail.com <ada.ambr@gmail.com>, revlhc@gmail.com <revlhc@gmail.com>, Sarah@mcgiverin.net <Sarah@mcgiverin.net>, rosasteele966@yahoo.com <rosasteele966@yahoo.com>, Beth Carter <elizabeth.carter@duke.edu>, billpg@dukememorial.org <billpg@dukememorial.org>, K.D. Byers <kdbyers@gmail.com>, anthonydnicholson@gmail.com <anthonydnicholson@gmail.com>, Matthew Wood <mattwood50@gmail.com>, jillsergison@gmail.com <jillsergison@gmail.com>, jiasbill@dukememorial.org <jiasbill@dukememorial.org>, Bill Palmieri-Guy <billpg@dukememorial.org>, Cyril Murphy <cyril@dukememorial.org>, April Williams <arwilliams28@gmail.com>, anna.kihm@gmail.com <anna.kihm@gmail.com>, Danielle Adams <imani.asako@gmail.com>, Carle Mason <drwoodymason@gmail.com>, pjskcs02@nc.rr.com <pjskcs02@nc.rr.com>, Eliza Ferguson <eeferg@gmail.com>, Lisa Pearson <jhmpearson@yahoo.com>, Marie Spiller <mariewspiller@gmail.com>, Fred Mason Jr. <fredmasonjr@yahoo.com>, fdowell@nc.rr.com <fdowell@nc.rr.com>, william.hodder722@frontier.com <william.hodder722@frontier.com>, Randy Sears <r.sears@duke.edu>, Deanna Ayers <deannaayers@yahoo.com>, Michael Davis <miketwdavis@gmail.com>, 'Will Shingleton' <willshingleton@gmail.com>, 'Carly Miller' <carlyjm@hotmail.com>, 'Jennifer Ricks Shingleton' <ricks.jennifer@gmail.com>, Para Drake <paradrake@gmail.com>, Daryl Riggins <daryl.riggins@gmail.com>, Doris Brown <brown.doris10@gmail.com>, joseph t. adkinson <taladk@mindspring.com>, lynxstoob@yahoo.com <lynxstoob@yahoo.com>, John Tassa <john.tassa@icloud.com>, ginnyg@nc.rr.com <ginnyg@nc.rr.com>, Cullen McKenney <cullenmckenney@dukememorial.org>, jiasbill@dukememorial.org <jiasbill@dukememorial.org>, Kellodie.Tassa@wholefoods.com <Kellodie.Tassa@wholefoods.com>, nicolesibalo@gmail.com <nicolesibalo@gmail.com>, chagwiza@gmail.com <chagwiza@gmail.com>, jaclynjewett@yahoo.com <jaclynjewett@yahoo.com>\" \n",
    "temp = ''\n",
    "friends = set()\n",
    "print(len(str))\n",
    "for i in range(len(str)):\n",
    "    if str[i] == '<':\n",
    "        i += 1\n",
    "        while str[i] != '>':\n",
    "            temp = temp + str[i]\n",
    "            i += 1\n",
    "        friends.add(temp)\n",
    "        temp = ''\n",
    "\n",
    "for x in friends:\n",
    "    print(x + ',')\n"
   ]
  },
  {
   "cell_type": "code",
   "execution_count": 9,
   "metadata": {
    "collapsed": false
   },
   "outputs": [
    {
     "data": {
      "text/plain": [
       "'1,5,6,10,12,14,15,16,17,19,22,24,26,28,29,31,32,35,36,38,40,43,44,48,49'"
      ]
     },
     "execution_count": 9,
     "metadata": {},
     "output_type": "execute_result"
    }
   ],
   "source": [
    "raffle = [1,14,35,28,49,5,24,16,26,44,12,48,6,43,36,40,38,10,22,31,19,17,32, 29,15]\n",
    "raffle.sort()\n",
    "str1 = ','.join(str(e) for e in raffle)\n",
    "str1"
   ]
  },
  {
   "cell_type": "code",
   "execution_count": 16,
   "metadata": {
    "collapsed": false,
    "scrolled": true
   },
   "outputs": [],
   "source": [
    "# looking at pydata meetup data \n",
    "df = pd.read_csv('PyData-Triangle_Member_List_on_03-04-18.csv', sep='\\t', encoding = 'latin1',error_bad_lines=False)"
   ]
  },
  {
   "cell_type": "code",
   "execution_count": 17,
   "metadata": {
    "collapsed": false
   },
   "outputs": [
    {
     "data": {
      "text/html": [
       "<div>\n",
       "<table border=\"1\" class=\"dataframe\">\n",
       "  <thead>\n",
       "    <tr style=\"text-align: right;\">\n",
       "      <th></th>\n",
       "      <th>Name</th>\n",
       "      <th>User ID</th>\n",
       "      <th>Title</th>\n",
       "      <th>Member ID</th>\n",
       "      <th>Location</th>\n",
       "      <th>Joined Group on</th>\n",
       "      <th>Last visited group on</th>\n",
       "      <th>Last Attended</th>\n",
       "      <th>Total RSVPs</th>\n",
       "      <th>RSVPed Yes</th>\n",
       "      <th>RSVPed Maybe</th>\n",
       "      <th>RSVPed No</th>\n",
       "      <th>Meetups attended</th>\n",
       "      <th>No shows</th>\n",
       "      <th>Intro</th>\n",
       "      <th>Photo</th>\n",
       "      <th>Assistant Organizer</th>\n",
       "      <th>Mailing List</th>\n",
       "      <th>URL of Member Profile</th>\n",
       "      <th>What's your connection to data science with Python?</th>\n",
       "    </tr>\n",
       "  </thead>\n",
       "  <tbody>\n",
       "    <tr>\n",
       "      <th>0</th>\n",
       "      <td>NIjee Brown</td>\n",
       "      <td>user 212643014</td>\n",
       "      <td>NaN</td>\n",
       "      <td>212643014</td>\n",
       "      <td>Durham, NC</td>\n",
       "      <td>09/10/16</td>\n",
       "      <td>09/10/16</td>\n",
       "      <td>NaN</td>\n",
       "      <td>0</td>\n",
       "      <td>0</td>\n",
       "      <td>0</td>\n",
       "      <td>0</td>\n",
       "      <td>0</td>\n",
       "      <td>0</td>\n",
       "      <td>No</td>\n",
       "      <td>No</td>\n",
       "      <td>No</td>\n",
       "      <td>Yes</td>\n",
       "      <td>https://www.meetup.com/PyData-Triangle/members...</td>\n",
       "      <td>NaN</td>\n",
       "    </tr>\n",
       "    <tr>\n",
       "      <th>1</th>\n",
       "      <td>Aaron</td>\n",
       "      <td>user 221054277</td>\n",
       "      <td>NaN</td>\n",
       "      <td>221054277</td>\n",
       "      <td>Charlotte, NC</td>\n",
       "      <td>01/30/17</td>\n",
       "      <td>05/10/17</td>\n",
       "      <td>05/03/17</td>\n",
       "      <td>2</td>\n",
       "      <td>2</td>\n",
       "      <td>0</td>\n",
       "      <td>0</td>\n",
       "      <td>2</td>\n",
       "      <td>0</td>\n",
       "      <td>No</td>\n",
       "      <td>No</td>\n",
       "      <td>No</td>\n",
       "      <td>Yes</td>\n",
       "      <td>https://www.meetup.com/PyData-Triangle/members...</td>\n",
       "      <td>I'm a data scientist at Cisco.</td>\n",
       "    </tr>\n",
       "    <tr>\n",
       "      <th>2</th>\n",
       "      <td>Abhimanyu Jataria</td>\n",
       "      <td>user 230595747</td>\n",
       "      <td>NaN</td>\n",
       "      <td>230595747</td>\n",
       "      <td>Cary, NC</td>\n",
       "      <td>07/14/17</td>\n",
       "      <td>08/07/17</td>\n",
       "      <td>11/01/17</td>\n",
       "      <td>2</td>\n",
       "      <td>2</td>\n",
       "      <td>0</td>\n",
       "      <td>0</td>\n",
       "      <td>2</td>\n",
       "      <td>0</td>\n",
       "      <td>No</td>\n",
       "      <td>Yes</td>\n",
       "      <td>No</td>\n",
       "      <td>Yes</td>\n",
       "      <td>https://www.meetup.com/PyData-Triangle/members...</td>\n",
       "      <td>I am doing Master in Computer Science with Dat...</td>\n",
       "    </tr>\n",
       "    <tr>\n",
       "      <th>3</th>\n",
       "      <td>Abhishek Upadhyaya</td>\n",
       "      <td>user 199261630</td>\n",
       "      <td>NaN</td>\n",
       "      <td>199261630</td>\n",
       "      <td>Morrisville, NC</td>\n",
       "      <td>06/13/16</td>\n",
       "      <td>02/07/18</td>\n",
       "      <td>09/15/16</td>\n",
       "      <td>3</td>\n",
       "      <td>2</td>\n",
       "      <td>0</td>\n",
       "      <td>1</td>\n",
       "      <td>1</td>\n",
       "      <td>0</td>\n",
       "      <td>No</td>\n",
       "      <td>Yes</td>\n",
       "      <td>No</td>\n",
       "      <td>Yes</td>\n",
       "      <td>https://www.meetup.com/PyData-Triangle/members...</td>\n",
       "      <td>NaN</td>\n",
       "    </tr>\n",
       "    <tr>\n",
       "      <th>4</th>\n",
       "      <td>Alberto Vargas</td>\n",
       "      <td>user 234815202</td>\n",
       "      <td>NaN</td>\n",
       "      <td>234815202</td>\n",
       "      <td>Chapel Hill, NC</td>\n",
       "      <td>08/24/17</td>\n",
       "      <td>08/24/17</td>\n",
       "      <td>NaN</td>\n",
       "      <td>0</td>\n",
       "      <td>0</td>\n",
       "      <td>0</td>\n",
       "      <td>0</td>\n",
       "      <td>0</td>\n",
       "      <td>0</td>\n",
       "      <td>No</td>\n",
       "      <td>Yes</td>\n",
       "      <td>No</td>\n",
       "      <td>Yes</td>\n",
       "      <td>https://www.meetup.com/PyData-Triangle/members...</td>\n",
       "      <td>I am a new Python learner and want to use it t...</td>\n",
       "    </tr>\n",
       "  </tbody>\n",
       "</table>\n",
       "</div>"
      ],
      "text/plain": [
       "                 Name         User ID  Title  Member ID         Location  \\\n",
       "0         NIjee Brown  user 212643014    NaN  212643014       Durham, NC   \n",
       "1               Aaron  user 221054277    NaN  221054277    Charlotte, NC   \n",
       "2   Abhimanyu Jataria  user 230595747    NaN  230595747         Cary, NC   \n",
       "3  Abhishek Upadhyaya  user 199261630    NaN  199261630  Morrisville, NC   \n",
       "4      Alberto Vargas  user 234815202    NaN  234815202  Chapel Hill, NC   \n",
       "\n",
       "  Joined Group on Last visited group on Last Attended  Total RSVPs  \\\n",
       "0        09/10/16              09/10/16           NaN            0   \n",
       "1        01/30/17              05/10/17      05/03/17            2   \n",
       "2        07/14/17              08/07/17      11/01/17            2   \n",
       "3        06/13/16              02/07/18      09/15/16            3   \n",
       "4        08/24/17              08/24/17           NaN            0   \n",
       "\n",
       "   RSVPed Yes  RSVPed Maybe  RSVPed No  Meetups attended  No shows Intro  \\\n",
       "0           0             0          0                 0         0    No   \n",
       "1           2             0          0                 2         0    No   \n",
       "2           2             0          0                 2         0    No   \n",
       "3           2             0          1                 1         0    No   \n",
       "4           0             0          0                 0         0    No   \n",
       "\n",
       "  Photo Assistant Organizer Mailing List  \\\n",
       "0    No                  No          Yes   \n",
       "1    No                  No          Yes   \n",
       "2   Yes                  No          Yes   \n",
       "3   Yes                  No          Yes   \n",
       "4   Yes                  No          Yes   \n",
       "\n",
       "                               URL of Member Profile  \\\n",
       "0  https://www.meetup.com/PyData-Triangle/members...   \n",
       "1  https://www.meetup.com/PyData-Triangle/members...   \n",
       "2  https://www.meetup.com/PyData-Triangle/members...   \n",
       "3  https://www.meetup.com/PyData-Triangle/members...   \n",
       "4  https://www.meetup.com/PyData-Triangle/members...   \n",
       "\n",
       "  What's your connection to data science with Python?  \n",
       "0                                                NaN   \n",
       "1                     I'm a data scientist at Cisco.   \n",
       "2  I am doing Master in Computer Science with Dat...   \n",
       "3                                                NaN   \n",
       "4  I am a new Python learner and want to use it t...   "
      ]
     },
     "execution_count": 17,
     "metadata": {},
     "output_type": "execute_result"
    }
   ],
   "source": [
    "df.head()"
   ]
  },
  {
   "cell_type": "code",
   "execution_count": 22,
   "metadata": {
    "collapsed": false
   },
   "outputs": [
    {
     "data": {
      "text/plain": [
       "Index(['Name', 'User ID', 'Title', 'Member ID', 'Location', 'Joined Group on',\n",
       "       'Last visited group on', 'Last Attended', 'Total RSVPs', 'RSVPed Yes',\n",
       "       'RSVPed Maybe', 'RSVPed No', 'Meetups attended', 'No shows', 'Intro',\n",
       "       'Photo', 'Assistant Organizer', 'Mailing List', 'URL of Member Profile',\n",
       "       'What's your connection to data science with Python?'],\n",
       "      dtype='object')"
      ]
     },
     "execution_count": 22,
     "metadata": {},
     "output_type": "execute_result"
    }
   ],
   "source": [
    "df.columns"
   ]
  },
  {
   "cell_type": "code",
   "execution_count": 25,
   "metadata": {
    "collapsed": false
   },
   "outputs": [
    {
     "data": {
      "text/plain": [
       "Name                                                    object\n",
       "User ID                                                 object\n",
       "Title                                                  float64\n",
       "Member ID                                                int64\n",
       "Location                                                object\n",
       "Joined Group on                                         object\n",
       "Last visited group on                                   object\n",
       "Last Attended                                           object\n",
       "Total RSVPs                                              int64\n",
       "RSVPed Yes                                               int64\n",
       "RSVPed Maybe                                             int64\n",
       "RSVPed No                                                int64\n",
       "Meetups attended                                         int64\n",
       "No shows                                                 int64\n",
       "Intro                                                   object\n",
       "Photo                                                   object\n",
       "Assistant Organizer                                     object\n",
       "Mailing List                                            object\n",
       "URL of Member Profile                                   object\n",
       "What's your connection to data science with Python?     object\n",
       "dtype: object"
      ]
     },
     "execution_count": 25,
     "metadata": {},
     "output_type": "execute_result"
    }
   ],
   "source": [
    "df.dtypes"
   ]
  },
  {
   "cell_type": "code",
   "execution_count": 30,
   "metadata": {
    "collapsed": false
   },
   "outputs": [
    {
     "data": {
      "text/plain": [
       "0                                                    NaN\n",
       "1                         I'm a data scientist at Cisco.\n",
       "2      I am doing Master in Computer Science with Dat...\n",
       "3                                                    NaN\n",
       "4      I am a new Python learner and want to use it t...\n",
       "5      I am learning the Python libraries such as num...\n",
       "6      Data gathering, data management, and data visu...\n",
       "7      Data analysis and compound bioactivity predict...\n",
       "8      Currently, taking deep learning course with fa...\n",
       "9                                                    NaN\n",
       "10                         Love Apache Spark and PySpark\n",
       "11            This is what I do for a living. I like it!\n",
       "12                                                   NaN\n",
       "13                         Use Pandas and Jupyter @ work\n",
       "14     Biological grad student that uses Python to an...\n",
       "15                                                   NaN\n",
       "16     I have been known to solve data science proble...\n",
       "17     I do it every day. I work on a python-centric ...\n",
       "18     I manage an Open Source Analytics team and use...\n",
       "19     I use \\\"Julia\\\" as a Data Scientist, looking t...\n",
       "20     work on IBM Analytics group, where data scienc...\n",
       "21     I am a python developer with a degree in theor...\n",
       "22              Just starting out with machine learning.\n",
       "23                                                  Apil\n",
       "24                                                   NaN\n",
       "25     As a PhD graduate, I have used Python for bioi...\n",
       "26                                                   NaN\n",
       "27                                                   NaN\n",
       "28     I analyze data and create visualizations in Sp...\n",
       "29                                                   NaN\n",
       "                             ...                        \n",
       "467                                                  NaN\n",
       "468    I am professional Bioinformatician. I am going...\n",
       "469                               Used python in classes\n",
       "470                                            Data read\n",
       "471                                                  NaN\n",
       "472                                                  NaN\n",
       "473    Computer Scientist with passion for visualization\n",
       "474                                                  NaN\n",
       "475                                                  NaN\n",
       "476                            Neural Networks Developer\n",
       "477    Educational background in math & physics, some...\n",
       "478                                                  NaN\n",
       "479                               I minor in statistics.\n",
       "480    Data scientist who works in SAS and Stata; Sta...\n",
       "481    I use Python to automate report and dashboard ...\n",
       "482    I'm a professional Python programmer and I'm r...\n",
       "483    I use it in my job, and have a background in M...\n",
       "484                                          I <3 python\n",
       "485    I'm a research associate at NC State Universit...\n",
       "486                           Nope... graduate from Duke\n",
       "487                                      student in Duke\n",
       "488    I have used python in web scraping stuffs. I a...\n",
       "489                                                  NaN\n",
       "490                                                  NaN\n",
       "491    Looking to learn more to augment my primary wo...\n",
       "492                                                  NaN\n",
       "493                                                  NaN\n",
       "494                                           Enthusiast\n",
       "495                    Beginner, need to learn for work.\n",
       "496    I'm study in Master of Quantitative Management...\n",
       "Name: What's your connection to data science with Python?, dtype: object"
      ]
     },
     "execution_count": 30,
     "metadata": {},
     "output_type": "execute_result"
    }
   ],
   "source": [
    "df[\"What's your connection to data science with Python?\"]"
   ]
  },
  {
   "cell_type": "code",
   "execution_count": 34,
   "metadata": {
    "collapsed": false
   },
   "outputs": [],
   "source": [
    "df2 = pd.read_csv('PyData_Triangle_Q2-2018_Meetup.csv', sep='\\t', encoding = 'latin1',error_bad_lines=False)"
   ]
  },
  {
   "cell_type": "code",
   "execution_count": 35,
   "metadata": {
    "collapsed": false
   },
   "outputs": [
    {
     "data": {
      "text/plain": [
       "Name                                   object\n",
       "User ID                                object\n",
       "Title                                  object\n",
       "Event Host                             object\n",
       "RSVP                                   object\n",
       "Guests                                float64\n",
       "RSVPed on                              object\n",
       "Joined Group on                        object\n",
       "URL of Member Profile                  object\n",
       "What topics would you like to see?     object\n",
       "dtype: object"
      ]
     },
     "execution_count": 35,
     "metadata": {},
     "output_type": "execute_result"
    }
   ],
   "source": [
    "df2.dtypes"
   ]
  },
  {
   "cell_type": "code",
   "execution_count": 37,
   "metadata": {
    "collapsed": false
   },
   "outputs": [
    {
     "data": {
      "text/plain": [
       "array([nan, nan, nan, nan, nan, nan, nan, nan, nan, nan, 'Pytorch', nan,\n",
       "       nan, nan, nan, nan, nan, nan, nan, nan, nan, nan, 'Pandas', nan,\n",
       "       nan,\n",
       "       'Perhaps a demo/tutorial of deep learning, machine learning or natural language processing within a Jupyter notebook',\n",
       "       nan, nan, nan, nan, nan, nan, nan, nan, nan,\n",
       "       'Django and Flask framework', nan, nan, nan, nan, nan, nan, nan,\n",
       "       nan, nan, nan, nan], dtype=object)"
      ]
     },
     "execution_count": 37,
     "metadata": {},
     "output_type": "execute_result"
    }
   ],
   "source": [
    "df2['What topics would you like to see?'].values"
   ]
  },
  {
   "cell_type": "code",
   "execution_count": null,
   "metadata": {
    "collapsed": true
   },
   "outputs": [],
   "source": []
  }
 ],
 "metadata": {
  "anaconda-cloud": {},
  "kernelspec": {
   "display_name": "Python [default]",
   "language": "python",
   "name": "python3"
  },
  "language_info": {
   "codemirror_mode": {
    "name": "ipython",
    "version": 3
   },
   "file_extension": ".py",
   "mimetype": "text/x-python",
   "name": "python",
   "nbconvert_exporter": "python",
   "pygments_lexer": "ipython3",
   "version": "3.5.2"
  }
 },
 "nbformat": 4,
 "nbformat_minor": 1
}
