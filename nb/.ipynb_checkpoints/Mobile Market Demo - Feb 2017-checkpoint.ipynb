{
 "cells": [
  {
   "cell_type": "markdown",
   "metadata": {},
   "source": [
    "# Part 1 - Setup \n",
    "We will be using \n",
    "* PIL (Python Image Library) for getting the picture \n",
    "* pytesseract for the OCR (Object Character Recognition) \n",
    "* googlemaps and gmaps for mapping \n"
   ]
  },
  {
   "cell_type": "code",
   "execution_count": 31,
   "metadata": {
    "collapsed": false
   },
   "outputs": [],
   "source": [
    "from PIL import Image \n",
    "import pytesseract \n",
    "import googlemaps\n",
    "import gmaps as jupmap\n",
    "import sys \n",
    "from datetime import datetime\n",
    "\n",
    "# get my private keys for google maps and gmaps\n",
    "f = open('private.key', 'r')\n",
    "for line in f: \n",
    "    temp = line.rstrip('').replace(',','').replace('\\n','').split(\" \")\n",
    "    exec(temp[0])\n",
    "myMap = googlemaps.Client(key=googlemap_key)\n",
    "jupmap.configure(api_key=jupmap_key)"
   ]
  },
  {
   "cell_type": "markdown",
   "metadata": {},
   "source": [
    "# Part 2 - Use OCR to read the address \n",
    "On Android this can be done with Google Vision "
   ]
  },
  {
   "cell_type": "code",
   "execution_count": 27,
   "metadata": {
    "collapsed": false
   },
   "outputs": [
    {
     "name": "stdout",
     "output_type": "stream",
     "text": [
      "Gee Girl\n",
      "\n",
      "1234 My Street\n",
      "Durham, NC 27700\n",
      "1234 My Street, Durham, NC 27700\n",
      "2403 Englewood Ave, Durham, NC 27705\n"
     ]
    }
   ],
   "source": [
    "img = Image.open('mm_address.jpg')\n",
    "label = pytesseract.image_to_string(img)\n",
    "print(label)\n",
    "clientLocation = label.splitlines()[2] + ', ' + label.splitlines()[3]\n",
    "print(clientLocation)\n",
    "testLocation = '2403 Englewood Ave, Durham, NC 27705'\n",
    "print(testLocation)"
   ]
  },
  {
   "cell_type": "markdown",
   "metadata": {},
   "source": [
    "# Testing location \n",
    "This might not be neccessary as google will take addresses  "
   ]
  },
  {
   "cell_type": "code",
   "execution_count": 28,
   "metadata": {
    "collapsed": false
   },
   "outputs": [
    {
     "name": "stdout",
     "output_type": "stream",
     "text": [
      "36.0157788   -78.9322282\n",
      "[[35.995092, -78.8966271], [35.972583, -78.934848], [35.99659949999999, -78.9040012]]\n"
     ]
    }
   ],
   "source": [
    "testGeoCode = myMap.geocode(testLocation)[0]\n",
    "lat = testGeoCode.get('geometry').get('location').get('lat')\n",
    "lng = testGeoCode.get('geometry').get('location').get('lng')\n",
    "print(lat, ' ', lng )\n",
    "clientList = ['300 N Roxboro St, Durham, NC 27701','911 W Cornwallis Rd, Durham, NC 27707', '345 W Main Street, Durham, NC 27701' ]\n",
    "wp=[]\n",
    "for x in clientList:\n",
    "    testGeoCode = myMap.geocode(x)[0]\n",
    "    lat = testGeoCode.get('geometry').get('location').get('lat')\n",
    "    lng = testGeoCode.get('geometry').get('location').get('lng')\n",
    "    wp.append([lat,lng])\n",
    "print(wp)"
   ]
  },
  {
   "cell_type": "markdown",
   "metadata": {},
   "source": [
    "# Google Maps \n",
    "This api does not have a waypoint optimization \n",
    "Here are more details on how to do it: https://developers.google.com/maps/documentation/directions/intro "
   ]
  },
  {
   "cell_type": "code",
   "execution_count": 29,
   "metadata": {
    "collapsed": false
   },
   "outputs": [],
   "source": [
    "m = jupmap.Map()\n",
    "home = (36.0160282, -78.9321707)\n",
    "foodLion = (36.0193147,-78.9603636)\n",
    "church = (35.9969749, -78.9091543)\n",
    "dl = jupmap.directions_layer(church, home, waypoints=wp)\n",
    "#googlemaps has an optimize_waypoints=True but I can't find it in jupyter gmaps \n",
    "m.add_layer(dl)\n",
    "m"
   ]
  },
  {
   "cell_type": "code",
   "execution_count": null,
   "metadata": {
    "collapsed": true
   },
   "outputs": [],
   "source": []
  }
 ],
 "metadata": {
  "anaconda-cloud": {},
  "kernelspec": {
   "display_name": "Python [conda root]",
   "language": "python",
   "name": "conda-root-py"
  },
  "language_info": {
   "codemirror_mode": {
    "name": "ipython",
    "version": 3
   },
   "file_extension": ".py",
   "mimetype": "text/x-python",
   "name": "python",
   "nbconvert_exporter": "python",
   "pygments_lexer": "ipython3",
   "version": "3.5.2"
  },
  "widgets": {
   "state": {
    "b9867078d35c4f0685d77731f833f569": {
     "views": [
      {
       "cell_index": 3
      }
     ]
    }
   },
   "version": "1.2.0"
  }
 },
 "nbformat": 4,
 "nbformat_minor": 1
}
