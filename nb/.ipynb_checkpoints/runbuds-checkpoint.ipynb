{
 "cells": [
  {
   "cell_type": "code",
   "execution_count": 26,
   "metadata": {
    "collapsed": true
   },
   "outputs": [],
   "source": [
    "f = open(\"8k4.txt\", \"r\", encoding='utf8')\n",
    "sch = f.readlines()"
   ]
  },
  {
   "cell_type": "code",
   "execution_count": 47,
   "metadata": {
    "collapsed": false,
    "scrolled": true
   },
   "outputs": [
    {
     "name": "stdout",
     "output_type": "stream",
     "text": [
      "dict_keys(['week 4/10/17', '\\ufeffweek Starting, Mon, Tues, Wed, Thurs, Fri, Sat, Sun', 'week 5/1/17', 'Bull City 8K', 'week 5/8/17', 'week 5/22/17', 'week 5/15/17', 'week 4/17/17', 'week 4/24/17'])\n",
      "['start', '3-8 Miles @ Base Pace, 10‐15 min warm-‐up then 4/5 x  1K Fartlek. 10-‐15min cool down 3-‐8 Miles @Base Pace or Rest, 4-‐8 miles @ Base pace Rest,  or Train, 3-‐8 Miles Easy@ Base Pace or Rest, 6-‐10+ Miles', 'end']\n",
      "['start', \"3-‐8 Miles @ Base Pace or Rest, We'll be meeting @ Duke Track for a track workout (longer intervals), 3-‐8 Miles @ Base Pace or Rest, 10-‐15 min warm-‐up then start 8 x 1 min @ 10K effort  w/ 90 sec @ base between. 10-‐15 cool down Rest,  or Cross/Strength Train, 3-‐8 Miles Easy @ Base Pace or Rest, 6-‐10+ Miles\", 'end']\n"
     ]
    }
   ],
   "source": [
    "weeks = {}\n",
    "plan = ''\n",
    "past = 'Bull City 8K'\n",
    "for x in sch:\n",
    "    x = x.strip('\\n').strip(',')\n",
    "    # x = x.strip('Rest or')\n",
    "    x = x.replace(u'\\xad', u'')\n",
    "    x = x.replace(u'\\xa0', u' ')\n",
    "    if ('Rest' in x) or ('Train' in x):\n",
    "        x = x +', '\n",
    "    if ('intervals' in x ):\n",
    "        x = x + ', '\n",
    "    if ('cool down' in x ):\n",
    "        x = x + ', '\n",
    "    if 'week' in x:\n",
    "        weeks[past] = ['start',plan, 'end']\n",
    "        past = x\n",
    "        plan = ''\n",
    "    else:\n",
    "        plan = plan + x\n",
    "#print(weeks)\n",
    "print(weeks.keys())\n",
    "print(weeks['week 4/10/17'])\n",
    "print(weeks['week 4/17/17'])"
   ]
  },
  {
   "cell_type": "code",
   "execution_count": null,
   "metadata": {
    "collapsed": true
   },
   "outputs": [],
   "source": []
  }
 ],
 "metadata": {
  "anaconda-cloud": {},
  "kernelspec": {
   "display_name": "Python [default]",
   "language": "python",
   "name": "python3"
  },
  "language_info": {
   "codemirror_mode": {
    "name": "ipython",
    "version": 3
   },
   "file_extension": ".py",
   "mimetype": "text/x-python",
   "name": "python",
   "nbconvert_exporter": "python",
   "pygments_lexer": "ipython3",
   "version": "3.5.2"
  }
 },
 "nbformat": 4,
 "nbformat_minor": 1
}
