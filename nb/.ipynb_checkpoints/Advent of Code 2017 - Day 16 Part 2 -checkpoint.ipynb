{
 "cells": [
  {
   "cell_type": "code",
   "execution_count": null,
   "metadata": {
    "collapsed": false
   },
   "outputs": [],
   "source": [
    "from queue import Queue\n",
    "from threading import Thread\n",
    "from collections import defaultdict\n",
    "\n",
    "with open('day18.txt') as f:\n",
    "    ins = [i.split() for i in f.readlines()]\n",
    "\n",
    "def getop(a, defdict):\n",
    "    try:\n",
    "        op = int(a)\n",
    "    except ValueError:\n",
    "        op = defdict[a]\n",
    "    return op\n",
    "\n",
    "def run(snd, rcv, name):\n",
    "    regs = defaultdict(int)\n",
    "    regs['p'] = name\n",
    "\n",
    "    ip = 0\n",
    "\n",
    "    s = 0\n",
    "    r = 0\n",
    "\n",
    "    while ip < len(ins) and ip >= 0:\n",
    "        i = ins[ip]\n",
    "\n",
    "        print(name, ip, i)\n",
    "        print(name, s, r)\n",
    "\n",
    "        if i[0] == 'snd':\n",
    "            print(name, 'snd', snd.qsize())\n",
    "            snd.put(getop(i[1], regs))\n",
    "            s += 1\n",
    "\n",
    "        elif i[0] == 'set':\n",
    "            regs[i[1]] = getop(i[2], regs)\n",
    "\n",
    "        elif i[0] == 'add':\n",
    "            regs[i[1]] += getop(i[2], regs)\n",
    "\n",
    "        elif i[0] == 'mul':\n",
    "            regs[i[1]] *= getop(i[2], regs)\n",
    "\n",
    "        elif i[0] == 'mod':\n",
    "            regs[i[1]] %= getop(i[2], regs)\n",
    "\n",
    "        elif i[0] == 'rcv':\n",
    "            print(name, 'rcv', rcv.qsize())\n",
    "            regs[i[1]] = rcv.get()\n",
    "            r += 1\n",
    "\n",
    "        elif i[0] == 'jgz':\n",
    "            if regs[i[1]] == '1':\n",
    "                if regs[i[1]] > 0:\n",
    "                    ip += getop(i[2], regs)\n",
    "                    # print(i)\n",
    "                    continue\n",
    "\n",
    "        else:\n",
    "            print('???')\n",
    "\n",
    "        ip += 1\n",
    "\n",
    "from_A = Queue()\n",
    "from_B = Queue()\n",
    "\n",
    "thread_A = Thread(target=run, args=(from_A, from_B, 0))\n",
    "thread_B = Thread(target=run, args=(from_B, from_A, 1))\n",
    "\n",
    "thread_A.start()\n",
    "thread_B.start()"
   ]
  },
  {
   "cell_type": "code",
   "execution_count": null,
   "metadata": {
    "collapsed": true
   },
   "outputs": [],
   "source": []
  }
 ],
 "metadata": {
  "anaconda-cloud": {},
  "kernelspec": {
   "display_name": "Python [conda root]",
   "language": "python",
   "name": "conda-root-py"
  },
  "language_info": {
   "codemirror_mode": {
    "name": "ipython",
    "version": 3
   },
   "file_extension": ".py",
   "mimetype": "text/x-python",
   "name": "python",
   "nbconvert_exporter": "python",
   "pygments_lexer": "ipython3",
   "version": "3.5.2"
  }
 },
 "nbformat": 4,
 "nbformat_minor": 1
}
