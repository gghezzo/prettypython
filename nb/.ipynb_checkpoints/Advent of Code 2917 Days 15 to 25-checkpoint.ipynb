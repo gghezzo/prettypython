{
 "cells": [
  {
   "cell_type": "markdown",
   "metadata": {},
   "source": [
    "# Advent of Code Day 21 - Fractal Art - Gave up "
   ]
  },
  {
   "cell_type": "markdown",
   "metadata": {},
   "source": [
    "** Advent of Code Day 21 - Part 1 ** You find a program trying to generate some art. It uses a strange process that involves repeatedly enhancing the detail of an image through a set of rules.\n",
    "\n",
    "The image consists of a two-dimensional square grid of pixels that are either on (#) or off (.). The program always begins with this pattern:\n",
    "\n",
    ".#.\n",
    "..#\n",
    "###\n",
    "Because the pattern is both 3 pixels wide and 3 pixels tall, it is said to have a size of 3.\n",
    "\n",
    "Then, the program repeats the following process:\n",
    "\n",
    "If the size is evenly divisible by 2, break the pixels up into 2x2 squares, and convert each 2x2 square into a 3x3 square by following the corresponding enhancement rule.\n",
    "Otherwise, the size is evenly divisible by 3; break the pixels up into 3x3 squares, and convert each 3x3 square into a 4x4 square by following the corresponding enhancement rule.\n",
    "Because each square of pixels is replaced by a larger one, the image gains pixels and so its size increases.\n",
    "\n",
    "The artist's book of enhancement rules is nearby (your puzzle input); however, it seems to be missing rules. The artist explains that sometimes, one must rotate or flip the input pattern to find a match. (Never rotate or flip the output pattern, though.) Each pattern is written concisely: rows are listed as single units, ordered top-down, and separated by slashes. For example, the following rules correspond to the adjacent patterns:\n",
    "\n",
    "../.#  =  ..\n",
    "          .#\n",
    "\n",
    "                .#.\n",
    ".#./..#/###  =  ..#\n",
    "                ###\n",
    "\n",
    "                        #..#\n",
    "#..#/..../#..#/.##.  =  ....\n",
    "                        #..#\n",
    "                        .##.\n",
    "When searching for a rule to use, rotate and flip the pattern as necessary. For example, all of the following patterns match the same rule:\n",
    "\n",
    ".#.   .#.   #..   ###\n",
    "..#   #..   #.#   ..#\n",
    "###   ###   ##.   .#.\n",
    "Suppose the book contained the following two rules:\n",
    "\n",
    "../.# => ##./#../...\n",
    ".#./..#/### => #..#/..../..../#..#\n",
    "As before, the program begins with this pattern:\n",
    "\n",
    ".#.\n",
    "..#\n",
    "###\n",
    "The size of the grid (3) is not divisible by 2, but it is divisible by 3. It divides evenly into a single square; the square matches the second rule, which produces:\n",
    "\n",
    "#..#\n",
    "....\n",
    "....\n",
    "#..#\n",
    "The size of this enhanced grid (4) is evenly divisible by 2, so that rule is used. It divides evenly into four squares:\n",
    "\n",
    "#.|.#\n",
    "..|..\n",
    "--+--\n",
    "..|..\n",
    "#.|.#\n",
    "Each of these squares matches the same rule (../.# => ##./#../...), three of which require some flipping and rotation to line up with the rule. The output for the rule is the same in all four cases:\n",
    "\n",
    "##.|##.\n",
    "#..|#..\n",
    "...|...\n",
    "---+---\n",
    "##.|##.\n",
    "#..|#..\n",
    "...|...\n",
    "Finally, the squares are joined into a new grid:\n",
    "\n",
    "##.##.\n",
    "#..#..\n",
    "......\n",
    "##.##.\n",
    "#..#..\n",
    "......\n",
    "Thus, after 2 iterations, the grid contains 12 pixels that are on.\n",
    "\n",
    "How many pixels stay on after 5 iterations?"
   ]
  },
  {
   "cell_type": "code",
   "execution_count": null,
   "metadata": {
    "collapsed": false
   },
   "outputs": [],
   "source": [
    "# Setup the rules \n",
    "path = 'day21a.txt'\n",
    "with open(path, 'r') as file:\n",
    "    content = file.read().splitlines()\n",
    "tworule, threerule = {}, {}\n",
    "for key, value in enumerate(content):\n",
    "    infrom = content[key].rsplit('=>')[0].replace(\" \", \"\")\n",
    "    outto = content[key].rsplit('=>')[1].replace(\" \", \"\")\n",
    "    if (len(infrom)) == 5: \n",
    "        # add to tworule\n",
    "        tworule[infrom] = outto\n",
    "    elif (len(infrom)) == 11: \n",
    "        #add to threerule \n",
    "        threerule[infrom] = outto\n",
    "print(tworule.keys())\n",
    "print(threerule.keys())\n",
    "# TODO: Either make everything an array or everything a string "
   ]
  },
  {
   "cell_type": "code",
   "execution_count": null,
   "metadata": {
    "collapsed": true
   },
   "outputs": [],
   "source": [
    "def getOutput3(charm, rules, size):\n",
    "    if charm in rules:\n",
    "        return(rules[charm])\n",
    "    # 2 ghi\\def\\abc\n",
    "    charm2 = charm[-size:]  +'/'+charm[size+1:-(size+1)] +'/'+ charm[:size]\n",
    "    # print(\"2: \",charm2)\n",
    "    if charm2 in rules: \n",
    "        return(rules[charm2])\n",
    "    # 3 cba\\fed\\cba\n",
    "    charm3 = charm[:size][::-1] +'/'+ charm[size+1:-(size+1)][::-1]  +'/'+ charm[-size:][::-1] \n",
    "    # print(\"3: \",charm3)\n",
    "    if charm3 in rules: \n",
    "        return(rules[charm3])\n",
    "    # 4 gda\\heb\\ifc\n",
    "    charm4 = charm[8]+ charm[4]+charm[0]+'/'+ charm[9]+ charm[5]+charm[1] + '/'+ charm[10]+ charm[6]+charm[2]\n",
    "    # print(\"4: \",charm4)\n",
    "    if charm4 in rules: \n",
    "        return(rules[charm4])\n",
    "    # 5 ihg\\fed\\cba\n",
    "    charm5 = charm[-size:][::-1] +'/'+ charm[size+1:-(size+1)][::-1] +'/'+ charm[:size][::-1]\n",
    "    # print(\"5: \",charm5)\n",
    "    if charm5 in rules: \n",
    "        return(rules[charm5])\n",
    "    # 6 cfi/beh/adg\n",
    "    charm6 = charm[2]+ charm[6]+charm[10]+'/'+ charm[1]+ charm[5]+charm[9] + '/'+ charm[0]+ charm[4]+charm[8]\n",
    "    # print(\"6: \",charm6)\n",
    "    if charm6 in rules: \n",
    "        return(rules[charm6])\n",
    "    return(\"Houston we have a problem\")\n",
    "def getOutput2(charm, rules, size):\n",
    "    if charm in rules:\n",
    "        return(rules[charm])\n",
    "    # 2 cd/ab\n",
    "    charm2 = charm[-size:] +'/'+ charm[:size]\n",
    "    # print(\"2: \",charm2)\n",
    "    if charm2 in rules: \n",
    "        return(rules[charm2])\n",
    "    # 3 ba/dc\n",
    "    charm3 = charm[:size][::-1] +'/'+ charm[-size:][::-1] \n",
    "    # print(\"3: \",charm3)\n",
    "    if charm3 in rules: \n",
    "        return(rules[charm3])\n",
    "    # 4 dc/ba\n",
    "    charm4 = charm[-size:][::-1]  +'/'+ charm[:size][::-1]\n",
    "    # print(\"4: \",charm4)\n",
    "    if charm4 in rules: \n",
    "        return(rules[charm4])\n",
    "    # 5 ca/db \n",
    "    charm5 = charm[3] + charm[0] +'/'+ charm[4] + charm[1]\n",
    "    # print(\"5: \",charm5)\n",
    "    if charm5 in rules: \n",
    "        return(rules[charm5])\n",
    "    # 6 bd/ac\n",
    "    charm6 = charm[1] + charm[4] +'/'+ charm[0] + charm[3]\n",
    "    # print(\"6: \",charm6)\n",
    "    if charm6 in rules: \n",
    "        return(rules[charm6])\n",
    "    return(\"Houston we have a problem\")"
   ]
  },
  {
   "cell_type": "code",
   "execution_count": null,
   "metadata": {
    "collapsed": false
   },
   "outputs": [],
   "source": [
    "def oldenhanceart(art, rules, size):\n",
    "    #divide up the grid \n",
    "    charm = ''\n",
    "    gridsize = len(art) \n",
    "    newgridsize = int(gridsize + gridsize/size )\n",
    "    newart = [[off for x in range(newgridsize)] for y in range(newgridsize)]\n",
    "    for group in range(int((gridsize/size)**2)):\n",
    "        print(\" * Start processing Group \", group, \" of \",(gridsize/size)**2, \" to \", newgridsize )\n",
    "        charm = ''\n",
    "        #This is wrong\n",
    "        for x in range(size):\n",
    "            charm = art[]\n",
    "            print(\" This is X \", x, art[x][:size])\n",
    "            print(\" This is group \", group, art[group][:size])\n",
    "            charm = charm +  ''.join(art[x][:size]) + '/'\n",
    "        charm = charm[:-1]\n",
    "        print(\"   - The Charm:\", charm)\n",
    "        if size == 3: \n",
    "            output = getOutput3(charm, rules, size)\n",
    "        else:\n",
    "            output = getOutput2(charm, rules, size)\n",
    "        print(\"   - The output: \", output)\n",
    "        for keyx, valuex in enumerate(output.rsplit('/')):\n",
    "            for keyy, valuey in enumerate(valuex): \n",
    "                print(\"     - Keyx, keyy, valuey \", keyx, keyy, valuey)\n",
    "                newart[keyx][keyy] = valuey\n",
    "    return(newart)"
   ]
  },
  {
   "cell_type": "code",
   "execution_count": null,
   "metadata": {
    "collapsed": false
   },
   "outputs": [],
   "source": [
    "def enhanceart(art, rules, size):\n",
    "    #divide up the grid \n",
    "    charm = ''\n",
    "    gridsize = len(art) \n",
    "    newgridsize = int(gridsize + gridsize/size )\n",
    "    newart = [[off for x in range(newgridsize)] for y in range(newgridsize)]\n",
    "    myout = []\n",
    "    if gridsize % 2 == 0:\n",
    "        for y in range(0, gridsize, 2):\n",
    "            for x in range(0, gridsize, 2):\n",
    "                #print(art[y][x:x+2], art[y+1][x:x+2])\n",
    "                charm = ''.join(art[y][x:x+2]) + '/' +  ''.join(art[y+1][x:x+2])\n",
    "                output = getOutput2(charm, rules, 2)\n",
    "                myout.append(output)\n",
    "        c = 0 \n",
    "        for y in range(0, gridsize, 3):\n",
    "            for x in range(0, gridsize, 3): \n",
    "                newart[y][x:x+3] = myout[c].split('/')[0]\n",
    "                newart[y+1][x:x+3] = myout[c].split('/')[1]\n",
    "                newart[y+2][x:x+3] = myout[c].split('/')[2]\n",
    "                c = c + 1 \n",
    "\n",
    "    elif gridsize % 3 == 0:\n",
    "        for y in range(0, gridsize, 3):\n",
    "            for x in range(0, gridsize, 3):\n",
    "                # print(art[y][x:x+3], art[y+1][x:x+3], art[y+2][x:x+3])\n",
    "                charm =  ''.join(art[y][x:x+3]) + '/' +  ''.join(art[y+1][x:x+3]) + '/' +  ''.join(art[y+2][x:x+3])\n",
    "                print(charm)\n",
    "                output = getOutput3(charm, rules, 3)\n",
    "                # This still might be wrong. May need to do above \n",
    "                for keyx, valuex in enumerate(output.rsplit('/')):\n",
    "                    for keyy, valuey in enumerate(valuex): \n",
    "                        # print(\"     - Keyx, keyy, valuey \", keyx, keyy, valuey)\n",
    "                        newart[keyx][keyy] = valuey \n",
    "    \n",
    "    else: \n",
    "        print(\"Grid size is off \")\n",
    "    return(newart)"
   ]
  },
  {
   "cell_type": "code",
   "execution_count": null,
   "metadata": {
    "collapsed": false
   },
   "outputs": [],
   "source": [
    "# Setup initial grid \n",
    "on = '#'\n",
    "off = '.'\n",
    "art = [[off for x in range(3)] for y in range(3)]\n",
    "art[0][1], art[1][2] = on, on\n",
    "for i in range(3):\n",
    "    art[2][i] = on\n",
    "print(art)\n",
    "# TODO: Either make everything an array or everything a string "
   ]
  },
  {
   "cell_type": "code",
   "execution_count": null,
   "metadata": {
    "collapsed": false
   },
   "outputs": [],
   "source": [
    "strokes = 5   # puzzle iteration \n",
    "# strokes = 2   # sample iteration \n",
    "for z in range(strokes):\n",
    "    print('In:  ', art)\n",
    "    if (len(art) % 2) == 0:\n",
    "        # ehance art by rule \n",
    "        art = enhanceart(art, tworule, 2)\n",
    "    elif (len(art) % 3) == 0:\n",
    "        # ehance art by rule \n",
    "        art = enhanceart(art, threerule, 3)\n",
    "    else: \n",
    "        print(\"There is a problem with your art \")\n",
    "    print(\"out: \", art)\n",
    "    print(\" \")\n",
    "total = 0 \n",
    "for x in art:\n",
    "    total = total + x.count('#')\n",
    "print(total)"
   ]
  },
  {
   "cell_type": "markdown",
   "metadata": {},
   "source": [
    "** What I learned on day 21 ** \n",
    "* Use a slice to remove the last char ie  charm = charm[:-1] "
   ]
  },
  {
   "cell_type": "markdown",
   "metadata": {},
   "source": [
    "Advent of Code Day 19"
   ]
  },
  {
   "cell_type": "markdown",
   "metadata": {},
   "source": [
    "** Advent of Code Day 19 - Part 1 ** --- Day 19: A Series of Tubes ---\n",
    "Somehow, a network packet got lost and ended up here. It's trying to follow a routing diagram (your puzzle input), but it's confused about where to go.\n",
    "\n",
    "Its starting point is just off the top of the diagram. Lines (drawn with |, -, and +) show the path it needs to take, starting by going down onto the only line connected to the top of the diagram. It needs to follow this path until it reaches the end (located somewhere within the diagram) and stop there.\n",
    "\n",
    "Sometimes, the lines cross over each other; in these cases, it needs to continue going the same direction, and only turn left or right when there's no other option. In addition, someone has left letters on the line; these also don't change its direction, but it can use them to keep track of where it's been. For example:\n",
    "\n",
    "     |          \n",
    "     |  +--+    \n",
    "     A  |  C    \n",
    " F---|----E|--+ \n",
    "     |  |  |  D \n",
    "     +B-+  +--+ \n",
    "\n",
    "Given this diagram, the packet needs to take the following path:\n",
    "\n",
    "Starting at the only line touching the top of the diagram, it must go down, pass through A, and continue onward to the first +.\n",
    "Travel right, up, and right, passing through B in the process.\n",
    "Continue down (collecting C), right, and up (collecting D).\n",
    "Finally, go all the way left through E and stopping at F.\n",
    "Following the path to the end, the letters it sees on its path are ABCDEF.\n",
    "\n",
    "The little packet looks up at you, hoping you can help it find the way. What letters will it see (in the order it would see them) if it follows the path? (The routing diagram is very wide; make sure you view it without line wrapping.)"
   ]
  },
  {
   "cell_type": "code",
   "execution_count": null,
   "metadata": {
    "collapsed": false
   },
   "outputs": [],
   "source": [
    "path = 'day19a.txt'\n",
    "with open(path, 'r') as file:\n",
    "    content = file.read().splitlines()\n",
    "for line in content:\n",
    "    print(line)"
   ]
  },
  {
   "cell_type": "code",
   "execution_count": null,
   "metadata": {
    "collapsed": false
   },
   "outputs": [],
   "source": [
    "print(content[0][5])"
   ]
  },
  {
   "cell_type": "markdown",
   "metadata": {},
   "source": [
    "# Advent of Code Day 18 -  Gave up on Part 2 "
   ]
  },
  {
   "cell_type": "code",
   "execution_count": null,
   "metadata": {
    "collapsed": true
   },
   "outputs": [],
   "source": [
    "** Advent of Code Day 18 - Part 1 ** You discover a tablet containing some strange assembly code labeled simply \"Duet\". Rather than bother the sound card with it, you decide to run the code yourself. Unfortunately, you don't see any documentation, so you're left to figure out what the instructions mean on your own.\n",
    "\n",
    "It seems like the assembly is meant to operate on a set of registers that are each named with a single letter and that can each hold a single integer. You suppose each register should start with a value of 0.\n",
    "\n",
    "There aren't that many instructions, so it shouldn't be hard to figure out what they do. Here's what you determine:\n",
    "\n",
    "snd X plays a sound with a frequency equal to the value of X.\n",
    "set X Y sets register X to the value of Y.\n",
    "add X Y increases register X by the value of Y.\n",
    "mul X Y sets register X to the result of multiplying the value contained in register X by the value of Y.\n",
    "mod X Y sets register X to the remainder of dividing the value contained in register X by the value of Y (that is, it sets X to the result of X modulo Y).\n",
    "rcv X recovers the frequency of the last sound played, but only when the value of X is not zero. (If it is zero, the command does nothing.)\n",
    "jgz X Y jumps with an offset of the value of Y, but only if the value of X is greater than zero. (An offset of 2 skips the next instruction, an offset of -1 jumps to the previous instruction, and so on.)\n",
    "Many of the instructions can take either a register (a single letter) or a number. The value of a register is the integer it contains; the value of a number is that number.\n",
    "\n",
    "After each jump instruction, the program continues with the instruction to which the jump jumped. After any other instruction, the program continues with the next instruction. Continuing (or jumping) off either end of the program terminates it.\n",
    "\n",
    "For example:\n",
    "\n",
    "set a 1\n",
    "add a 2\n",
    "mul a a\n",
    "mod a 5\n",
    "snd a\n",
    "set a 0\n",
    "rcv a\n",
    "jgz a -1\n",
    "set a 1\n",
    "jgz a -2\n",
    "The first four instructions set a to 1, add 2 to it, square it, and then set it to itself modulo 5, resulting in a value of 4.\n",
    "Then, a sound with frequency 4 (the value of a) is played.\n",
    "After that, a is set to 0, causing the subsequent rcv and jgz instructions to both be skipped (rcv because a is 0, and jgz because a is not greater than 0).\n",
    "Finally, a is set to 1, causing the next jgz instruction to activate, jumping back two instructions to another jump, which jumps again to the rcv, which ultimately triggers the recover operation.\n",
    "At the time the recover operation is executed, the frequency of the last sound played is 4.\n",
    "\n",
    "What is the value of the recovered frequency (the value of the most recently played sound) the first time a rcv instruction is executed with a non-zero value?\n",
    "\n",
    "To begin, get your puzzle input."
   ]
  },
  {
   "cell_type": "code",
   "execution_count": null,
   "metadata": {
    "collapsed": false
   },
   "outputs": [],
   "source": [
    "import string\n",
    "path = 'day18a.txt'\n",
    "with open(path, 'r') as file:\n",
    "    content = file.read().split('\\n')\n",
    "print(content)\n",
    "print(len(content))"
   ]
  },
  {
   "cell_type": "code",
   "execution_count": null,
   "metadata": {
    "collapsed": false,
    "scrolled": true
   },
   "outputs": [],
   "source": [
    "registers = {}\n",
    "# get all the registers \n",
    "for line in content:\n",
    "    registers[(line.split(' ')[1])] = 0\n",
    "print(registers)\n",
    "frequency = 0\n",
    "# loop through the instructions \n",
    "x = 0 \n",
    "while x < len(content) and x > -1:\n",
    "    line = content[x]\n",
    "    chop = line.split(' ')\n",
    "    instruction = chop[0]\n",
    "    reg = chop[1] \n",
    "    if len(chop) > 2:\n",
    "        try: \n",
    "            value = int(chop[2]) \n",
    "        except: \n",
    "            value = int(registers[chop[2]])\n",
    "    #print(\"Process this \", line, \" == \", instruction, reg, value)\n",
    "    if instruction == 'snd':\n",
    "        frequency = registers[reg]\n",
    "    elif instruction == 'set':\n",
    "        registers[reg] = int(value)\n",
    "    elif instruction == 'add':\n",
    "        registers[reg] = registers[reg] + (value)\n",
    "    elif instruction == 'mul':\n",
    "        registers[reg] = registers[reg] * value\n",
    "    elif instruction == 'mod':\n",
    "        registers[reg] = registers[reg] % (value)\n",
    "    elif instruction == 'rcv':\n",
    "        if registers[reg] != 0:\n",
    "            registers[reg] = frequency\n",
    "            x = -5\n",
    "    elif instruction == 'jgz':\n",
    "        if registers[reg] > 0:\n",
    "            x = x + (value) - 1 \n",
    "            # print(\"JUMP: \", x, value)\n",
    "    else: \n",
    "        print(\"Something wrong with the instruction \", instruction )\n",
    "    x = x + 1\n",
    "    # print(\"The new value of X is \", x )\n",
    "print(\"   The value is \", frequency)"
   ]
  },
  {
   "cell_type": "markdown",
   "metadata": {},
   "source": [
    "** Advent of Code Day 18 - Part 2 ** As you congratulate yourself for a job well done, you notice that the documentation has been on the back of the tablet this entire time. While you actually got most of the instructions correct, there are a few key differences. This assembly code isn't about sound at all - it's meant to be run twice at the same time.\n",
    "\n",
    "Each running copy of the program has its own set of registers and follows the code independently - in fact, the programs don't even necessarily run at the same speed. To coordinate, they use the send (snd) and receive (rcv) instructions:\n",
    "\n",
    "snd X sends the value of X to the other program. These values wait in a queue until that program is ready to receive them. Each program has its own message queue, so a program can never receive a message it sent.\n",
    "rcv X receives the next value and stores it in register X. If no values are in the queue, the program waits for a value to be sent to it. Programs do not continue to the next instruction until they have received a value. Values are received in the order they are sent.\n",
    "Each program also has its own program ID (one 0 and the other 1); the register p should begin with this value.\n",
    "\n",
    "For example:\n",
    "\n",
    "snd 1\n",
    "snd 2\n",
    "snd p\n",
    "rcv a\n",
    "rcv b\n",
    "rcv c\n",
    "rcv d\n",
    "Both programs begin by sending three values to the other. Program 0 sends 1, 2, 0; program 1 sends 1, 2, 1. Then, each program receives a value (both 1) and stores it in a, receives another value (both 2) and stores it in b, and then each receives the program ID of the other program (program 0 receives 1; program 1 receives 0) and stores it in c. Each program now sees a different value in its own copy of register c.\n",
    "\n",
    "Finally, both programs try to rcv a fourth time, but no data is waiting for either of them, and they reach a deadlock. When this happens, both programs terminate.\n",
    "\n",
    "It should be noted that it would be equally valid for the programs to run at different speeds; for example, program 0 might have sent all three values and then stopped at the first rcv before program 1 executed even its first instruction.\n",
    "\n",
    "Once both of your programs have terminated (regardless of what caused them to do so), how many times did program 1 send a value?\n",
    "(2000 too low) \n",
    "(9000 is too high) "
   ]
  },
  {
   "cell_type": "code",
   "execution_count": null,
   "metadata": {
    "collapsed": false
   },
   "outputs": [],
   "source": [
    "import string\n",
    "path = 'day18.txt'\n",
    "with open(path, 'r') as file:\n",
    "    content = file.read().split('\\n')\n",
    "print(content)\n",
    "print(len(content))"
   ]
  },
  {
   "cell_type": "code",
   "execution_count": null,
   "metadata": {
    "collapsed": false
   },
   "outputs": [],
   "source": [
    "# Build the inputs \n",
    "oneregisters, zeroregisters = {}, {}\n",
    "# get all the registers \n",
    "for line in content:\n",
    "    zeroregisters[(line.split(' ')[1])] = 0\n",
    "    oneregisters[(line.split(' ')[1])] = 0\n",
    "oneregisters['p'] = 1\n",
    "print(zeroregisters)\n",
    "print(oneregisters)"
   ]
  },
  {
   "cell_type": "code",
   "execution_count": null,
   "metadata": {
    "collapsed": true
   },
   "outputs": [],
   "source": [
    "def processInstruction(chop, registers):\n",
    "    instruction = chop[0]\n",
    "    reg = chop[1]        # Not sure what to do with the 1 \n",
    "    if len(chop) > 2:\n",
    "        try: \n",
    "            value = int(chop[2]) \n",
    "        except: \n",
    "            value = int(registers[chop[2]])   \n",
    "    \n",
    "    if instruction == 'set':\n",
    "        registers[reg] = int(value)\n",
    "    elif instruction == 'add':\n",
    "        registers[reg] = registers[reg] + (value)\n",
    "    elif instruction == 'mul':\n",
    "        registers[reg] = registers[reg] * value\n",
    "    elif instruction == 'mod':\n",
    "        registers[reg] = registers[reg] % (value)\n",
    "    else: \n",
    "        print(\"I got to processInstructions wrong \")\n",
    "    return(registers)"
   ]
  },
  {
   "cell_type": "code",
   "execution_count": null,
   "metadata": {
    "collapsed": false
   },
   "outputs": [],
   "source": [
    "ins = 7\n",
    "chop = content[ins].split(' ')\n",
    "print(chop)\n",
    "\n",
    "zero = []\n",
    "oneq = []\n",
    "\n"
   ]
  },
  {
   "cell_type": "code",
   "execution_count": null,
   "metadata": {
    "collapsed": true
   },
   "outputs": [],
   "source": []
  },
  {
   "cell_type": "markdown",
   "metadata": {},
   "source": [
    "# Advent of Code Day 17 - On the road"
   ]
  },
  {
   "cell_type": "markdown",
   "metadata": {},
   "source": [
    "# Advent of Code Day 16 "
   ]
  },
  {
   "cell_type": "markdown",
   "metadata": {},
   "source": [
    "** Advent of Code Day 16 - Part1 ** You come upon a very unusual sight; a group of programs here appear to be dancing.\n",
    "\n",
    "There are sixteen programs in total, named a through p. They start by standing in a line: a stands in position 0, b stands in position 1, and so on until p, which stands in position 15.\n",
    "\n",
    "The programs' dance consists of a sequence of dance moves:\n",
    "\n",
    "Spin, written sX, makes X programs move from the end to the front, but maintain their order otherwise. (For example, s3 on abcde produces cdeab).\n",
    "Exchange, written xA/B, makes the programs at positions A and B swap places.\n",
    "Partner, written pA/B, makes the programs named A and B swap places.\n",
    "For example, with only five programs standing in a line (abcde), they could do the following dance:\n",
    "\n",
    "s1, a spin of size 1: eabcd.\n",
    "x3/4, swapping the last two programs: eabdc.\n",
    "pe/b, swapping programs e and b: baedc.\n",
    "After finishing their dance, the programs end up in order baedc.\n",
    "\n",
    "You watch the dance for a while and record their dance moves (your puzzle input). In what order are the programs standing after their dance?"
   ]
  },
  {
   "cell_type": "code",
   "execution_count": null,
   "metadata": {
    "collapsed": false
   },
   "outputs": [],
   "source": [
    "# note: dancepartners key a to p and the value tells you where they are \n",
    "import string\n",
    "path = 'day16.txt'\n",
    "with open(path, 'r') as file:\n",
    "    content = file.read().split(',')"
   ]
  },
  {
   "cell_type": "code",
   "execution_count": null,
   "metadata": {
    "collapsed": false
   },
   "outputs": [],
   "source": [
    "def parseinstruction(ins):\n",
    "    move = ins[0]\n",
    "    if '/' in ins: \n",
    "        if move == 'p':\n",
    "            # print(\"in \", dp)\n",
    "            # print(\" chars of \", ins[1:].rsplit('/')[0], ins[1:].rsplit('/')[1])\n",
    "            here = dp.index(ins[1:].rsplit('/')[0])\n",
    "            there = dp.index(ins[1:].rsplit('/')[1])\n",
    "            # print(\" are they at \", here, there )\n",
    "        elif move == 'x':\n",
    "            here  = int(ins[1:].rsplit('/')[0])\n",
    "            there  = int(ins[1:].rsplit('/')[1])\n",
    "    else: \n",
    "        here = int(ins[1:])\n",
    "        there = 0 \n",
    "    return (move, here, there)\n",
    "def dotheSpin(move): \n",
    "    global dp\n",
    "    front = dp[(len(dp) - move):]\n",
    "    back = dp[:(len(dp) - move)]\n",
    "    dp = front + back \n",
    "    return()\n",
    "def dotheExchange(here, there):     # This will be better taking 2 parms\n",
    "    global dp\n",
    "    a,b = dp[here], dp[there]\n",
    "    dp[here], dp[there] = b, a\n",
    "    return()\n",
    "def dothePartner(ins):\n",
    "    return()"
   ]
  },
  {
   "cell_type": "code",
   "execution_count": null,
   "metadata": {
    "collapsed": false
   },
   "outputs": [],
   "source": [
    "dp = list(range(16))\n",
    "dp = ['a', 'b', 'c', 'd', 'e']\n",
    "dp = ['a', 'b', 'c', 'd', 'e','f', 'g', 'h', 'i', 'j', 'k', 'l', 'm', 'n', 'o', 'p']\n",
    "# print(dp)\n",
    "for key, value in enumerate(content):\n",
    "    move, here, there = parseinstruction(value)\n",
    "    if move == 's':\n",
    "        dotheSpin(here)\n",
    "    elif move == 'x':\n",
    "        dotheExchange(here, there)\n",
    "    elif move == 'p':     # they are the same in a 0-15 array \n",
    "        dotheExchange(here, there)\n",
    "    else:\n",
    "        print(\"There is a problem readint the file \", value)\n",
    "print(\"Order of Program: \", dp)\n",
    "x = ''\n",
    "for i in dp:\n",
    "    x = x + i \n",
    "print(x)"
   ]
  },
  {
   "cell_type": "markdown",
   "metadata": {},
   "source": [
    "** Advent of Code Day 16 - Part2 ** Now that you're starting to get a feel for the dance moves, you turn your attention to the dance as a whole.\n",
    "\n",
    "Keeping the positions they ended up in from their previous dance, the programs perform it again and again: including the first dance, a total of one billion (1000000000) times.\n",
    "\n",
    "In the example above, their second dance would begin with the order baedc, and use the same dance moves:\n",
    "\n",
    "s1, a spin of size 1: cbaed.\n",
    "x3/4, swapping the last two programs: cbade.\n",
    "pe/b, swapping programs e and b: ceadb.\n",
    "In what order are the programs standing after their billion dances?\n",
    "Note: Not in the same spot they started :) "
   ]
  },
  {
   "cell_type": "code",
   "execution_count": null,
   "metadata": {
    "collapsed": false
   },
   "outputs": [],
   "source": [
    "# how long does it take to get back to original order? \n",
    "dp, start = ['a', 'b', 'c', 'd', 'e'], ['a', 'b', 'c', 'd', 'e']\n",
    "dp = ['a', 'b', 'c', 'd', 'e','f', 'g', 'h', 'i', 'j', 'k', 'l', 'm', 'n', 'o', 'p']\n",
    "start = ['a', 'b', 'c', 'd', 'e','f', 'g', 'h', 'i', 'j', 'k', 'l', 'm', 'n', 'o', 'p']\n",
    "# print(dp)\n",
    "count = 1\n",
    "while True: \n",
    "    for key, value in enumerate(content):\n",
    "        move, here, there = parseinstruction(value)\n",
    "        if move == 's':\n",
    "            dotheSpin(here)\n",
    "        elif move == 'x':\n",
    "            dotheExchange(here, there)\n",
    "        elif move == 'p':     # they are the same in a 0-15 array \n",
    "            dotheExchange(here, there)\n",
    "        else:\n",
    "            print(\"There is a problem readint the file \", value)\n",
    "    if dp == start:\n",
    "        break \n",
    "    else: \n",
    "        count += 1 \n",
    "        #print(\"AT count: \", count, dp)\n",
    "print(\"Order of Program: \", dp)\n",
    "x,y = '', ''\n",
    "for i in dp:\n",
    "    x = x + i \n",
    "print(x)\n",
    "print(\"Dances till back to start: \", count)\n",
    "\n"
   ]
  },
  {
   "cell_type": "code",
   "execution_count": null,
   "metadata": {
    "collapsed": false
   },
   "outputs": [],
   "source": [
    "print(\"We need this many iterations more: \", 1000000000 % count) \n",
    "for x in range(40):\n",
    "    for key, value in enumerate(content):\n",
    "        move, here, there = parseinstruction(value)\n",
    "        if move == 's':\n",
    "            dotheSpin(here)\n",
    "        elif move == 'x':\n",
    "            dotheExchange(here, there)\n",
    "        elif move == 'p':     # they are the same in a 0-15 array \n",
    "            dotheExchange(here, there)\n",
    "        else:\n",
    "            print(\"There is a problem readint the file \", value)\n",
    "print(\"Order of Program: \", dp)"
   ]
  },
  {
   "cell_type": "markdown",
   "metadata": {},
   "source": [
    "** What I learned ** \n",
    "* string.ascii_lowercase[:16] will get you a to p "
   ]
  },
  {
   "cell_type": "markdown",
   "metadata": {},
   "source": [
    "# Advent of Code Day 15"
   ]
  },
  {
   "cell_type": "markdown",
   "metadata": {},
   "source": [
    "** Advent of Code Day 15 - Part 1 ** Here, you encounter a pair of dueling generators. The generators, called generator A and generator B, are trying to agree on a sequence of numbers. However, one of them is malfunctioning, and so the sequences don't always match.\n",
    "\n",
    "As they do this, a judge waits for each of them to generate its next value, compares the lowest 16 bits of both values, and keeps track of the number of times those parts of the values match.\n",
    "\n",
    "The generators both work on the same principle. To create its next value, a generator will take the previous value it produced, multiply it by a factor (generator A uses 16807; generator B uses 48271), and then keep the remainder of dividing that resulting product by 2147483647. That final remainder is the value it produces next.\n",
    "\n",
    "To calculate each generator's first value, it instead uses a specific starting value as its \"previous value\" (as listed in your puzzle input).\n",
    "\n",
    "For example, suppose that for starting values, generator A uses 65, while generator B uses 8921. Then, the first five pairs of generated values are:\n",
    "\n",
    "--Gen. A--  --Gen. B--\n",
    "   1092455   430625591\n",
    "1181022009  1233683848\n",
    " 245556042  1431495498\n",
    "1744312007   137874439\n",
    "1352636452   285222916\n",
    "In binary, these pairs are (with generator A's value first in each pair):\n",
    "\n",
    "00000000000100001010101101100111\n",
    "00011001101010101101001100110111\n",
    "\n",
    "01000110011001001111011100111001\n",
    "01001001100010001000010110001000\n",
    "\n",
    "00001110101000101110001101001010\n",
    "01010101010100101110001101001010\n",
    "\n",
    "01100111111110000001011011000111\n",
    "00001000001101111100110000000111\n",
    "\n",
    "01010000100111111001100000100100\n",
    "00010001000000000010100000000100\n",
    "Here, you can see that the lowest (here, rightmost) 16 bits of the third value match: 1110001101001010. Because of this one match, after processing these five pairs, the judge would have added only 1 to its total.\n",
    "\n",
    "To get a significant sample, the judge would like to consider 40 million pairs. (In the example above, the judge would eventually find a total of 588 pairs that match in their lowest 16 bits.)\n",
    "\n",
    "After 40 million pairs, what is the judge's final count?"
   ]
  },
  {
   "cell_type": "code",
   "execution_count": null,
   "metadata": {
    "collapsed": false
   },
   "outputs": [],
   "source": [
    "size = 40000000\n",
    "afactor = 16807\n",
    "bfactor = 48271\n",
    "a = 65    # Sample answer 588 \n",
    "b = 8921   # Sample answer 588 \n",
    "a = 883\n",
    "b = 879\n",
    "diver = 2147483647\n",
    "count = 0 \n",
    "\n",
    "for i in range(size):\n",
    "    a = (a * afactor) % diver\n",
    "    b = (b * bfactor) % diver \n",
    "    #bina = bin(a)[-16:].zfill(16) \n",
    "    #binb = bin(b)[-16:].zfill(16)\n",
    "    bina = format(a,'032b').zfill(32)[-16:]\n",
    "    binb = format(b,'032b').zfill(32)[-16:]\n",
    "    if bina== binb:\n",
    "        count += 1 \n",
    "        '''\n",
    "    print(a, b)\n",
    "    print(bin(a))\n",
    "    print(bin(b))\n",
    "    print(bina)\n",
    "    print(binb)\n",
    "    '''\n",
    "print(\"Total Pairs\", count)"
   ]
  },
  {
   "cell_type": "markdown",
   "metadata": {},
   "source": [
    "** Advent of Code Day 15 - Part 2 ** In the interest of trying to align a little better, the generators get more picky about the numbers they actually give to the judge.\n",
    "\n",
    "They still generate values in the same way, but now they only hand a value to the judge when it meets their criteria:\n",
    "\n",
    "Generator A looks for values that are multiples of 4.\n",
    "Generator B looks for values that are multiples of 8.\n",
    "Each generator functions completely independently: they both go through values entirely on their own, only occasionally handing an acceptable value to the judge, and otherwise working through the same sequence of values as before until they find one.\n",
    "\n",
    "The judge still waits for each generator to provide it with a value before comparing them (using the same comparison method as before). It keeps track of the order it receives values; the first values from each generator are compared, then the second values from each generator, then the third values, and so on.\n",
    "\n",
    "Using the example starting values given above, the generators now produce the following first five values each:\n",
    "\n",
    "--Gen. A--  --Gen. B--\n",
    "1352636452  1233683848\n",
    "1992081072   862516352\n",
    " 530830436  1159784568\n",
    "1980017072  1616057672\n",
    " 740335192   412269392\n",
    "These values have the following corresponding binary values:\n",
    "\n",
    "01010000100111111001100000100100\n",
    "01001001100010001000010110001000\n",
    "\n",
    "01110110101111001011111010110000\n",
    "00110011011010001111010010000000\n",
    "\n",
    "00011111101000111101010001100100\n",
    "01000101001000001110100001111000\n",
    "\n",
    "01110110000001001010100110110000\n",
    "01100000010100110001010101001000\n",
    "\n",
    "00101100001000001001111001011000\n",
    "00011000100100101011101101010000\n",
    "Unfortunately, even though this change makes more bits similar on average, none of these values' lowest 16 bits match. Now, it's not until the 1056th pair that the judge finds the first match:\n",
    "\n",
    "--Gen. A--  --Gen. B--\n",
    "1023762912   896885216\n",
    "\n",
    "00111101000001010110000111100000\n",
    "00110101011101010110000111100000\n",
    "This change makes the generators much slower, and the judge is getting impatient; it is now only willing to consider 5 million pairs. (Using the values from the example above, after five million pairs, the judge would eventually find a total of 309 pairs that match in their lowest 16 bits.)\n",
    "\n",
    "After 5 million pairs, but using this new generator logic, what is the judge's final count?"
   ]
  },
  {
   "cell_type": "code",
   "execution_count": null,
   "metadata": {
    "collapsed": false
   },
   "outputs": [],
   "source": [
    "def findapair(aseed,bseed):\n",
    "    a,b = 1,1 # This so it is never true going in \n",
    "    while (a % 4 != 0):\n",
    "        a = (aseed * afactor) % diver\n",
    "        aseed = a\n",
    "    while (b  % 8 != 0):\n",
    "        b = (bseed * bfactor) % diver \n",
    "        bseed = b \n",
    "    return(a,b)\n",
    "def isabinarymatch(a, b):\n",
    "    bina = format(a,'032b').zfill(32)[-16:]\n",
    "    binb = format(b,'032b').zfill(32)[-16:]\n",
    "    return(bina == binb)"
   ]
  },
  {
   "cell_type": "code",
   "execution_count": null,
   "metadata": {
    "collapsed": false
   },
   "outputs": [],
   "source": [
    "size = 5000000\n",
    "# size = 5 \n",
    "# size = 1058     # First match should be at 1056th \n",
    "afactor = 16807\n",
    "bfactor = 48271\n",
    "diver = 2147483647\n",
    "count, misses = 0, 0 \n",
    "a = 65    # Sample answer 588 and 309\n",
    "b = 8921   # Sample answer 588 and 309 \n",
    "a = 883\n",
    "b = 879\n",
    "for x in range(size):\n",
    "    (a,b) = findapair(a,b)\n",
    "    # print(a,b)\n",
    "    if isabinarymatch(a,b): \n",
    "        count += 1\n",
    "    else: \n",
    "        misses += 1\n",
    "print(\"Total Pairs\", count)\n",
    "print(\"Total Misses\", misses)"
   ]
  },
  {
   "cell_type": "markdown",
   "metadata": {},
   "source": [
    "** What I learned ** \n",
    "* I need to play more with the format \n",
    "* This would be a fun one to track the performance on "
   ]
  }
 ],
 "metadata": {
  "anaconda-cloud": {},
  "kernelspec": {
   "display_name": "Python [conda root]",
   "language": "python",
   "name": "conda-root-py"
  },
  "language_info": {
   "codemirror_mode": {
    "name": "ipython",
    "version": 3
   },
   "file_extension": ".py",
   "mimetype": "text/x-python",
   "name": "python",
   "nbconvert_exporter": "python",
   "pygments_lexer": "ipython3",
   "version": "3.5.2"
  }
 },
 "nbformat": 4,
 "nbformat_minor": 1
}
