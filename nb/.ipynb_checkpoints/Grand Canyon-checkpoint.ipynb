{
 "cells": [
  {
   "cell_type": "markdown",
   "metadata": {},
   "source": [
    "# Weather for our Grand Canyon Vacation "
   ]
  },
  {
   "cell_type": "code",
   "execution_count": 1,
   "metadata": {
    "collapsed": true
   },
   "outputs": [],
   "source": [
    "import pyowm       # Open Weather Map \n",
    "from datetime import datetime \n",
    "from dateutil.tz import tz, tzlocal \n",
    "import calendar\n",
    "owm = pyowm.OWM('92c42312ded3ea925c3ab04ab076a3fa')"
   ]
  },
  {
   "cell_type": "code",
   "execution_count": 59,
   "metadata": {
    "collapsed": false
   },
   "outputs": [
    {
     "name": "stdout",
     "output_type": "stream",
     "text": [
      "<pyowm.webapi25.forecaster.Forecaster>\n",
      "<pyowm.webapi25.forecaster.Forecaster>\n",
      "<pyowm.webapi25.forecaster.Forecaster>\n"
     ]
    }
   ],
   "source": [
    "Sedona_id = 5313667\n",
    "PHX_id = 5308655\n",
    "GC_id = 5296391\n",
    "\n",
    "Sedona = owm.weather_at_id(Sedona_id)\n",
    "PHX = owm.weather_at_id(PHX_id)\n",
    "GC = owm.weather_at_id(GC_id)\n",
    "\n",
    "PHX_fc = owm.daily_forecast('Phoenix', limit=7)\n",
    "SED_fc = owm.daily_forecast('Sedona', limit=7)\n",
    "GC_fc = owm.daily_forecast('Grand Canyon', limit=7)\n",
    "print(PHX_fc)\n",
    "print(SED_fc)\n",
    "print(GC_fc)"
   ]
  },
  {
   "cell_type": "code",
   "execution_count": 60,
   "metadata": {
    "collapsed": false
   },
   "outputs": [
    {
     "name": "stdout",
     "output_type": "stream",
     "text": [
      "{'eve': 0, 'night': 0, 'morn': 0, 'day': 0}\n",
      "Phoenix on Monday: (high) 76.95 (low) 48.67 2016-12-12 19:00:00+00:00\n",
      "Phoenix on Thursday: (high) 66.74 (low) 41.11\n",
      "Phoenix on Sunday: (high) 47.89 (low) 23.38\n",
      "Sedona on Thursday: (high) 53.74 (low) 28.56\n",
      "Sedona on Friday: (high) 50.07 (low) 39.83\n",
      "Grand Canyon on Friday: (high) 50.29 (low) 38.08\n",
      "Grand Canyon on Saturday: (high) 32.09 (low) 11.95\n",
      "Grand Canyon on Sunday: (high) 30.74 (low) 7.75\n"
     ]
    }
   ],
   "source": [
    "Thur = {'morn':0,'day':0,'eve':0,'night':0}\n",
    "Fri = {'morn':0,'day':0,'eve':0,'night':0}\n",
    "Sat = {'morn':0,'day':0,'eve':0,'night':0}\n",
    "Sun = {'morn':0,'day':0,'eve':0,'night':0}\n",
    "Mon = {'morn':0,'day':0,'eve':0,'night':0}\n",
    "print(Sun)\n",
    "forecast = PHX_fc.get_forecast()\n",
    "for w in forecast:\n",
    "    day = (calendar.day_name[w.get_reference_time(timeformat='date').weekday()])\n",
    "    temp = w.get_temperature('fahrenheit')\n",
    "    if (day == 'Thursday'):\n",
    "       Thur['morn'] = 'x'\n",
    "       Thur['day'] = temp['day']\n",
    "       print('Phoenix on Thursday: (high)', temp['max'], '(low)', temp['min'])\n",
    "    if (day == 'Sunday'):\n",
    "       Sun['eve'] = temp['eve']\n",
    "       Sun['night'] = temp['night']\n",
    "       print('Phoenix on Sunday: (high)', temp['max'], '(low)', temp['min'])\n",
    "    if (day == 'Monday'):\n",
    "       Mon['morn'] = temp['morn']\n",
    "       Mon['day'] = temp['day']\n",
    "       Mon['eve'] = 'x'\n",
    "       Mon['night'] = 'x'\n",
    "       print('Phoenix on Monday: (high)', temp['max'], '(low)', temp['min'], w.get_reference_time(timeformat='date'))\n",
    "forecast = SED_fc.get_forecast()\n",
    "for w in forecast:\n",
    "    day = (calendar.day_name[w.get_reference_time(timeformat='date').weekday()])\n",
    "    temp = w.get_temperature('fahrenheit')\n",
    "    if (day == 'Thursday'):\n",
    "       Thur['eve'] = temp['eve']\n",
    "       Thur['night'] = temp['night']\n",
    "       print('Sedona on Thursday: (high)', temp['max'], '(low)', temp['min'])\n",
    "    if (day == 'Friday'):\n",
    "       Fri['morn'] = temp['morn']\n",
    "       Fri['day'] = temp['day']\n",
    "       print('Sedona on Friday: (high)', temp['max'], '(low)', temp['min'])\n",
    "\n",
    "forecast = GC_fc.get_forecast()\n",
    "for w in forecast:\n",
    "    day = (calendar.day_name[w.get_reference_time(timeformat='date').weekday()])\n",
    "    temp = w.get_temperature('fahrenheit')\n",
    "    if (day == 'Friday'):\n",
    "       Fri['eve'] = temp['eve']\n",
    "       Fri['night'] = temp['night']\n",
    "       print('Grand Canyon on Friday: (high)', temp['max'], '(low)', temp['min'])\n",
    "    if (day == 'Saturday'):\n",
    "       Sat['morn'] = temp['morn']\n",
    "       Sat['day'] = temp['day']\n",
    "       Sat['eve'] = temp['eve']\n",
    "       Sat['night'] = temp['night']\n",
    "       print('Grand Canyon on Saturday: (high)', temp['max'], '(low)', temp['min'])\n",
    "    if (day == 'Sunday'):\n",
    "       Sun['morn'] = temp['morn']\n",
    "       Sun['day'] = temp['day']\n",
    "       print('Grand Canyon on Sunday: (high)', temp['max'], '(low)', temp['min'])\n",
    "\n",
    "   "
   ]
  },
  {
   "cell_type": "code",
   "execution_count": 47,
   "metadata": {
    "collapsed": false
   },
   "outputs": [
    {
     "name": "stdout",
     "output_type": "stream",
     "text": [
      "Thursday Phoenix (day) - Arrive at Noon  65.55\n",
      "Thursday Sedona (night) - Check in around 3  39.2\n",
      "Friday Sedona (morning to day)  42.57 to 50.07\n",
      "Friday Grand Canyon (evening to day)  45.39 to 39.83\n",
      "Saturday Grand Canyon (all day)  29.3 to 34.29 28.76 to 14.11\n",
      "Sunday Grand Canyon  (morning to day) 10.78 to 31.23\n",
      "Sunday Phoenix (evening to night)  47.89 to 37.99\n",
      "Monday Phoneix  (morning to day) - flight at 5 32.58 to 51.17\n"
     ]
    }
   ],
   "source": [
    "print('Thursday Phoenix (day) - Arrive at Noon ', Thur['day'])\n",
    "print('Thursday Sedona (night) - Check in around 3 ', Thur['night'])\n",
    "print('Friday Sedona (morning to day) ', Fri['morn'], 'to', Fri['day'])\n",
    "print('Friday Grand Canyon (evening to day) ', Fri['eve'], 'to', Fri['night'])\n",
    "print('Saturday Grand Canyon (all day) ', Sat['morn'], 'to', Sat['day'], Sat['eve'], 'to', Sat['night'])\n",
    "print('Sunday Grand Canyon  (morning to day)', Sun['morn'], 'to', Sun['day']) \n",
    "print('Sunday Phoenix (evening to night) ', Sun['eve'], 'to', Sun['night'])\n",
    "print('Monday Phoneix  (morning to day) - flight at 5pm ', Mon['morn'], 'to', Mon['day'])"
   ]
  },
  {
   "cell_type": "code",
   "execution_count": 16,
   "metadata": {
    "collapsed": false,
    "scrolled": true
   },
   "outputs": [
    {
     "name": "stdout",
     "output_type": "stream",
     "text": [
      "Phoenix\n",
      "{'max': 74.98, 'night': 46.0, 'eve': 69.31, 'min': 46.0, 'morn': 49.42, 'day': 67.8}\n",
      "{}\n",
      "2016-12-12 19:00:00+00:00\n",
      "{'max': 73.58, 'night': 47.34, 'eve': 68.77, 'min': 42.12, 'morn': 42.12, 'day': 65.25}\n",
      "{}\n",
      "2016-12-13 19:00:00+00:00\n",
      "{'max': 66.56, 'night': 46.11, 'eve': 66.56, 'min': 42.19, 'morn': 42.19, 'day': 64.38}\n",
      "{}\n",
      "2016-12-14 19:00:00+00:00\n",
      "{'max': 67.86, 'night': 55.89, 'eve': 67.86, 'min': 41.99, 'morn': 41.99, 'day': 64.8}\n",
      "{}\n",
      "2016-12-15 19:00:00+00:00\n",
      "{'max': 58.86, 'night': 36.88, 'eve': 55.54, 'min': 36.88, 'morn': 54.9, 'day': 58.86}\n",
      "{}\n",
      "2016-12-16 19:00:00+00:00\n",
      "{'max': 52.07, 'night': 35.1, 'eve': 52.07, 'min': 32.11, 'morn': 32.11, 'day': 51.67}\n",
      "{}\n",
      "2016-12-17 19:00:00+00:00\n"
     ]
    }
   ],
   "source": [
    "forecast = PHX_fc.get_forecast()\n",
    "print(forecast.get_location().get_name())\n",
    "for w in forecast:\n",
    "    print(w.get_temperature('fahrenheit'))\n",
    "    print(w.get_snow())\n",
    "    theDate = w.get_reference_time(timeformat='date'))\n",
    "    print(theDate)"
   ]
  },
  {
   "cell_type": "code",
   "execution_count": null,
   "metadata": {
    "collapsed": true
   },
   "outputs": [],
   "source": []
  }
 ],
 "metadata": {
  "kernelspec": {
   "display_name": "Python [conda root]",
   "language": "python",
   "name": "conda-root-py"
  },
  "language_info": {
   "codemirror_mode": {
    "name": "ipython",
    "version": 3
   },
   "file_extension": ".py",
   "mimetype": "text/x-python",
   "name": "python",
   "nbconvert_exporter": "python",
   "pygments_lexer": "ipython3",
   "version": "3.5.2"
  }
 },
 "nbformat": 4,
 "nbformat_minor": 1
}
