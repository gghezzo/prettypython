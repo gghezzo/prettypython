{
 "cells": [
  {
   "cell_type": "markdown",
   "metadata": {},
   "source": [
    "Overview: Need a mobile app that will take, as input, pictures of client addresses and output a recommended map to deliver them. \n",
    "Use: OCR (Optical Character Recognition) + Google Maps \n",
    "Use Tesseract"
   ]
  },
  {
   "cell_type": "markdown",
   "metadata": {},
   "source": [
    "# Play with OCR"
   ]
  },
  {
   "cell_type": "code",
   "execution_count": null,
   "metadata": {
    "collapsed": true
   },
   "outputs": [],
   "source": [
    "from PIL import Image \n",
    "import pytesseract\n",
    "pytesseract.pytesseract.tesseract_cmd = 'c:/Tesseract-OCR/tesseract'"
   ]
  },
  {
   "cell_type": "code",
   "execution_count": null,
   "metadata": {
    "collapsed": false
   },
   "outputs": [],
   "source": [
    "\n",
    "path = 'c:/learnPython/tess/mm_address.jpg'\n",
    "path2 = 'mm_address.jpg'\n",
    "img = Image.open(path2) \n",
    "text = pytesseract.image_to_string(img)\n",
    "print(text)\n",
    "name = text.splitlines()[0]\n",
    "street = text.splitlines()[2]\n",
    "city = text.splitlines()[3]\n",
    "customer = street + ', ' +  city\n",
    "print('The street is: ', customer)"
   ]
  },
  {
   "cell_type": "markdown",
   "metadata": {},
   "source": [
    "OCR for reading a volunteer list "
   ]
  },
  {
   "cell_type": "code",
   "execution_count": null,
   "metadata": {
    "collapsed": false,
    "scrolled": true
   },
   "outputs": [],
   "source": [
    "from PIL import Image \n",
    "import pytesseract\n",
    "import sys\n",
    "pytesseract.pytesseract.tesseract_cmd = 'c:/Tesseract-OCR/tesseract'\n",
    "\n",
    "path = 'c:/Users/ginny/Desktop/running/thtrb.jpg'\n",
    "path2 = 'thtrb.jpg'\n",
    "img = Image.open(path2)\n",
    "text = pytesseract.image_to_string(img)\n",
    "print(text)"
   ]
  },
  {
   "cell_type": "markdown",
   "metadata": {},
   "source": [
    "# Play with Maps "
   ]
  },
  {
   "cell_type": "code",
   "execution_count": null,
   "metadata": {
    "collapsed": false
   },
   "outputs": [],
   "source": [
    "import googlemaps\n",
    "from datetime import datetime\n",
    "gmapsC = googlemaps.Client(key='Deleted')\n"
   ]
  },
  {
   "cell_type": "code",
   "execution_count": null,
   "metadata": {
    "collapsed": false
   },
   "outputs": [],
   "source": [
    "\n",
    "myHome = \"2403 Englewood Ave, Durham, NC\"\n",
    "now = datetime.now()\n",
    "wp=['300 N Roxboro St, Durham, NC 27701','911 W Cornwallis Rd, Durham, NC 27707', '345 W Main Street, Durham, NC 27701' ]\n",
    "directions = gmapsC.directions(\"2403 Englewood Ave, Durham, NC\",\n",
    "                                     \"Duke Memorial\",\n",
    "                                     mode=\"driving\",\n",
    "                                     waypoints=wp,\n",
    "                                     optimize_waypoints=True,\n",
    "                                     departure_time=now)\n",
    "\n",
    "print(directions[0].keys())\n",
    "print(directions[0]['summary']) \n",
    "print(directions[0]['waypoint_order'])\n",
    "print(directions[0]['legs'])"
   ]
  },
  {
   "cell_type": "code",
   "execution_count": null,
   "metadata": {
    "collapsed": false
   },
   "outputs": [],
   "source": [
    "gmap = gmplot.GoogleMapPlotter(37.428, -122.145, 16)\n",
    "\n",
    "gmap.plot(latitudes, longitudes, 'cornflowerblue', edge_width=10)\n",
    "gmap.scatter(more_lats, more_lngs, '#3B0B39', size=40, marker=False)\n",
    "gmap.scatter(marker_lats, marker_lngs, 'k', marker=True)\n",
    "gmap.heatmap(heat_lats, heat_lngs)\n",
    "\n",
    "gmap.draw(\"mymap.html\")"
   ]
  },
  {
   "cell_type": "code",
   "execution_count": null,
   "metadata": {
    "collapsed": false
   },
   "outputs": [],
   "source": [
    "# Needed the Google Maps JavaScript API to run \n",
    "import googlemaps\n",
    "from datetime import datetime\n",
    "import gmaps\n",
    "gmapsC = GoogleMaps.Client(key='deleted')\n",
    "gmaps.configure(api_key='deleted')"
   ]
  },
  {
   "cell_type": "code",
   "execution_count": null,
   "metadata": {
    "collapsed": false
   },
   "outputs": [],
   "source": [
    "homeLong = '2403 Englewood Ave, Durham, NC 27705'\n",
    "# lat, lng = gmapsC.address_to_latlng(home)\n",
    "# print(lat, ' + ', lng)\n",
    "home = (36.0160282, -78.9321707)\n",
    "foodLion = (36.0193147,-78.9603636)\n",
    "church = (35.9969749, -78.9091543)\n",
    "m = gmaps.Map()\n",
    "dl = gmaps.directions_layer(home, church, waypoints=[foodLion])\n",
    "m.add_layer(dl)\n",
    "m\n",
    "# How do you use optimize:true with jupyter gmaps? "
   ]
  },
  {
   "cell_type": "code",
   "execution_count": null,
   "metadata": {
    "collapsed": true
   },
   "outputs": [],
   "source": []
  }
 ],
 "metadata": {
  "anaconda-cloud": {},
  "kernelspec": {
   "display_name": "Python [conda root]",
   "language": "python",
   "name": "conda-root-py"
  },
  "language_info": {
   "codemirror_mode": {
    "name": "ipython",
    "version": 3
   },
   "file_extension": ".py",
   "mimetype": "text/x-python",
   "name": "python",
   "nbconvert_exporter": "python",
   "pygments_lexer": "ipython3",
   "version": "3.5.2"
  }
 },
 "nbformat": 4,
 "nbformat_minor": 1
}
