{
 "cells": [
  {
   "cell_type": "markdown",
   "metadata": {},
   "source": [
    "# Part 1 - Setup \n",
    "We will be using \n",
    "* PIL (Python Image Library) for getting the picture \n",
    "* pytesseract for the OCR (Object Character Recognition) \n",
    "* googlemaps and gmaps for mapping \n"
   ]
  },
  {
   "cell_type": "code",
   "execution_count": 5,
   "metadata": {
    "collapsed": false
   },
   "outputs": [],
   "source": [
    "from PIL import Image \n",
    "import pytesseract \n",
    "import googlemaps\n",
    "import gmaps as jupmap\n",
    "import sys \n",
    "from datetime import datetime\n",
    "\n",
    "# get my private keys for google maps and gmaps\n",
    "f = open('private.key', 'r')\n",
    "for line in f: \n",
    "    temp = line.rstrip('').replace(',','').replace('\\n','').split(\" \")\n",
    "    exec(temp[0])\n",
    "myMap = googlemaps.Client(key=googlemap_key)\n",
    "jupmap.configure(api_key=jupmap_key)"
   ]
  },
  {
   "cell_type": "markdown",
   "metadata": {},
   "source": [
    "# Part 2 - Use OCR to read the address \n",
    "On Android this can be done with Google Vision "
   ]
  },
  {
   "cell_type": "code",
   "execution_count": 6,
   "metadata": {
    "collapsed": false
   },
   "outputs": [
    {
     "name": "stdout",
     "output_type": "stream",
     "text": [
      "Gee Girl\n",
      "\n",
      "1234 My Street\n",
      "Durham, NC 27700\n",
      "1234 My Street, Durham, NC 27700\n",
      "2403 Englewood Ave, Durham, NC 27705\n"
     ]
    }
   ],
   "source": [
    "img = Image.open('mm_address.jpg')\n",
    "label = pytesseract.image_to_string(img)\n",
    "print(label)\n",
    "clientLocation = label.splitlines()[2] + ', ' + label.splitlines()[3]\n",
    "print(clientLocation)\n",
    "testLocation = '2403 Englewood Ave, Durham, NC 27705'\n",
    "print(testLocation)"
   ]
  },
  {
   "cell_type": "markdown",
   "metadata": {},
   "source": [
    "# Testing location \n",
    "This might not be neccessary as google will take addresses  "
   ]
  },
  {
   "cell_type": "code",
   "execution_count": 7,
   "metadata": {
    "collapsed": false
   },
   "outputs": [
    {
     "name": "stdout",
     "output_type": "stream",
     "text": [
      "36.0157919   -78.93219429999999\n",
      "[[35.995092, -78.8966271], [35.972583, -78.934848], [35.9967317, -78.9039702]]\n"
     ]
    }
   ],
   "source": [
    "testGeoCode = myMap.geocode(testLocation)[0]\n",
    "lat = testGeoCode.get('geometry').get('location').get('lat')\n",
    "lng = testGeoCode.get('geometry').get('location').get('lng')\n",
    "print(lat, ' ', lng )\n",
    "clientList = ['300 N Roxboro St, Durham, NC 27701','911 W Cornwallis Rd, Durham, NC 27707', '345 W Main Street, Durham, NC 27701' ]\n",
    "wp=[]\n",
    "for x in clientList:\n",
    "    testGeoCode = myMap.geocode(x)[0]\n",
    "    lat = testGeoCode.get('geometry').get('location').get('lat')\n",
    "    lng = testGeoCode.get('geometry').get('location').get('lng')\n",
    "    wp.append([lat,lng])\n",
    "print(wp)"
   ]
  },
  {
   "cell_type": "markdown",
   "metadata": {},
   "source": [
    "# Google Maps \n",
    "This api does not have a waypoint optimization \n",
    "Here are more details on how to do it: https://developers.google.com/maps/documentation/directions/intro "
   ]
  },
  {
   "cell_type": "code",
   "execution_count": 8,
   "metadata": {
    "collapsed": false
   },
   "outputs": [],
   "source": [
    "m = jupmap.Map()\n",
    "home = (36.0160282, -78.9321707)\n",
    "foodLion = (36.0193147,-78.9603636)\n",
    "church = (35.9969749, -78.9091543)\n",
    "dl = jupmap.directions_layer(church, home, waypoints=wp)\n",
    "#googlemaps has an optimize_waypoints=True but I can't find it in jupyter gmaps \n",
    "m.add_layer(dl)\n",
    "m"
   ]
  },
  {
   "cell_type": "code",
   "execution_count": 11,
   "metadata": {
    "collapsed": false
   },
   "outputs": [
    {
     "ename": "KeyError",
     "evalue": "'starbucks_uk'",
     "output_type": "error",
     "traceback": [
      "\u001b[0;31m---------------------------------------------------------------------------\u001b[0m",
      "\u001b[0;31mKeyError\u001b[0m                                  Traceback (most recent call last)",
      "\u001b[0;32m<ipython-input-11-47ccf993ac3e>\u001b[0m in \u001b[0;36m<module>\u001b[0;34m()\u001b[0m\n\u001b[1;32m      1\u001b[0m \u001b[1;32mimport\u001b[0m \u001b[0mgmaps\u001b[0m\u001b[1;33m\u001b[0m\u001b[0m\n\u001b[1;32m      2\u001b[0m \u001b[1;32mimport\u001b[0m \u001b[0mgmaps\u001b[0m\u001b[1;33m.\u001b[0m\u001b[0mdatasets\u001b[0m\u001b[1;33m\u001b[0m\u001b[0m\n\u001b[0;32m----> 3\u001b[0;31m \u001b[0mlocations\u001b[0m \u001b[1;33m=\u001b[0m \u001b[0mgmaps\u001b[0m\u001b[1;33m.\u001b[0m\u001b[0mdatasets\u001b[0m\u001b[1;33m.\u001b[0m\u001b[0mload_dataset\u001b[0m\u001b[1;33m(\u001b[0m\u001b[1;34m\"starbucks_uk\"\u001b[0m\u001b[1;33m)\u001b[0m\u001b[1;33m\u001b[0m\u001b[0m\n\u001b[0m\u001b[1;32m      4\u001b[0m \u001b[0mprint\u001b[0m\u001b[1;33m(\u001b[0m\u001b[0mlocations\u001b[0m\u001b[1;33m)\u001b[0m\u001b[1;33m\u001b[0m\u001b[0m\n\u001b[1;32m      5\u001b[0m \u001b[0mfig\u001b[0m \u001b[1;33m=\u001b[0m \u001b[0mgmaps\u001b[0m\u001b[1;33m.\u001b[0m\u001b[0mMap\u001b[0m\u001b[1;33m(\u001b[0m\u001b[1;33m)\u001b[0m\u001b[1;33m\u001b[0m\u001b[0m\n",
      "\u001b[0;32mC:\\Anaconda3\\lib\\site-packages\\gmaps\\datasets\\datasets.py\u001b[0m in \u001b[0;36mload_dataset\u001b[0;34m(dataset_name)\u001b[0m\n\u001b[1;32m     99\u001b[0m     \u001b[0mFetch\u001b[0m \u001b[0ma\u001b[0m \u001b[0mdataset\u001b[0m\u001b[1;33m,\u001b[0m \u001b[0mreturning\u001b[0m \u001b[0man\u001b[0m \u001b[0marray\u001b[0m \u001b[0mof\u001b[0m \u001b[0mtuples\u001b[0m\u001b[1;33m.\u001b[0m\u001b[1;33m\u001b[0m\u001b[0m\n\u001b[1;32m    100\u001b[0m     \"\"\"\n\u001b[0;32m--> 101\u001b[0;31m     \u001b[0murl\u001b[0m \u001b[1;33m=\u001b[0m \u001b[0mMETADATA\u001b[0m\u001b[1;33m[\u001b[0m\u001b[0mdataset_name\u001b[0m\u001b[1;33m]\u001b[0m\u001b[1;33m[\u001b[0m\u001b[1;34m\"url\"\u001b[0m\u001b[1;33m]\u001b[0m\u001b[1;33m\u001b[0m\u001b[0m\n\u001b[0m\u001b[1;32m    102\u001b[0m     \u001b[0mcolumn_types\u001b[0m \u001b[1;33m=\u001b[0m \u001b[0mMETADATA\u001b[0m\u001b[1;33m[\u001b[0m\u001b[0mdataset_name\u001b[0m\u001b[1;33m]\u001b[0m\u001b[1;33m[\u001b[0m\u001b[1;34m\"types\"\u001b[0m\u001b[1;33m]\u001b[0m\u001b[1;33m\u001b[0m\u001b[0m\n\u001b[1;32m    103\u001b[0m     \u001b[0mf\u001b[0m \u001b[1;33m=\u001b[0m \u001b[0murlopen\u001b[0m\u001b[1;33m(\u001b[0m\u001b[0murl\u001b[0m\u001b[1;33m)\u001b[0m\u001b[1;33m\u001b[0m\u001b[0m\n",
      "\u001b[0;31mKeyError\u001b[0m: 'starbucks_uk'"
     ]
    }
   ],
   "source": [
    "import gmaps\n",
    "import gmaps.datasets\n",
    "locations = gmaps.datasets.load_dataset(\"starbucks_uk\")\n",
    "print(locations)\n",
    "fig = gmaps.Map()\n",
    "starbucks_layer = gmaps.symbol_layer(locations, fill_color=\"green\", stroke_color=\"green\", scale=2)\n",
    "fig.add_layer(starbucks_layer)\n",
    "fig"
   ]
  },
  {
   "cell_type": "code",
   "execution_count": null,
   "metadata": {
    "collapsed": true
   },
   "outputs": [],
   "source": []
  }
 ],
 "metadata": {
  "anaconda-cloud": {},
  "kernelspec": {
   "display_name": "Python [conda root]",
   "language": "python",
   "name": "conda-root-py"
  },
  "language_info": {
   "codemirror_mode": {
    "name": "ipython",
    "version": 3
   },
   "file_extension": ".py",
   "mimetype": "text/x-python",
   "name": "python",
   "nbconvert_exporter": "python",
   "pygments_lexer": "ipython3",
   "version": "3.5.2"
  },
  "widgets": {
   "state": {
    "db54b1f64b6344a9aee26a3b166b2d15": {
     "views": [
      {
       "cell_index": 7
      }
     ]
    }
   },
   "version": "1.2.0"
  }
 },
 "nbformat": 4,
 "nbformat_minor": 1
}
