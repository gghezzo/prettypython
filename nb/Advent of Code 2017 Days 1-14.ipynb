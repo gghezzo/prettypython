{
 "cells": [
  {
   "cell_type": "markdown",
   "metadata": {
    "collapsed": true
   },
   "source": [
    "# Advent of Code Day 14 "
   ]
  },
  {
   "cell_type": "markdown",
   "metadata": {},
   "source": [
    "** Advent of Code Day 14 - Part 1 ** Suddenly, a scheduled job activates the system's disk defragmenter. Were the situation different, you might sit and watch it for a while, but today, you just don't have that kind of time. It's soaking up valuable system resources that are needed elsewhere, and so the only option is to help it finish its task as soon as possible.\n",
    "\n",
    "The disk in question consists of a 128x128 grid; each square of the grid is either free or used. On this disk, the state of the grid is tracked by the bits in a sequence of knot hashes.\n",
    "\n",
    "A total of 128 knot hashes are calculated, each corresponding to a single row in the grid; each hash contains 128 bits which correspond to individual grid squares. Each bit of a hash indicates whether that square is free (0) or used (1).\n",
    "\n",
    "The hash inputs are a key string (your puzzle input), a dash, and a number from 0 to 127 corresponding to the row. For example, if your key string were flqrgnkx, then the first row would be given by the bits of the knot hash of flqrgnkx-0, the second row from the bits of the knot hash of flqrgnkx-1, and so on until the last row, flqrgnkx-127.\n",
    "\n",
    "The output of a knot hash is traditionally represented by 32 hexadecimal digits; each of these digits correspond to 4 bits, for a total of 4 * 32 = 128 bits. To convert to bits, turn each hexadecimal digit to its equivalent binary value, high-bit first: 0 becomes 0000, 1 becomes 0001, e becomes 1110, f becomes 1111, and so on; a hash that begins with a0c2017... in hexadecimal would begin with 10100000110000100000000101110000... in binary.\n",
    "\n",
    "Continuing this process, the first 8 rows and columns for key flqrgnkx appear as follows, using # to denote used squares, and . to denote free ones:\n",
    "\n",
    "##.#.#..-->\n",
    ".#.#.#.#   \n",
    "....#.#.   \n",
    "#.#.##.#   \n",
    ".##.#...   \n",
    "##..#..#   \n",
    ".#...#..   \n",
    "##.#.##.-->\n",
    "|      |   \n",
    "V      V   \n",
    "In this example, 8108 squares are used across the entire 128x128 grid.\n",
    "\n",
    "Given your actual key string, how many squares are used?\n",
    "\n",
    "Your puzzle input is vbqugkhl."
   ]
  },
  {
   "cell_type": "code",
   "execution_count": null,
   "metadata": {
    "collapsed": false
   },
   "outputs": [],
   "source": [
    "# When conversted to binary, how many of the 16,384 are used(1)\n"
   ]
  },
  {
   "cell_type": "code",
   "execution_count": null,
   "metadata": {
    "collapsed": true
   },
   "outputs": [],
   "source": [
    "def convertToAscii(data):\n",
    "    # print(\" data going in\", data)\n",
    "    newdata =[]\n",
    "    for x in data:\n",
    "        newdata.append(ord(x))    \n",
    "    return(newdata)\n",
    "def flipslice(knot, current, length):\n",
    "    piece = knot[current:current+length]     # This will go to the end\n",
    "    #Check if we got it all \n",
    "    if (current + length) > 256: \n",
    "        piece = piece + knot[:(length - len(piece))]\n",
    "    for index, value in enumerate(reversed(piece)):\n",
    "        knot[(current+index)% 256] = value\n",
    "    # print(\"Knot after flip \", knot)\n",
    "def createdensehash(block):\n",
    "    dhash = 0\n",
    "    for x in block:\n",
    "        dhash = x ^ dhash\n",
    "    return(dhash)\n"
   ]
  },
  {
   "cell_type": "code",
   "execution_count": null,
   "metadata": {
    "collapsed": true
   },
   "outputs": [],
   "source": [
    "def knothash(input):\n",
    "    current, jump, skip = 0, 0, 0\n",
    "    densehash = []\n",
    "    knot = list(range(256))   # Not sure if this is 256 or 128 or ? \n",
    "    lengths = convertToAscii(input)\n",
    "    lengths = lengths + [17, 31, 73, 47, 23]\n",
    "    # print(\"The input sequence is \", lengths)\n",
    "    for x in range(64):\n",
    "        for length in lengths: \n",
    "        # print(\"Working with length \", length, \"skip \", skip, \"current \", current)\n",
    "            jump = (skip + length)\n",
    "            if length > 256: \n",
    "                print(\"We are twisting more then the whole list ... TWF\", length, size)\n",
    "            else:\n",
    "                flipslice(knot, current, length)\n",
    "            current = (current + jump) % 256 \n",
    "            skip += 1\n",
    "    # print(\"The sparse hash after 64 rounds \", knot)\n",
    "    # Third, create a dense hash \n",
    "    for i in range(0,256,16):\n",
    "        densehash.append(createdensehash(knot[i:i+16]))\n",
    "    #print(\"I think this is wrong.\", densehash)\n",
    "\n",
    "    # Change the values to hexadecimal \n",
    "    answer = ''\n",
    "    for x in densehash:\n",
    "        answer = answer + (format(x, '02x'))\n",
    "    return(answer)"
   ]
  },
  {
   "cell_type": "code",
   "execution_count": null,
   "metadata": {
    "collapsed": false
   },
   "outputs": [],
   "source": [
    "puzzle = 'vbqugkhl'    # my input \n",
    "# puzzle = 'flqrgnkx'    # The sample should be 8108\n",
    "print(\"Heads up (input): \", puzzle)\n",
    "grid = [0] * 128   # Todo this is wrong but my sanity needs it \n",
    "count = 0 \n",
    "for key, value in enumerate(grid):\n",
    "    hashinput = puzzle + '-' + str(key)\n",
    "    hexvalue = knothash(hashinput)     # retunrs a hexadecimal digit \n",
    "    binaryvalue =''\n",
    "    # print(key, '. hexvalue ', hexvalue)\n",
    "    for c in hexvalue:\n",
    "        # print(c, \"   \", (bin(int(c,16))[2:]).zfill(4))\n",
    "        binaryvalue = binaryvalue + (bin(int(c,16))[2:]).zfill(4)\n",
    "    # print('    BinaryValue', binaryvalue)\n",
    "    grid[key] = binaryvalue\n",
    "    count = count + binaryvalue.count('1')\n",
    "\n",
    "print(\"Total Filled (flqrgnkx should be 8108)\",count)\n",
    "# Note 2547 is too low \n",
    "#9906, 9632 is too high "
   ]
  },
  {
   "cell_type": "markdown",
   "metadata": {},
   "source": [
    "** Advent of Code Day 14 - Part 2 ** Now, all the defragmenter needs to know is the number of regions. A region is a group of used squares that are all adjacent, not including diagonals. Every used square is in exactly one region: lone used squares form their own isolated regions, while several adjacent squares all count as a single region.\n",
    "\n",
    "In the example above, the following nine regions are visible, each marked with a distinct digit:\n",
    "\n",
    "11.2.3..-->\n",
    ".1.2.3.4   \n",
    "....5.6.   \n",
    "7.8.55.9   \n",
    ".88.5...   \n",
    "88..5..8   \n",
    ".8...8..   \n",
    "88.8.88.-->\n",
    "|      |   \n",
    "V      V   \n",
    "Of particular interest is the region marked 8; while it does not appear contiguous in this small view, all of the squares marked 8 are connected when considering the whole 128x128 grid. In total, in this example, 1242 regions are present.\n",
    "\n",
    "How many regions are present given your key string?"
   ]
  },
  {
   "cell_type": "code",
   "execution_count": null,
   "metadata": {
    "collapsed": false
   },
   "outputs": [],
   "source": [
    "def checkforbuddies(grid, irow, icol, name):\n",
    "    global regions \n",
    "    global extra\n",
    "    bird = ''\n",
    "    \n",
    "    if irow == -1 or icol == -1:\n",
    "        return()\n",
    "    regions[irow][icol] = str(name)\n",
    "    try:\n",
    "        if grid[irow][icol+1] == full and regions[irow][icol+1] == 'x':\n",
    "            checkforbuddies(grid, irow, icol+1, name)\n",
    "        if grid[irow+1][icol] == full and regions[irow+1][icol] == 'x':\n",
    "            checkforbuddies(grid, irow+1, icol, name) \n",
    "        if grid[irow][icol-1] == full and regions[irow][icol-1] == 'x':\n",
    "            checkforbuddies(grid, irow, icol-1, name) \n",
    "        if grid[irow-1][icol] == full and regions[irow-1][icol] == 'x':\n",
    "            checkforbuddies(grid, irow-1, icol, name)\n",
    "    except:\n",
    "        try:\n",
    "            if icol == 127:\n",
    "                if grid[irow+1][icol] == full and regions[irow+1][icol] == 'x':\n",
    "                    checkforbuddies(grid, irow+1, icol, name) \n",
    "                if grid[irow][icol-1] == full and regions[irow][icol-1] == 'x':\n",
    "                    checkforbuddies(grid, irow, icol-1, name) \n",
    "                if grid[irow-1][icol] == full and regions[irow-1][icol] == 'x':\n",
    "                    checkforbuddies(grid, irow-1, icol, name)\n",
    "            if irow == 127:\n",
    "                if grid[irow][icol+1] == full and regions[irow][icol+1] == 'x':\n",
    "                    checkforbuddies(grid, irow, icol+1, name)\n",
    "                if grid[irow][icol-1] == full and regions[irow][icol-1] == 'x':\n",
    "                    checkforbuddies(grid, irow, icol-1, name) \n",
    "                if grid[irow-1][icol] == full and regions[irow-1][icol] == 'x':\n",
    "                    checkforbuddies(grid, irow-1, icol, name)\n",
    "        except:\n",
    "            print(\"Not sure how we got here \", irow, icol)\n",
    "        extra +=1\n",
    "        return()\n",
    "        "
   ]
  },
  {
   "cell_type": "code",
   "execution_count": null,
   "metadata": {
    "collapsed": false,
    "scrolled": true
   },
   "outputs": [],
   "source": [
    "# Note: Not re-writing above since I have grid (a 128 by 128) with values \n",
    "# grid = ['##.#.#..', '.#.#.#.#', '....#.#.', '#.#.##.#', '.##.#...', '##..#..#', '.#...#..', '##.#.##.']\n",
    "# 1173 is too low \n",
    "import sys \n",
    "full = '1'\n",
    "empty = '0'\n",
    "glen = len(grid)\n",
    "extra = 0 \n",
    "regions = [['x']*glen for i in range(glen)]\n",
    "regioncount = 0\n",
    "\n",
    "for row, value in enumerate(grid):\n",
    "    for col, colvalue in enumerate(value):\n",
    "        if colvalue == full and regions[row][col] == 'x':          # is it a 1 and not part of a region yet \n",
    "            regioncount += 1\n",
    "            # print(\"Going in with (\", regions[row][col], \") row \", row, \"col \",col, \"Count\", regioncount)\n",
    "            checkforbuddies(grid, row, col, regioncount)\n",
    "        elif colvalue == empty:\n",
    "            regions[row][col] = '0'\n",
    "print(\"For test expecting 1242 on sample \", regioncount)\n",
    "print(extra)\n"
   ]
  },
  {
   "cell_type": "markdown",
   "metadata": {},
   "source": [
    "** Things I've learned ** "
   ]
  },
  {
   "cell_type": "markdown",
   "metadata": {},
   "source": [
    "** Advent of Code Day 13 - Part 1 ** You need to cross a vast firewall. The firewall consists of several layers, each with a security scanner that moves back and forth across the layer. To succeed, you must not be detected by a scanner.\n",
    "\n",
    "By studying the firewall briefly, you are able to record (in your puzzle input) the depth of each layer and the range of the scanning area for the scanner within it, written as depth: range. Each layer has a thickness of exactly 1. A layer at depth 0 begins immediately inside the firewall; a layer at depth 1 would start immediately after that.\n",
    "\n",
    "For example, suppose you've recorded the following:\n",
    "\n",
    "0: 3\n",
    "1: 2\n",
    "4: 4\n",
    "6: 4\n",
    "This means that there is a layer immediately inside the firewall (with range 3), a second layer immediately after that (with range 2), a third layer which begins at depth 4 (with range 4), and a fourth layer which begins at depth 6 (also with range 4). Visually, it might look like this:\n",
    "\n",
    " 0   1   2   3   4   5   6\n",
    "[ ] [ ] ... ... [ ] ... [ ]\n",
    "[ ] [ ]         [ ]     [ ]\n",
    "[ ]             [ ]     [ ]\n",
    "                [ ]     [ ]\n",
    "Within each layer, a security scanner moves back and forth within its range. Each security scanner starts at the top and moves down until it reaches the bottom, then moves up until it reaches the top, and repeats. A security scanner takes one picosecond to move one step. Drawing scanners as S, the first few picoseconds look like this:\n",
    "\n",
    "\n",
    "Picosecond 0:\n",
    " 0   1   2   3   4   5   6\n",
    "[S] [S] ... ... [S] ... [S]\n",
    "[ ] [ ]         [ ]     [ ]\n",
    "[ ]             [ ]     [ ]\n",
    "                [ ]     [ ]\n",
    "\n",
    "Picosecond 1:\n",
    " 0   1   2   3   4   5   6\n",
    "[ ] [ ] ... ... [ ] ... [ ]\n",
    "[S] [S]         [S]     [S]\n",
    "[ ]             [ ]     [ ]\n",
    "                [ ]     [ ]\n",
    "\n",
    "Picosecond 2:\n",
    " 0   1   2   3   4   5   6\n",
    "[ ] [S] ... ... [ ] ... [ ]\n",
    "[ ] [ ]         [ ]     [ ]\n",
    "[S]             [S]     [S]\n",
    "                [ ]     [ ]\n",
    "\n",
    "Picosecond 3:\n",
    " 0   1   2   3   4   5   6\n",
    "[ ] [ ] ... ... [ ] ... [ ]\n",
    "[S] [S]         [ ]     [ ]\n",
    "[ ]             [ ]     [ ]\n",
    "                [S]     [S]\n",
    "Your plan is to hitch a ride on a packet about to move through the firewall. The packet will travel along the top of each layer, and it moves at one layer per picosecond. Each picosecond, the packet moves one layer forward (its first move takes it into layer 0), and then the scanners move one step. If there is a scanner at the top of the layer as your packet enters it, you are caught. (If a scanner moves into the top of its layer while you are there, you are not caught: it doesn't have time to notice you before you leave.) If you were to do this in the configuration above, marking your current position with parentheses, your passage through the firewall would look like this:\n",
    "\n",
    "Initial state:\n",
    " 0   1   2   3   4   5   6\n",
    "[S] [S] ... ... [S] ... [S]\n",
    "[ ] [ ]         [ ]     [ ]\n",
    "[ ]             [ ]     [ ]\n",
    "                [ ]     [ ]\n",
    "\n",
    "Picosecond 0:\n",
    " 0   1   2   3   4   5   6\n",
    "(S) [S] ... ... [S] ... [S]\n",
    "[ ] [ ]         [ ]     [ ]\n",
    "[ ]             [ ]     [ ]\n",
    "                [ ]     [ ]\n",
    "\n",
    " 0   1   2   3   4   5   6\n",
    "( ) [ ] ... ... [ ] ... [ ]\n",
    "[S] [S]         [S]     [S]\n",
    "[ ]             [ ]     [ ]\n",
    "                [ ]     [ ]\n",
    "\n",
    "\n",
    "Picosecond 1:\n",
    " 0   1   2   3   4   5   6\n",
    "[ ] ( ) ... ... [ ] ... [ ]\n",
    "[S] [S]         [S]     [S]\n",
    "[ ]             [ ]     [ ]\n",
    "                [ ]     [ ]\n",
    "\n",
    " 0   1   2   3   4   5   6\n",
    "[ ] (S) ... ... [ ] ... [ ]\n",
    "[ ] [ ]         [ ]     [ ]\n",
    "[S]             [S]     [S]\n",
    "                [ ]     [ ]\n",
    "\n",
    "\n",
    "Picosecond 2:\n",
    " 0   1   2   3   4   5   6\n",
    "[ ] [S] (.) ... [ ] ... [ ]\n",
    "[ ] [ ]         [ ]     [ ]\n",
    "[S]             [S]     [S]\n",
    "                [ ]     [ ]\n",
    "\n",
    " 0   1   2   3   4   5   6\n",
    "[ ] [ ] (.) ... [ ] ... [ ]\n",
    "[S] [S]         [ ]     [ ]\n",
    "[ ]             [ ]     [ ]\n",
    "                [S]     [S]\n",
    "\n",
    "\n",
    "Picosecond 3:\n",
    " 0   1   2   3   4   5   6\n",
    "[ ] [ ] ... (.) [ ] ... [ ]\n",
    "[S] [S]         [ ]     [ ]\n",
    "[ ]             [ ]     [ ]\n",
    "                [S]     [S]\n",
    "\n",
    " 0   1   2   3   4   5   6\n",
    "[S] [S] ... (.) [ ] ... [ ]\n",
    "[ ] [ ]         [ ]     [ ]\n",
    "[ ]             [S]     [S]\n",
    "                [ ]     [ ]\n",
    "\n",
    "\n",
    "Picosecond 4:\n",
    " 0   1   2   3   4   5   6\n",
    "[S] [S] ... ... ( ) ... [ ]\n",
    "[ ] [ ]         [ ]     [ ]\n",
    "[ ]             [S]     [S]\n",
    "                [ ]     [ ]\n",
    "\n",
    " 0   1   2   3   4   5   6\n",
    "[ ] [ ] ... ... ( ) ... [ ]\n",
    "[S] [S]         [S]     [S]\n",
    "[ ]             [ ]     [ ]\n",
    "                [ ]     [ ]\n",
    "\n",
    "\n",
    "Picosecond 5:\n",
    " 0   1   2   3   4   5   6\n",
    "[ ] [ ] ... ... [ ] (.) [ ]\n",
    "[S] [S]         [S]     [S]\n",
    "[ ]             [ ]     [ ]\n",
    "                [ ]     [ ]\n",
    "\n",
    " 0   1   2   3   4   5   6\n",
    "[ ] [S] ... ... [S] (.) [S]\n",
    "[ ] [ ]         [ ]     [ ]\n",
    "[S]             [ ]     [ ]\n",
    "                [ ]     [ ]\n",
    "\n",
    "\n",
    "Picosecond 6:\n",
    " 0   1   2   3   4   5   6\n",
    "[ ] [S] ... ... [S] ... (S)\n",
    "[ ] [ ]         [ ]     [ ]\n",
    "[S]             [ ]     [ ]\n",
    "                [ ]     [ ]\n",
    "\n",
    " 0   1   2   3   4   5   6\n",
    "[ ] [ ] ... ... [ ] ... ( )\n",
    "[S] [S]         [S]     [S]\n",
    "[ ]             [ ]     [ ]\n",
    "                [ ]     [ ]\n",
    "In this situation, you are caught in layers 0 and 6, because your packet entered the layer when its scanner was at the top when you entered it. You are not caught in layer 1, since the scanner moved into the top of the layer once you were already there.\n",
    "\n",
    "The severity of getting caught on a layer is equal to its depth multiplied by its range. (Ignore layers in which you do not get caught.) The severity of the whole trip is the sum of these values. In the example above, the trip severity is 0*3 + 6*4 = 24.\n",
    "\n",
    "Given the details of the firewall you've recorded, if you leave immediately, what is the severity of your whole trip?"
   ]
  },
  {
   "cell_type": "code",
   "execution_count": null,
   "metadata": {
    "collapsed": false
   },
   "outputs": [],
   "source": [
    "path = 'day13.txt'\n",
    "with open(path, 'r') as file:\n",
    "    content = file.read().splitlines()\n",
    "size = int((content[-1]).partition(':')[0]) + 1\n",
    "print(size)\n",
    "ranges = [0] * size\n",
    "for index, value in enumerate(content):\n",
    "    depth = int((content[index]).partition(':')[0])\n",
    "    ranger = int((content[index]).partition(':')[2])\n",
    "    ranges[depth] = ranger"
   ]
  },
  {
   "cell_type": "code",
   "execution_count": null,
   "metadata": {
    "collapsed": false
   },
   "outputs": [],
   "source": [
    "def costOfScan(spot):\n",
    "    hit = (ranges[spot] - 1)*2\n",
    "    # print(spot, ranges[spot], spot % ranges[spot])\n",
    "    if (spot % hit) == 0:\n",
    "        return(spot * ranges[spot])\n",
    "    return(0)\n",
    "\n",
    "myspot, cost = 0, 0\n",
    "# Walk straight from 0 to size \n",
    "# depending on where I am, check where the scanner is \n",
    "# If I am entering a scanner, then calculate the cost \n",
    "# Note: For both use cases the 0 spot is a hit (of 0)\n",
    "for index, value in enumerate(ranges):\n",
    "    if value != 0:\n",
    "        cost = cost + costOfScan(index)\n",
    "print(\"Severity : \", cost)"
   ]
  },
  {
   "cell_type": "markdown",
   "metadata": {},
   "source": [
    "** Advent of Code Day 13 - Part 2 ** Now, you need to pass through the firewall without being caught - easier said than done.\n",
    "\n",
    "You can't control the speed of the packet, but you can delay it any number of picoseconds. For each picosecond you delay the packet before beginning your trip, all security scanners move one step. You're not in the firewall during this time; you don't enter layer 0 until you stop delaying the packet.\n",
    "\n",
    "In the example above, if you delay 10 picoseconds (picoseconds 0 - 9), you won't get caught:\n",
    "\n",
    "State after delaying:\n",
    " 0   1   2   3   4   5   6\n",
    "[ ] [S] ... ... [ ] ... [ ]\n",
    "[ ] [ ]         [ ]     [ ]\n",
    "[S]             [S]     [S]\n",
    "                [ ]     [ ]\n",
    "\n",
    "Picosecond 10:\n",
    " 0   1   2   3   4   5   6\n",
    "( ) [S] ... ... [ ] ... [ ]\n",
    "[ ] [ ]         [ ]     [ ]\n",
    "[S]             [S]     [S]\n",
    "                [ ]     [ ]\n",
    "\n",
    " 0   1   2   3   4   5   6\n",
    "( ) [ ] ... ... [ ] ... [ ]\n",
    "[S] [S]         [S]     [S]\n",
    "[ ]             [ ]     [ ]\n",
    "                [ ]     [ ]\n",
    "\n",
    "\n",
    "Picosecond 11:\n",
    " 0   1   2   3   4   5   6\n",
    "[ ] ( ) ... ... [ ] ... [ ]\n",
    "[S] [S]         [S]     [S]\n",
    "[ ]             [ ]     [ ]\n",
    "                [ ]     [ ]\n",
    "\n",
    " 0   1   2   3   4   5   6\n",
    "[S] (S) ... ... [S] ... [S]\n",
    "[ ] [ ]         [ ]     [ ]\n",
    "[ ]             [ ]     [ ]\n",
    "                [ ]     [ ]\n",
    "\n",
    "\n",
    "Picosecond 12:\n",
    " 0   1   2   3   4   5   6\n",
    "[S] [S] (.) ... [S] ... [S]\n",
    "[ ] [ ]         [ ]     [ ]\n",
    "[ ]             [ ]     [ ]\n",
    "                [ ]     [ ]\n",
    "\n",
    " 0   1   2   3   4   5   6\n",
    "[ ] [ ] (.) ... [ ] ... [ ]\n",
    "[S] [S]         [S]     [S]\n",
    "[ ]             [ ]     [ ]\n",
    "                [ ]     [ ]\n",
    "\n",
    "\n",
    "Picosecond 13:\n",
    " 0   1   2   3   4   5   6\n",
    "[ ] [ ] ... (.) [ ] ... [ ]\n",
    "[S] [S]         [S]     [S]\n",
    "[ ]             [ ]     [ ]\n",
    "                [ ]     [ ]\n",
    "\n",
    " 0   1   2   3   4   5   6\n",
    "[ ] [S] ... (.) [ ] ... [ ]\n",
    "[ ] [ ]         [ ]     [ ]\n",
    "[S]             [S]     [S]\n",
    "                [ ]     [ ]\n",
    "\n",
    "\n",
    "Picosecond 14:\n",
    " 0   1   2   3   4   5   6\n",
    "[ ] [S] ... ... ( ) ... [ ]\n",
    "[ ] [ ]         [ ]     [ ]\n",
    "[S]             [S]     [S]\n",
    "                [ ]     [ ]\n",
    "\n",
    " 0   1   2   3   4   5   6\n",
    "[ ] [ ] ... ... ( ) ... [ ]\n",
    "[S] [S]         [ ]     [ ]\n",
    "[ ]             [ ]     [ ]\n",
    "                [S]     [S]\n",
    "\n",
    "\n",
    "Picosecond 15:\n",
    " 0   1   2   3   4   5   6\n",
    "[ ] [ ] ... ... [ ] (.) [ ]\n",
    "[S] [S]         [ ]     [ ]\n",
    "[ ]             [ ]     [ ]\n",
    "                [S]     [S]\n",
    "\n",
    " 0   1   2   3   4   5   6\n",
    "[S] [S] ... ... [ ] (.) [ ]\n",
    "[ ] [ ]         [ ]     [ ]\n",
    "[ ]             [S]     [S]\n",
    "                [ ]     [ ]\n",
    "\n",
    "\n",
    "Picosecond 16:\n",
    " 0   1   2   3   4   5   6\n",
    "[S] [S] ... ... [ ] ... ( )\n",
    "[ ] [ ]         [ ]     [ ]\n",
    "[ ]             [S]     [S]\n",
    "                [ ]     [ ]\n",
    "\n",
    " 0   1   2   3   4   5   6\n",
    "[ ] [ ] ... ... [ ] ... ( )\n",
    "[S] [S]         [S]     [S]\n",
    "[ ]             [ ]     [ ]\n",
    "                [ ]     [ ]\n",
    "Because all smaller delays would get you caught, the fewest number of picoseconds you would need to delay to get through safely is 10.\n",
    "\n",
    "What is the fewest number of picoseconds that you need to delay the packet to pass through the firewall without being caught?"
   ]
  },
  {
   "cell_type": "code",
   "execution_count": null,
   "metadata": {
    "collapsed": false
   },
   "outputs": [],
   "source": [
    "def onScanner(spot, delay, hit):\n",
    "    if (spot + delay) % hit == 0:\n",
    "        # print(\"Hit: spot, time, hit\", spot, delay, hit)\n",
    "        return(True)\n",
    "    else: \n",
    "        return(False)\n",
    "def youSafe(scanners, delay):\n",
    "    for key, hit in scanners.items():\n",
    "        if onScanner(key, delay, hit):\n",
    "            return(False)\n",
    "    print(\"You are safe!!!! \", delay )\n",
    "    return(True)"
   ]
  },
  {
   "cell_type": "code",
   "execution_count": null,
   "metadata": {
    "collapsed": false
   },
   "outputs": [],
   "source": [
    "path = 'day13.txt'\n",
    "delay = 0\n",
    "with open(path, 'r') as file:\n",
    "    content = file.read().splitlines()\n",
    "scanners = {}\n",
    "myhits = set()\n",
    "for index, value in enumerate(content):\n",
    "    hits = (int((content[index]).partition(':')[2]) -1 ) * 2\n",
    "    scanners[int((content[index]).partition(':')[0])] = hits\n",
    "    myhits.add(hits)\n",
    "safe = False \n",
    "while not safe: \n",
    "    delay += 1 \n",
    "    safe = youSafe(scanners, delay)\n",
    "    if delay > 4941460:\n",
    "        print(\"This is not right\")\n",
    "        break \n",
    "print(\"Delay : \", delay)"
   ]
  },
  {
   "cell_type": "markdown",
   "metadata": {},
   "source": [
    "** Things I learned** \n",
    "* things"
   ]
  },
  {
   "cell_type": "markdown",
   "metadata": {},
   "source": [
    "# Advent of Code Day 12 "
   ]
  },
  {
   "cell_type": "markdown",
   "metadata": {},
   "source": [
    "** Advent of Code Day 12 - Part 1 ** \n",
    "Walking along the memory banks of the stream, you find a small village that is experiencing a little confusion: some programs can't communicate with each other.\n",
    "\n",
    "Programs in this village communicate using a fixed system of pipes. Messages are passed between programs using these pipes, but most programs aren't connected to each other directly. Instead, programs pass messages between each other until the message reaches the intended recipient.\n",
    "\n",
    "For some reason, though, some of these messages aren't ever reaching their intended recipient, and the programs suspect that some pipes are missing. They would like you to investigate.\n",
    "\n",
    "You walk through the village and record the ID of each program and the IDs with which it can communicate directly (your puzzle input). Each program has one or more programs with which it can communicate, and these pipes are bidirectional; if 8 says it can communicate with 11, then 11 will say it can communicate with 8.\n",
    "\n",
    "You need to figure out how many programs are in the group that contains program ID 0.\n",
    "\n",
    "For example, suppose you go door-to-door like a travelling salesman and record the following list:\n",
    "\n",
    "0 <-> 2\n",
    "1 <-> 1\n",
    "2 <-> 0, 3, 4\n",
    "3 <-> 2, 4\n",
    "4 <-> 2, 3, 6\n",
    "5 <-> 6\n",
    "6 <-> 4, 5\n",
    "In this example, the following programs are in the group that contains program ID 0:\n",
    "\n",
    "Program 0 by definition.\n",
    "Program 2, directly connected to program 0.\n",
    "Program 3 via program 2.\n",
    "Program 4 via program 2.\n",
    "Program 5 via programs 6, then 4, then 2.\n",
    "Program 6 via programs 4, then 2.\n",
    "Therefore, a total of 6 programs are in this group; all but program 1, which has a pipe that connects it to itself.\n",
    "\n",
    "How many programs are in the group that contains program ID 0?"
   ]
  },
  {
   "cell_type": "code",
   "execution_count": null,
   "metadata": {
    "collapsed": false
   },
   "outputs": [],
   "source": [
    "path = 'day12.txt'\n",
    "with open(path, 'r') as file:\n",
    "    content = file.read().splitlines()"
   ]
  },
  {
   "cell_type": "code",
   "execution_count": null,
   "metadata": {
    "collapsed": true
   },
   "outputs": [],
   "source": [
    "# Can you get to 0 ? \n",
    "# NOTE THIS DOES NOT WORK. It stops too shallow \n",
    "def canCallZero(pipes, checked):\n",
    "    isconnected = False\n",
    "    isconnected = '0' in pipes\n",
    "    if not isconnected:\n",
    "        for x in pipes: \n",
    "            if x in checked:\n",
    "                return(False)\n",
    "            else:\n",
    "                checked.append(x)\n",
    "            if canCallZero(phonebank[int(x)], checked):\n",
    "                return(True)\n",
    "    return(isconnected)\n",
    "# This works by walking the zero tree \n",
    "def addToPartyLine(pipes,connected):\n",
    "    for x in pipes:\n",
    "        if x not in connected:\n",
    "            connected.append(x)\n",
    "            #print(\"Working on \", phonebank[int(x)])\n",
    "            addToPartyLine(phonebank[int(x)], connected)\n",
    "    return(connected)\n",
    "    "
   ]
  },
  {
   "cell_type": "code",
   "execution_count": null,
   "metadata": {
    "collapsed": false
   },
   "outputs": [],
   "source": [
    "phonebank = []\n",
    "for index, value in enumerate(content):\n",
    "    temp = value.replace(',','').rsplit(' ')\n",
    "    phonebank.append(temp[2:])\n",
    "# print(phonebank)\n",
    "count = 0 \n",
    "whosin = []\n",
    "\n",
    "'''\n",
    "# This does NOT work \n",
    "for index, value in enumerate(phonebank):\n",
    "    if canCallZero(value,[]):\n",
    "        whosin.append(index)\n",
    "        count += 1\n",
    "print(\"Total programs connected to Zero: \", count)\n",
    "print(whosin)\n",
    "'''\n",
    "\n",
    "# This works \n",
    "count = 1 \n",
    "connected = ['0']\n",
    "connected = addToPartyLine(phonebank[0], connected)\n",
    "print(len(connected), connected)\n",
    "    "
   ]
  },
  {
   "cell_type": "markdown",
   "metadata": {},
   "source": [
    "** Advent of Code Day 12 - Part 2 ** \n",
    "There are more programs than just the ones in the group containing program ID 0. The rest of them have no way of reaching that group, and still might have no way of reaching each other.\n",
    "\n",
    "A group is a collection of programs that can all communicate via pipes either directly or indirectly. The programs you identified just a moment ago are all part of the same group. Now, they would like you to determine the total number of groups.\n",
    "\n",
    "In the example above, there were 2 groups: one consisting of programs 0,2,3,4,5,6, and the other consisting solely of program 1.\n",
    "\n",
    "How many groups are there in total?"
   ]
  },
  {
   "cell_type": "code",
   "execution_count": null,
   "metadata": {
    "collapsed": false
   },
   "outputs": [],
   "source": [
    "phonebank = []\n",
    "for index, value in enumerate(content):\n",
    "    temp = value.replace(',','').rsplit(' ')\n",
    "    phonebank.append(temp[2:])\n",
    "# print(phonebank)\n",
    "whosin = []\n",
    "count = 0\n",
    "\n",
    "for index, value in enumerate(phonebank):\n",
    "    if str(index) not in whosin:\n",
    "        count += 1 \n",
    "        connected = [str(index)]    # we know it is connected to itself\n",
    "        whosin.extend( addToPartyLine(phonebank[index], connected))\n",
    "        # print(whosin)\n",
    "print(\"Total number of independent rings:\", count)\n",
    "        "
   ]
  },
  {
   "cell_type": "markdown",
   "metadata": {},
   "source": [
    "** What I learned ** \n",
    "* Using with open and splitlines \n",
    "* extend when adding lists to lists. \n",
    "* My fist approach, to build the tree, did not work. It did not have enough depth, but I don't know why. "
   ]
  },
  {
   "cell_type": "markdown",
   "metadata": {},
   "source": [
    "# Advent of Code Day 11"
   ]
  },
  {
   "cell_type": "markdown",
   "metadata": {},
   "source": [
    "** Advent of Code Day 11 - Part 1 ** \n",
    "Crossing the bridge, you've barely reached the other side of the stream when a program comes up to you, clearly in distress. \"It's my child process,\" she says, \"he's gotten lost in an infinite grid!\"\n",
    "\n",
    "Fortunately for her, you have plenty of experience with infinite grids.\n",
    "\n",
    "Unfortunately for you, it's a hex grid.\n",
    "\n",
    "The hexagons (\"hexes\") in this grid are aligned such that adjacent hexes can be found to the north, northeast, southeast, south, southwest, and northwest:\n",
    "\n",
    "  \\ n  /\n",
    "nw +--+ ne\n",
    "  /    \\\n",
    "-+      +-\n",
    "  \\    /\n",
    "sw +--+ se\n",
    "  / s  \\\n",
    "You have the path the child process took. Starting where he started, you need to determine the fewest number of steps required to reach him. (A \"step\" means to move from the hex you are in to any adjacent hex.)\n",
    "\n",
    "For example:\n",
    "\n",
    "ne,ne,ne is 3 steps away.\n",
    "ne,ne,sw,sw is 0 steps away (back where you started).\n",
    "ne,ne,s,s is 2 steps away (se,se).\n",
    "se,sw,se,sw,sw is 3 steps away (s,s,sw)."
   ]
  },
  {
   "cell_type": "code",
   "execution_count": null,
   "metadata": {
    "collapsed": false
   },
   "outputs": [],
   "source": [
    "puzzle = open('day11.txt', 'r').read() \n",
    "test1 = 'ne,ne,ne'                 # is 3 steps away.\n",
    "test2 = 'ne,ne,sw,sw'           # is 0 steps away (back where you started).\n",
    "test3 = 'ne,ne,s,s'             # is 2 steps away (se,se).\n",
    "test4 = 'se,sw,se,sw,sw'      #  is 3 steps away (s,s,sw)."
   ]
  },
  {
   "cell_type": "code",
   "execution_count": null,
   "metadata": {
    "collapsed": false
   },
   "outputs": [],
   "source": [
    "# Thanks to Charles Fu, I am going to divide up the grid into three, 120 degree coordinates\n",
    "# North - X does not move, Y +, Z - \n",
    "# South - X does not move, Y -, Z + \n",
    "# NE - X +, Y does not move, Z - \n",
    "# SE - X +, Y -, Z does not move\n",
    "# NW - X - , Y +, Z does not move\n",
    "# SW - X -, Y does not move, Z + \n",
    "path = puzzle.split(\",\")\n",
    "x, y, z = 0,0,0\n",
    "for value in path: \n",
    "    if value == 'n':\n",
    "        x,y,z = x, y+1, z-1\n",
    "    elif value == 's':\n",
    "        x,y,z = x, y-1, z+1\n",
    "    elif value == 'ne':\n",
    "        x,y,z = x+1, y, z-1\n",
    "    elif value == 'se':\n",
    "        x,y,z = x+1, y-1, z\n",
    "    elif value == 'nw':\n",
    "        x,y,z = x-1, y+1, z\n",
    "    elif value == 'sw':\n",
    "        x,y,z = x-1, y, z+1\n",
    "    else: \n",
    "        print(\"Something went wrong with the  parsing\")\n",
    "print(x,y,z)  \n",
    "\n",
    "# Distance is 1/2 * (|x| + |y|+ |z|) since we started at 0,0,0 \n",
    "distance = .5 * (abs(x) + abs(y) + abs(z))\n",
    "print(distance)\n",
    "        "
   ]
  },
  {
   "cell_type": "markdown",
   "metadata": {},
   "source": [
    "** Advent of Code Day 11 - Part 2 ** \n",
    "How many steps away is the furthest he ever got from his starting position"
   ]
  },
  {
   "cell_type": "code",
   "execution_count": null,
   "metadata": {
    "collapsed": false
   },
   "outputs": [],
   "source": [
    "# see above for this logic \n",
    "path = puzzle.split(\",\")\n",
    "distance, furthest = 0,0\n",
    "x, y, z = 0,0,0\n",
    "for value in path: \n",
    "    if value == 'n':\n",
    "        x,y,z = x, y+1, z-1\n",
    "    elif value == 's':\n",
    "        x,y,z = x, y-1, z+1\n",
    "    elif value == 'ne':\n",
    "        x,y,z = x+1, y, z-1\n",
    "    elif value == 'se':\n",
    "        x,y,z = x+1, y-1, z\n",
    "    elif value == 'nw':\n",
    "        x,y,z = x-1, y+1, z\n",
    "    elif value == 'sw':\n",
    "        x,y,z = x-1, y, z+1\n",
    "    else: \n",
    "        print(\"Something went wrong with the  parsing\")\n",
    "    # How far did he go? Did he go further? \n",
    "    distance = .5 * (abs(x) + abs(y) + abs(z))\n",
    "    furthest = max(distance, furthest)\n",
    "print(\"Where he is now \", distance)\n",
    "print(\"Furthest He went \", furthest)"
   ]
  },
  {
   "cell_type": "markdown",
   "metadata": {},
   "source": [
    "** What I learned ** \n",
    "* Mathematicians are the BEST - http://www-cs-students.stanford.edu/~amitp/Articles/Hexagon2.html"
   ]
  },
  {
   "cell_type": "markdown",
   "metadata": {},
   "source": [
    "# Advent of Code Day 10 "
   ]
  },
  {
   "cell_type": "markdown",
   "metadata": {},
   "source": [
    "** Advent of Code Day 10 - Part 1 ** You come across some programs that are trying to implement a software emulation of a hash based on knot-tying. The hash these programs are implementing isn't very strong, but you decide to help them anyway. You make a mental note to remind the Elves later not to invent their own cryptographic functions.\n",
    "\n",
    "This hash function simulates tying a knot in a circle of string with 256 marks on it. Based on the input to be hashed, the function repeatedly selects a span of string, brings the ends together, and gives the span a half-twist to reverse the order of the marks within it. After doing this many times, the order of the marks is used to build the resulting hash.\n",
    "\n",
    "  4--5   pinch   4  5           4   1\n",
    " /    \\  5,0,1  / \\/ \\  twist  / \\ / \\\n",
    "3      0  -->  3      0  -->  3   X   0\n",
    " \\    /         \\ /\\ /         \\ / \\ /\n",
    "  2--1           2  1           2   5\n",
    "To achieve this, begin with a list of numbers from 0 to 255, a current position which begins at 0 (the first element in the list), a skip size (which starts at 0), and a sequence of lengths (your puzzle input). Then, for each length:\n",
    "\n",
    "* Reverse the order of that length of elements in the list, starting with the element at the current position.\n",
    "* Move the current position forward by that length plus the skip size.\n",
    "* Increase the skip size by one.\n",
    "\n",
    "The list is circular; if the current position and the length try to reverse elements beyond the end of the list, the operation reverses using as many extra elements as it needs from the front of the list. If the current position moves past the end of the list, it wraps around to the front. Lengths larger than the size of the list are invalid.\n",
    "\n",
    "Here's an example using a smaller list:\n",
    "\n",
    "Suppose we instead only had a circular list containing five elements, 0, 1, 2, 3, 4, and were given input lengths of 3, 4, 1, 5.\n",
    "\n",
    "* The list begins as [0] 1 2 3 4 (where square brackets indicate the current position).\n",
    "* The first length, 3, selects ([0] 1 2) 3 4 (where parentheses indicate the sublist to be reversed).\n",
    "* After reversing that section (0 1 2 into 2 1 0), we get ([2] 1 0) 3 4.\n",
    "* Then, the current position moves forward by the length, 3, plus the skip size, 0: 2 1 0 [3] 4. Finally, the skip size increases to 1.\n",
    "* The second length, 4, selects a section which wraps: 2 1) 0 ([3] 4.\n",
    "* The sublist 3 4 2 1 is reversed to form 1 2 4 3: 4 3) 0 ([1] 2.\n",
    "* The current position moves forward by the length plus the skip size, a total of 5, causing it not to move because it wraps around: 4 3 0 [1] 2. The skip size increases to 2.\n",
    "* The third length, 1, selects a sublist of a single element, and so reversing it has no effect.\n",
    "* The current position moves forward by the length (1) plus the skip size (2): 4 [3] 0 1 2. The skip size increases to 3.\n",
    "* The fourth length, 5, selects every element starting with the second: 4) ([3] 0 1 2. Reversing this sublist (3 0 1 2 4 into 4 2 1 0 3) produces: 3) ([4] 2 1 0.\n",
    "* Finally, the current position moves forward by 8: 3 4 2 1 [0]. The skip size increases to 4.\n",
    "\n",
    "In this example, the first two numbers in the list end up being 3 and 4; to check the process, you can multiply them together to produce 12.\n",
    "\n",
    "However, you should instead use the standard list size of 256 (with values 0 to 255) and the sequence of lengths in your puzzle input. Once this process is complete, what is the result of multiplying the first two numbers in the list?"
   ]
  },
  {
   "cell_type": "code",
   "execution_count": null,
   "metadata": {
    "collapsed": false
   },
   "outputs": [],
   "source": [
    "import numpy as np\n",
    "puzzle = [18,1,0,161,255,137,254,252,14,95,165,33,181,168,2,188]\n",
    "size = 256\n",
    "test = [3, 4, 1, 5]\n",
    "size = 5"
   ]
  },
  {
   "cell_type": "code",
   "execution_count": null,
   "metadata": {
    "collapsed": false
   },
   "outputs": [],
   "source": [
    "current, jump, skip = 0, 0, 0\n",
    "# lengths, size  = test , 5\n",
    "lengths, size  = puzzle, 256\n",
    "knot = list(range(size))\n",
    "# print(\"Start\", knot, \"/n\")\n",
    "def flipslice():\n",
    "    piece = knot[current:current+length]     # This will go to the end\n",
    "    #Check if we got it all \n",
    "    if (current + length) > size: \n",
    "        piece = piece + knot[:(length - len(piece))]\n",
    "    for index, value in enumerate(reversed(piece)):\n",
    "        knot[(current+index)%size] = value\n",
    "    #print(\"Knot after flip \", knot)\n",
    "                               \n",
    "for length in lengths: \n",
    "    # print(\"Working with length \", length, \"skip \", skip, \"current \", current)\n",
    "    jump = (skip + length)\n",
    "    if length > size: \n",
    "        print(\"We are twisting more then the whole list ... TWF\", length, size)\n",
    "    else:\n",
    "        flipslice()\n",
    "    current = (current + jump) % size \n",
    "    skip += 1\n",
    "# print(\"End\", knot)\n",
    "print(\"Answer: \", knot[0]*knot[1])"
   ]
  },
  {
   "cell_type": "code",
   "execution_count": null,
   "metadata": {
    "collapsed": false
   },
   "outputs": [],
   "source": [
    "# Trying to use numpy wrap is warping my brain!! \n",
    "# TODO BAD CODE \n",
    "current, jump, skip = 0, 0, 0\n",
    "lengths, size  = test , 5\n",
    "knot = np.arange(size)\n",
    "print(knot)\n",
    "for length in lengths:\n",
    "    print(\"Working with length \", length, \"skip \", skip, \"current \", current)\n",
    "    jump = (skip + length)\n",
    "    piece = knot.take(range(current,jump), mode=\"wrap\")[::-1]\n",
    "    print(\"piece = \", piece)\n",
    "    knot\n",
    "    current = (current + jump) % size\n",
    "    skip += 1 # At the end you increment "
   ]
  },
  {
   "cell_type": "markdown",
   "metadata": {},
   "source": [
    "** Advent of Code Day 10 - Part 2 ** he logic you've constructed forms a single round of the Knot Hash algorithm; running the full thing requires many of these rounds. Some input and output processing is also required.\n",
    "\n",
    "First, from now on, your input should be taken not as a list of numbers, but as a string of bytes instead. Unless otherwise specified, convert characters to bytes using their ASCII codes. This will allow you to handle arbitrary ASCII strings, and it also ensures that your input lengths are never larger than 255. For example, if you are given 1,2,3, you should convert it to the ASCII codes for each character: 49,44,50,44,51.\n",
    "\n",
    "Once you have determined the sequence of lengths to use, add the following lengths to the end of the sequence: 17, 31, 73, 47, 23. For example, if you are given 1,2,3, your final sequence of lengths should be 49,44,50,44,51,17,31,73,47,23 (the ASCII codes from the input string combined with the standard length suffix values).\n",
    "\n",
    "Second, instead of merely running one round like you did above, run a total of 64 rounds, using the same length sequence in each round. The current position and skip size should be preserved between rounds. For example, if the previous example was your first round, you would start your second round with the same length sequence (3, 4, 1, 5, 17, 31, 73, 47, 23, now assuming they came from ASCII codes and include the suffix), but start with the previous round's current position (4) and skip size (4).\n",
    "\n",
    "Once the rounds are complete, you will be left with the numbers from 0 to 255 in some order, called the sparse hash. Your next task is to reduce these to a list of only 16 numbers called the dense hash. To do this, use numeric bitwise XOR to combine each consecutive block of 16 numbers in the sparse hash (there are 16 such blocks in a list of 256 numbers). So, the first element in the dense hash is the first sixteen elements of the sparse hash XOR'd together, the second element in the dense hash is the second sixteen elements of the sparse hash XOR'd together, etc.\n",
    "\n",
    "For example, if the first sixteen elements of your sparse hash are as shown below, and the XOR operator is ^, you would calculate the first output number like this:\n",
    "\n",
    "65 ^ 27 ^ 9 ^ 1 ^ 4 ^ 3 ^ 40 ^ 50 ^ 91 ^ 7 ^ 6 ^ 0 ^ 2 ^ 5 ^ 68 ^ 22 = 64\n",
    "Perform this operation on each of the sixteen blocks of sixteen numbers in your sparse hash to determine the sixteen numbers in your dense hash.\n",
    "\n",
    "Finally, the standard way to represent a Knot Hash is as a single hexadecimal string; the final output is the dense hash in hexadecimal notation. Because each number in your dense hash will be between 0 and 255 (inclusive), always represent each number as two hexadecimal digits (including a leading zero as necessary). So, if your first three numbers are 64, 7, 255, they correspond to the hexadecimal numbers 40, 07, ff, and so the first six characters of the hash would be 4007ff. Because every Knot Hash is sixteen such numbers, the hexadecimal representation is always 32 hexadecimal digits (0-f) long.\n",
    "\n",
    "Here are some example hashes:\n",
    "\n",
    "The empty string becomes a2582a3a0e66e6e86e3812dcb672a272.\n",
    "AoC 2017 becomes 33efeb34ea91902bb2f59c9920caa6cd.\n",
    "1,2,3 becomes 3efbe78a8d82f29979031a4aa0b16a9d.\n",
    "1,2,4 becomes 63960835bcdc130f0b66d7ff4f6a5a8e.\n",
    "Treating your puzzle input as a string of ASCII characters, what is the Knot Hash of your puzzle input? Ignore any leading or trailing whitespace you might encounter."
   ]
  },
  {
   "cell_type": "code",
   "execution_count": null,
   "metadata": {
    "collapsed": true
   },
   "outputs": [],
   "source": [
    "puzzle = '18,1,0,161,255,137,254,252,14,95,165,33,181,168,2,188'\n",
    "puzzle = '1,2,4'\n",
    "size = 256"
   ]
  },
  {
   "cell_type": "code",
   "execution_count": null,
   "metadata": {
    "collapsed": true
   },
   "outputs": [],
   "source": [
    "def convertToAscii(data):\n",
    "    print(\" data going in\", puzzle)\n",
    "    newdata =[]\n",
    "    for x in data:\n",
    "        newdata.append(ord(x))    \n",
    "    return(newdata)\n",
    "def flipslice():\n",
    "    piece = knot[current:current+length]     # This will go to the end\n",
    "    #Check if we got it all \n",
    "    if (current + length) > size: \n",
    "        piece = piece + knot[:(length - len(piece))]\n",
    "    for index, value in enumerate(reversed(piece)):\n",
    "        knot[(current+index)%size] = value\n",
    "    #print(\"Knot after flip \", knot)\n",
    "def createdensehash(block):\n",
    "    dhash = 0\n",
    "    for x in block:\n",
    "        dhash = x ^ dhash\n",
    "    return(dhash)"
   ]
  },
  {
   "cell_type": "code",
   "execution_count": null,
   "metadata": {
    "collapsed": false
   },
   "outputs": [],
   "source": [
    "# First, convert input to asci + add special \n",
    "current, jump, skip = 0, 0, 0\n",
    "densehash = []\n",
    "size = 256\n",
    "knot = list(range(size))\n",
    "lengths = convertToAscii(puzzle)\n",
    "lengths = lengths + [17, 31, 73, 47, 23]\n",
    "# print(\"The input sequence:\", lengths)\n",
    "\n",
    "# Second, has this 64 times without resetting the ski and current  \n",
    "for x in range(64):\n",
    "    for length in lengths: \n",
    "    # print(\"Working with length \", length, \"skip \", skip, \"current \", current)\n",
    "        jump = (skip + length)\n",
    "        if length > size: \n",
    "            print(\"We are twisting more then the whole list ... TWF\", length, size)\n",
    "        else:\n",
    "            flipslice()\n",
    "        current = (current + jump) % size \n",
    "        skip += 1\n",
    "print(\"The sparse hash after 64 rounds \", knot)\n",
    "\n",
    "# Third, create a dense hash \n",
    "for i in range(0,256,16):\n",
    "    densehash.append(createdensehash(knot[i:i+16]))\n",
    "print(densehash)\n",
    "\n",
    "# Finally change the values to hexadecimal \n",
    "answer = ''\n",
    "for x in densehash:\n",
    "    answer = answer + (format(x, '02x'))\n",
    "print(answer)"
   ]
  },
  {
   "cell_type": "markdown",
   "metadata": {},
   "source": [
    "** What I learned ** \n",
    "* I always forget about range to create a list of numbers \n",
    "* next % size\n",
    "* I don't understand numpy take or warp \n",
    "* You can format a hex number with format(the number, the format you want) '02x' says make sure it is in two digits "
   ]
  },
  {
   "cell_type": "markdown",
   "metadata": {},
   "source": [
    "# Advent of Code Day 9 "
   ]
  },
  {
   "cell_type": "markdown",
   "metadata": {},
   "source": [
    "** Advent of Code Day 9 - Part 1 ** A large stream blocks your path. According to the locals, it's not safe to cross the stream at the moment because it's full of garbage. You look down at the stream; rather than water, you discover that it's a stream of characters.\n",
    "\n",
    "You sit for a while and record part of the stream (your puzzle input). The characters represent groups - sequences that begin with { and end with }. Within a group, there are zero or more other things, separated by commas: either another group or garbage. Since groups can contain other groups, a } only closes the most-recently-opened unclosed group - that is, they are nestable. Your puzzle input represents a single, large group which itself contains many smaller ones.\n",
    "\n",
    "Sometimes, instead of a group, you will find garbage. Garbage begins with < and ends with >. Between those angle brackets, almost any character can appear, including { and }. Within garbage, < has no special meaning.\n",
    "\n",
    "In a futile attempt to clean up the garbage, some program has canceled some of the characters within it using !: inside garbage, any character that comes after ! should be ignored, including <, >, and even another !.\n",
    "\n",
    "You don't see any characters that deviate from these rules. Outside garbage, you only find well-formed groups, and garbage always terminates according to the rules above.\n",
    "\n",
    "Here are some self-contained pieces of garbage:\n",
    "\n",
    "<>, empty garbage.\n",
    "<random characters>, garbage containing random characters.\n",
    "<<<<>, because the extra < are ignored.\n",
    "<{!>}>, because the first > is canceled.\n",
    "<!!>, because the second ! is canceled, allowing the > to terminate the garbage.\n",
    "<!!!>>, because the second ! and the first > are canceled.\n",
    "<{o\"i!a,<{i<a>, which ends at the first >.\n",
    "Here are some examples of whole streams and the number of groups they contain:\n",
    "\n",
    "{}, 1 group.\n",
    "{{{}}}, 3 groups.\n",
    "{{},{}}, also 3 groups.\n",
    "{{{},{},{{}}}}, 6 groups.\n",
    "{<{},{},{{}}>}, 1 group (which itself contains garbage).\n",
    "{<a>,<a>,<a>,<a>}, 1 group.\n",
    "{{<a>},{<a>},{<a>},{<a>}}, 5 groups.\n",
    "{{<!>},{<!>},{<!>},{<a>}}, 2 groups (since all but the last > are canceled).\n",
    "Your goal is to find the total score for all groups in your input. Each group is assigned a score which is one more than the score of the group that immediately contains it. (The outermost group gets a score of 1.)\n",
    "\n",
    "{}, score of 1.\n",
    "{{{}}}, score of 1 + 2 + 3 = 6.\n",
    "{{},{}}, score of 1 + 2 + 2 = 5.\n",
    "{{{},{},{{}}}}, score of 1 + 2 + 3 + 3 + 3 + 4 = 16.\n",
    "{<a>,<a>,<a>,<a>}, score of 1.\n",
    "{{<ab>},{<ab>},{<ab>},{<ab>}}, score of 1 + 2 + 2 + 2 + 2 = 9.\n",
    "{{<!!>},{<!!>},{<!!>},{<!!>}}, score of 1 + 2 + 2 + 2 + 2 = 9.\n",
    "{{<a!>},{<a!>},{<a!>},{<ab>}}, score of 1 + 2 = 3.\n",
    "What is the total score for all groups in your input?"
   ]
  },
  {
   "cell_type": "code",
   "execution_count": null,
   "metadata": {
    "collapsed": false
   },
   "outputs": [],
   "source": [
    "# get input \n",
    "test1 = '{}'     # 1 group, score 1 \n",
    "test2 = '{{{}}}' # 3 group \n",
    "test3 = '{{},{}}' # 3 group \n",
    "test4 = '{{{},{},{{}}}}' # 3 group \n",
    "test5 = '{<a>,<a>,<a>,<a>}' # 3 group \n",
    "test6 = '{{<ab>},{<ab>},{<ab>},{<ab>}}' # 3 group \n",
    "test7 = '{{<!!>},{<!!>},{<!!>},{<!!>}}' \n",
    "test8 = '{{<a!>},{<a!>},{<a!>},{<ab>}}' \n",
    "puzzle =  open('day09.txt', 'r').read()   # Read as a string"
   ]
  },
  {
   "cell_type": "code",
   "execution_count": null,
   "metadata": {
    "collapsed": false
   },
   "outputs": [],
   "source": [
    "# Loop through the string counting the nest while ignoring the garbage along the way \n",
    "score = 0\n",
    "opengroups = 0 \n",
    "prev = ''                   # This is a hack for the '!', fix later todo \n",
    "stream = puzzle \n",
    "isgarbage = False \n",
    "for index, value in enumerate(stream):\n",
    "    if prev == '!':\n",
    "        prev = ''\n",
    "    elif value == '!':\n",
    "        prev = '!'\n",
    "    elif value == '{' and isgarbage == False:\n",
    "        opengroups += 1\n",
    "        score = score + opengroups        # todo check this \n",
    "    elif value == '}' and isgarbage == False:\n",
    "        opengroups -= 1 \n",
    "    elif value == '<' and isgarbage == False:\n",
    "        isgarbage = True \n",
    "    elif value == '>': \n",
    "        isgarbage = False \n",
    "print(\"Open groups (should be 0) = \", opengroups)\n",
    "print(\"Total groups = \", score)"
   ]
  },
  {
   "cell_type": "markdown",
   "metadata": {},
   "source": [
    "** Advent of Code Day 9 - Part 2 ** Now, you're ready to remove the garbage.\n",
    "\n",
    "To prove you've removed it, you need to count all of the characters within the garbage. The leading and trailing < and > don't count, nor do any canceled characters or the ! doing the canceling.\n",
    "\n",
    "<>, 0 characters.\n",
    "<random characters>, 17 characters.\n",
    "<<<<>, 3 characters.\n",
    "<{!>}>, 2 characters.\n",
    "<!!>, 0 characters.\n",
    "<!!!>>, 0 characters.\n",
    "<{o\"i!a,<{i<a>, 10 characters.\n",
    "How many non-canceled characters are within the garbage in your puzzle input?"
   ]
  },
  {
   "cell_type": "code",
   "execution_count": null,
   "metadata": {
    "collapsed": false
   },
   "outputs": [],
   "source": [
    "%%timeit\n",
    "# Loop through the string counting the nest while ignoring the garbage along the way \n",
    "# original (with enumerate)\n",
    "heftybags = 0\n",
    "prev = ''                   # This is a hack for the '!', fix later todo \n",
    "stream = puzzle \n",
    "isgarbage = False \n",
    "for index, value in enumerate(stream):\n",
    "    if prev == '!':\n",
    "        prev = ''\n",
    "    elif value == '!':\n",
    "        prev = '!'\n",
    "    elif value == '<' and isgarbage == False:\n",
    "        isgarbage = True \n",
    "    elif value == '>': \n",
    "        isgarbage = False \n",
    "    elif isgarbage == True: \n",
    "        heftybags += 1 \n",
    "    \n",
    "#print(\"Total Garbage \",heftybags  )"
   ]
  },
  {
   "cell_type": "code",
   "execution_count": null,
   "metadata": {
    "collapsed": false
   },
   "outputs": [],
   "source": [
    "%%timeit\n",
    "# Loop through the string counting the nest while ignoring the garbage along the way \n",
    "# what if we just use a loop \n",
    "heftybags = 0\n",
    "prev = ''                   # This is a hack for the '!', fix later todo \n",
    "stream = puzzle \n",
    "isgarbage = False \n",
    "for value in stream:\n",
    "    if prev == '!':\n",
    "        prev = ''\n",
    "    elif value == '!':\n",
    "        prev = '!'\n",
    "    elif value == '<' and isgarbage == False:\n",
    "        isgarbage = True \n",
    "    elif value == '>': \n",
    "        isgarbage = False \n",
    "    elif isgarbage == True: \n",
    "        heftybags += 1 "
   ]
  },
  {
   "cell_type": "code",
   "execution_count": null,
   "metadata": {
    "collapsed": false
   },
   "outputs": [],
   "source": [
    "%%timeit\n",
    "# Get out early \n",
    "# What if we optimize what we check \n",
    "heftybags = 0\n",
    "prev = ''                   # This is a hack for the '!', fix later todo \n",
    "stream = puzzle \n",
    "isgarbage = False \n",
    "for value in stream:\n",
    "    if isgarbage: \n",
    "        if prev == '!':\n",
    "            prev = ''\n",
    "        elif value == '!':\n",
    "            prev = '!'\n",
    "        elif value == '>': \n",
    "            isgarbage = False \n",
    "        else:  \n",
    "            heftybags += 1 \n",
    "    else:    # not garbage ignore unless starting garbage '<'\n",
    "        if value == '<':\n",
    "            isgarbage = True\n",
    "# print(heftybags)\n",
    "        "
   ]
  },
  {
   "cell_type": "markdown",
   "metadata": {},
   "source": [
    "** What I learned **\n",
    "* The wrong music is so distracting \n",
    "* I am using enumerate too much :) I wonder if it is slower then just for loop \n",
    "* I need to figure out how to do timing and alternative timing in jupyter "
   ]
  },
  {
   "cell_type": "markdown",
   "metadata": {},
   "source": [
    "# Advent of Code Day 8 "
   ]
  },
  {
   "cell_type": "markdown",
   "metadata": {},
   "source": [
    "** Advent of Code Day 8 ** You receive a signal directly from the CPU. Because of your recent assistance with jump instructions, it would like you to compute the result of a series of unusual register instructions.\n",
    "\n",
    "Each instruction consists of several parts: the register to modify, whether to increase or decrease that register's value, the amount by which to increase or decrease it, and a condition. If the condition fails, skip the instruction without modifying the register. The registers all start at 0. The instructions look like this:\n",
    "\n",
    "b inc 5 if a > 1\n",
    "a inc 1 if b < 5\n",
    "c dec -10 if a >= 1\n",
    "c inc -20 if c == 10\n",
    "These instructions would be processed as follows:\n",
    "\n",
    "Because a starts at 0, it is not greater than 1, and so b is not modified.\n",
    "a is increased by 1 (to 1) because b is less than 5 (it is 0).\n",
    "c is decreased by -10 (to 10) because a is now greater than or equal to 1 (it is 1).\n",
    "c is increased by -20 (to -10) because c is equal to 10.\n",
    "After this process, the largest value in any register is 1.\n",
    "\n",
    "You might also encounter <= (less than or equal to) or != (not equal to). However, the CPU doesn't have the bandwidth to tell you what all the registers are named, and leaves that to you to determine.\n",
    "\n",
    "What is the largest value in any register after completing the instructions in your puzzle input?"
   ]
  },
  {
   "cell_type": "code",
   "execution_count": null,
   "metadata": {
    "collapsed": false
   },
   "outputs": [],
   "source": [
    "path = 'day08.txt'\n",
    "f = open(path, 'r')\n",
    "content = f.read()"
   ]
  },
  {
   "cell_type": "code",
   "execution_count": null,
   "metadata": {
    "collapsed": false
   },
   "outputs": [],
   "source": [
    "f.seek(0)\n",
    "tempreg = set()    # use set to remove dups \n",
    "instructions = []\n",
    "temp = []\n",
    "for line in f:\n",
    "    temp = line.rstrip('').replace('\\n','').split(\" \")\n",
    "    instructions.append(temp)\n",
    "    tempreg.add(temp[0])\n",
    "    tempreg.add(temp[4])\n",
    "registers = dict.fromkeys(tempreg,0)\n",
    "#print(registers)\n",
    "#print(instructions)\n",
    "for index, value in enumerate(instructions):\n",
    "    exp1 =  \"if registers[\\'\" + value[4]  + \"'] \" + value[5] + \" \" + value[6] +':'\n",
    "    exp2 = \" registers[\\'\" + value[0] + \"'] \"\n",
    "    if value[1] == 'inc':\n",
    "        exp3 = ' += ' + value[2]\n",
    "    else:\n",
    "        exp3 = ' -= ' + value[2]\n",
    "    exp = exp1 + exp2 + exp3\n",
    "    # print(exp) \n",
    "    exec(exp)\n",
    "# print(registers)\n",
    "mymax =  max(registers, key=registers.get)\n",
    "print(\"Largest value in a registry\", registers[mymax])\n"
   ]
  },
  {
   "cell_type": "markdown",
   "metadata": {},
   "source": [
    "** Advent of Code - Day 8 Part 2 ** To be safe, the CPU also needs to know the highest value held in any register during this process so that it can decide how much memory to allocate to these operations. For example, in the above instructions, the highest value ever held was 10 (in register c after the third instruction was evaluated)."
   ]
  },
  {
   "cell_type": "code",
   "execution_count": null,
   "metadata": {
    "collapsed": false
   },
   "outputs": [],
   "source": [
    "f.seek(0)\n",
    "tempreg = set()    # use set to remove dups \n",
    "instructions = []\n",
    "temp = []\n",
    "for line in f:\n",
    "    temp = line.rstrip('').replace('\\n','').split(\" \")\n",
    "    instructions.append(temp)\n",
    "    tempreg.add(temp[0])\n",
    "    tempreg.add(temp[4])\n",
    "registers = dict.fromkeys(tempreg,0)\n",
    "mymax = registers[max(registers, key=registers.get)]\n",
    "print(\"My Max at the start \", mymax)\n",
    "\n",
    "for index, value in enumerate(instructions):\n",
    "    exp1 =  \"if registers[\\'\" + value[4]  + \"'] \" + value[5] + \" \" + value[6] +':'\n",
    "    exp2 = \" registers[\\'\" + value[0] + \"'] \"\n",
    "    if value[1] == 'inc':\n",
    "        exp3 = ' += ' + value[2]\n",
    "    else:\n",
    "        exp3 = ' -= ' + value[2]\n",
    "    exp = exp1 + exp2 + exp3\n",
    "    exec(exp)\n",
    "    if mymax < registers[max(registers, key=registers.get)]:\n",
    "        mymax = registers[max(registers, key=registers.get)]\n",
    "# print(registers)\n",
    "print(\"Largest value in a registry\", mymax)"
   ]
  },
  {
   "cell_type": "markdown",
   "metadata": {},
   "source": [
    "What I learned from Day 8 ... \n",
    "* I finally know how to spell jupyter \n",
    "* enumerate (even though I did not need it above\n",
    "*  max(registers, key=registers.get)\n",
    "* dict.fromkeys makes a set into a dictionary "
   ]
  },
  {
   "cell_type": "markdown",
   "metadata": {},
   "source": [
    "# Advent of Code Day 7"
   ]
  },
  {
   "cell_type": "markdown",
   "metadata": {},
   "source": [
    "** Advent of Code Day 7 - Part 1 **Wandering further through the circuits of the computer, you come upon a tower of programs that have gotten themselves into a bit of trouble. A recursive algorithm has gotten out of hand, and now they're balanced precariously in a large tower.\n",
    "\n",
    "One program at the bottom supports the entire tower. It's holding a large disc, and on the disc are balanced several more sub-towers. At the bottom of these sub-towers, standing on the bottom disc, are other programs, each holding their own disc, and so on. At the very tops of these sub-sub-sub-...-towers, many programs stand simply keeping the disc below them balanced but with no disc of their own.\n",
    "\n",
    "You offer to help, but first you need to understand the structure of these towers. You ask each program to yell out their name, their weight, and (if they're holding a disc) the names of the programs immediately above them balancing on that disc. You write this information down (your puzzle input). Unfortunately, in their panic, they don't do this in an orderly fashion; by the time you're done, you're not sure which program gave which information.\n",
    "\n",
    "For example, if your list is the following:\n",
    "\n",
    "pbga (66)\n",
    "xhth (57)\n",
    "ebii (61)\n",
    "havc (66)\n",
    "ktlj (57)\n",
    "fwft (72) -> ktlj, cntj, xhth\n",
    "qoyq (66)\n",
    "padx (45) -> pbga, havc, qoyq\n",
    "tknk (41) -> ugml, padx, fwft\n",
    "jptl (61)\n",
    "ugml (68) -> gyxo, ebii, jptl\n",
    "gyxo (61)\n",
    "cntj (57)\n",
    "...then you would be able to recreate the structure of the towers that looks like this:\n",
    "\n",
    "                gyxo\n",
    "              /     \n",
    "         ugml - ebii\n",
    "       /      \\     \n",
    "      |         jptl\n",
    "      |        \n",
    "      |         pbga\n",
    "     /        /\n",
    "tknk --- padx - havc\n",
    "     \\        \\\n",
    "      |         qoyq\n",
    "      |             \n",
    "      |         ktlj\n",
    "       \\      /     \n",
    "         fwft - cntj\n",
    "              \\     \n",
    "                xhth\n",
    "In this example, tknk is at the bottom of the tower (the bottom program), and is holding up ugml, padx, and fwft. Those programs are, in turn, holding up other programs; in this example, none of those programs are holding up any other programs, and are all the tops of their own towers. (The actual tower balancing in front of you is much larger.)\n",
    "\n",
    "Before you're ready to help them, you need to make sure your information is correct. What is the name of the bottom program?"
   ]
  },
  {
   "cell_type": "code",
   "execution_count": null,
   "metadata": {
    "collapsed": true
   },
   "outputs": [],
   "source": [
    "path = 'day07.txt'\n",
    "f = open(path, 'r')\n",
    "import copy\n",
    "content = f.read()"
   ]
  },
  {
   "cell_type": "code",
   "execution_count": null,
   "metadata": {
    "collapsed": false
   },
   "outputs": [],
   "source": [
    "f.seek(0)\n",
    "subTowers = {}\n",
    "bottom = ''\n",
    "for line in f:\n",
    "    temp = line.rstrip('').replace(',','').replace('\\n','').split(\" \")\n",
    "    if '->' in temp:\n",
    "        # print(\" the carrot is at \", temp.index('->')) #going to be 2 \n",
    "        subTowers[temp[0]] = temp[3:] \n",
    "# print(\"The number of subtowers = \", st, subTowers)\n",
    "for key, na in subTowers.items():\n",
    "    # is key in any other val? \n",
    "    bottom = key\n",
    "    # print(key, \" Looking for this item\")\n",
    "    for iKey, iVal in subTowers.items():\n",
    "        #print(\"  Looking inside \", b, \" for this key \", key)\n",
    "        if key in iVal:      # todo this is broken after 1st time! \n",
    "            bottom = 'nope'\n",
    "            #print(\"   Found it in \", iVal)\n",
    "            break\n",
    "    if bottom != 'nope':\n",
    "        print(\"Got it! \", key)\n",
    "        break\n",
    "        # I should break out of something here\n",
    "            \n",
    "# need a break when we find bottom todo\n",
    "print(bottom)     \n"
   ]
  },
  {
   "cell_type": "markdown",
   "metadata": {},
   "source": [
    "** Advent of Code Day 7 - Part 2 ** \n",
    "The programs explain the situation: they can't get down. Rather, they could get down, if they weren't expending all of their energy trying to keep the tower balanced. Apparently, one program has the wrong weight, and until it's fixed, they're stuck here.\n",
    "\n",
    "For any program holding a disc, each program standing on that disc forms a sub-tower. Each of those sub-towers are supposed to be the same weight, or the disc itself isn't balanced. The weight of a tower is the sum of the weights of the programs in that tower.\n",
    "\n",
    "In the example above, this means that for ugml's disc to be balanced, gyxo, ebii, and jptl must all have the same weight, and they do: 61.\n",
    "\n",
    "However, for tknk to be balanced, each of the programs standing on its disc and all programs above it must each match. This means that the following sums must all be the same:\n",
    "\n",
    "ugml + (gyxo + ebii + jptl) = 68 + (61 + 61 + 61) = 251\n",
    "padx + (pbga + havc + qoyq) = 45 + (66 + 66 + 66) = 243\n",
    "fwft + (ktlj + cntj + xhth) = 72 + (57 + 57 + 57) = 243\n",
    "As you can see, tknk's disc is unbalanced: ugml's stack is heavier than the other two. Even though the nodes above ugml are balanced, ugml itself is too heavy: it needs to be 8 units lighter for its stack to weigh 243 and keep the towers balanced. If this change were made, its weight would be 60.\n",
    "\n",
    "Given that exactly one program is the wrong weight, what would its weight need to be to balance the entire tower?"
   ]
  },
  {
   "cell_type": "code",
   "execution_count": null,
   "metadata": {
    "collapsed": false
   },
   "outputs": [],
   "source": [
    "f.seek(0)\n",
    "weights = {}\n",
    "for line in f:\n",
    "    temp = line.rstrip('').replace(',','').replace('\\n','').split(\" \") \n",
    "    if '->' in temp:\n",
    "        weights[temp[0]] = temp[3:]\n",
    "        weights[temp[0]].append(int(temp[1].replace('(','').replace(')','')))\n",
    "    else: \n",
    "        weights[temp[0]] = int(temp[1].replace('(','').replace(')',''))\n",
    "ow =  copy.deepcopy(weights) \n",
    "# print(weights)\n",
    "def totalWeight(akey):\n",
    "    if isinstance(weights[akey], int):\n",
    "        return(weights[akey])\n",
    "    else: \n",
    "        total = weights[akey][-1]\n",
    "        nodes = {}\n",
    "        for i in weights[akey][:-1]:\n",
    "            weight = totalWeight(i)\n",
    "            total = total + weight\n",
    "            nodes[i] = weight  # ugh \n",
    "        weights[akey] = total\n",
    "        # are all the nodes equal? \n",
    "        if not all(value == weight for value in nodes.values()):\n",
    "            print(\"We have a bad set: \", nodes, \"in key \", akey)\n",
    "            # Can I stop at the first one? \n",
    "            # It will be the big one \n",
    "            mymin = min(nodes, key=nodes.get)\n",
    "            mymax =  max(nodes, key=nodes.get)\n",
    "            delta = nodes[mymax] - nodes[mymin]\n",
    "            print(\"Answer is \", ow[mymax][-1] - delta, \"node \", mymax) \n",
    "    return total\n",
    "\n",
    "totalWeight('mwzaxaj')  \n",
    "# totalWeight('tknk')"
   ]
  },
  {
   "cell_type": "markdown",
   "metadata": {},
   "source": [
    "What I learned on Day 7 \n",
    "* I lose interest in everything way too quickly \n",
    "* I am living the 'get it done, get it right, make it fast' dream \n",
    "* I don't know how to break out of this early. There should be a done flag but can't figure out how to break out of the recurssion or pass a done flag"
   ]
  },
  {
   "cell_type": "markdown",
   "metadata": {},
   "source": [
    "# Advent of Code Day 6 "
   ]
  },
  {
   "cell_type": "markdown",
   "metadata": {},
   "source": [
    "** Advent of Code Day 6 - Part 1 ** A debugger program here is having an issue: it is trying to repair a memory reallocation routine, but it keeps getting stuck in an infinite loop.\n",
    "\n",
    "In this area, there are sixteen memory banks; each memory bank can hold any number of blocks. The goal of the reallocation routine is to balance the blocks between the memory banks.\n",
    "\n",
    "The reallocation routine operates in cycles. In each cycle, it finds the memory bank with the most blocks (ties won by the lowest-numbered memory bank) and redistributes those blocks among the banks. To do this, it removes all of the blocks from the selected bank, then moves to the next (by index) memory bank and inserts one of the blocks. It continues doing this until it runs out of blocks; if it reaches the last memory bank, it wraps around to the first one.\n",
    "\n",
    "The debugger would like to know how many redistributions can be done before a blocks-in-banks configuration is produced that has been seen before.\n",
    "\n",
    "For example, imagine a scenario with only four memory banks:\n",
    "\n",
    "The banks start with 0, 2, 7, and 0 blocks. The third bank has the most blocks, so it is chosen for redistribution.\n",
    "Starting with the next bank (the fourth bank) and then continuing to the first bank, the second bank, and so on, the 7 blocks are spread out over the memory banks. The fourth, first, and second banks get two blocks each, and the third bank gets one back. The final result looks like this: 2 4 1 2.\n",
    "Next, the second bank is chosen because it contains the most blocks (four). Because there are four memory banks, each gets one block. The result is: 3 1 2 3.\n",
    "Now, there is a tie between the first and fourth memory banks, both of which have three blocks. The first bank wins the tie, and its three blocks are distributed evenly over the other three banks, leaving it with none: 0 2 3 4.\n",
    "The fourth bank is chosen, and its four blocks are distributed such that each of the four banks receives one: 1 3 4 1.\n",
    "The third bank is chosen, and the same thing happens: 2 4 1 2.\n",
    "At this point, we've reached a state we've seen before: 2 4 1 2 was already seen. The infinite loop is detected after the fifth block redistribution cycle, and so the answer in this example is 5.\n",
    "\n",
    "Given the initial block counts in your puzzle input, how many redistribution cycles must be completed before a configuration is produced that has been seen before?"
   ]
  },
  {
   "cell_type": "code",
   "execution_count": null,
   "metadata": {
    "collapsed": false
   },
   "outputs": [],
   "source": [
    "path = 'day06.txt'\n",
    "f = open(path, 'r')\n",
    "content = f.read()\n",
    "banks = [int(n) for n in content.split()]\n",
    "size = len(banks)\n",
    "print(banks, size)"
   ]
  },
  {
   "cell_type": "code",
   "execution_count": null,
   "metadata": {
    "collapsed": false
   },
   "outputs": [],
   "source": [
    "final = []\n",
    "banks = [int(n) for n in content.split()]\n",
    "state = ''.join(str(e) for e in banks)\n",
    "count = 0 \n",
    "\n",
    "while state not in final:\n",
    "    final.append(''.join(str(e) for e in banks)) #put the state in final\n",
    "    bigindex = banks.index(max(banks))\n",
    "    bigvalue = banks[bigindex]\n",
    "    banks[bigindex] = 0\n",
    "    for x in range(bigvalue):\n",
    "        next = bigindex + x + 1    # think about why +1 \n",
    "        banks[next % size] += 1\n",
    "    state = ''.join(str(e) for e in banks)\n",
    "    count = count + 1 \n",
    "    # print('bigindex', bigindex, 'bigvalue', bigvalue, banks, state, 'count ', count)\n",
    "print('Repeater ', state)\n",
    "print(\"Count von Count \", count)"
   ]
  },
  {
   "cell_type": "markdown",
   "metadata": {},
   "source": [
    "** Advent of Code Day 6 - Part 2 ** Out of curiosity, the debugger would also like to know the size of the loop: starting from a state that has already been seen, how many block redistribution cycles must be performed before that same state is seen again?\n",
    "\n",
    "In the example above, 2 4 1 2 is seen again after four cycles, and so the answer in that example would be 4.\n",
    "\n",
    "How many cycles are in the infinite loop that arises from the configuration in your puzzle input?"
   ]
  },
  {
   "cell_type": "code",
   "execution_count": null,
   "metadata": {
    "collapsed": false
   },
   "outputs": [],
   "source": [
    "repeater = state \n",
    "state = ''\n",
    "print('Repeater ', repeater, \"banks \", banks)\n",
    "count = 0 \n",
    "while state != repeater:\n",
    "    bigindex = banks.index(max(banks))\n",
    "    bigvalue = banks[bigindex]\n",
    "    banks[bigindex] = 0\n",
    "    for x in range(bigvalue):\n",
    "        next = bigindex + x + 1    # think about why +1 \n",
    "        banks[next % size] += 1\n",
    "    state = ''.join(str(e) for e in banks)\n",
    "    count = count + 1 \n",
    "print('Count von Count ', count, 'state ', state, 'repeater ', repeater)"
   ]
  },
  {
   "cell_type": "markdown",
   "metadata": {},
   "source": [
    "What I've learned: \n",
    "* Sometimes stackoverflow is brilliant - https://stackoverflow.com/questions/22122623/python-wrapping-around-on-a-list-when-list-index-is-out-of-range (Thanks Martijn Pieters) "
   ]
  },
  {
   "cell_type": "markdown",
   "metadata": {},
   "source": [
    "# Advent of Code Day 5 "
   ]
  },
  {
   "cell_type": "markdown",
   "metadata": {},
   "source": [
    "** Advent of Code Day 5 - Part 1 ** \n",
    "An urgent interrupt arrives from the CPU: it's trapped in a maze of jump instructions, and it would like assistance from any programs with spare cycles to help find the exit.\n",
    "\n",
    "The message includes a list of the offsets for each jump. Jumps are relative: -1 moves to the previous instruction, and 2 skips the next one. Start at the first instruction in the list. The goal is to follow the jumps until one leads outside the list.\n",
    "\n",
    "In addition, these instructions are a little strange; after each jump, the offset of that instruction increases by 1. So, if you come across an offset of 3, you would move three instructions forward, but change it to a 4 for the next time it is encountered.\n",
    "\n",
    "For example, consider the following list of jump offsets:\n",
    "\n",
    "0\n",
    "3\n",
    "0\n",
    "1\n",
    "-3\n",
    "Positive jumps (\"forward\") move downward; negative jumps move upward. For legibility in this example, these offset values will be written all on one line, with the current instruction marked in parentheses. The following steps would be taken before an exit is found:\n",
    "\n",
    "(0) 3  0  1  -3  - before we have taken any steps.\n",
    "(1) 3  0  1  -3  - jump with offset 0 (that is, don't jump at all). Fortunately, the instruction is then incremented to 1.\n",
    " 2 (3) 0  1  -3  - step forward because of the instruction we just modified. The first instruction is incremented again, now to 2.\n",
    " 2  4  0  1 (-3) - jump all the way to the end; leave a 4 behind.\n",
    " 2 (4) 0  1  -2  - go back to where we just were; increment -3 to -2.\n",
    " 2  5  0  1  -2  - jump 4 steps forward, escaping the maze.\n",
    "In this example, the exit is reached in 5 steps.\n",
    "\n",
    "How many steps does it take to reach the exit?"
   ]
  },
  {
   "cell_type": "code",
   "execution_count": null,
   "metadata": {
    "collapsed": false
   },
   "outputs": [],
   "source": [
    "# use numpy for efficiency and performance? \n",
    "import numpy as np\n",
    "path = 'day05a.txt'\n",
    "f = open(path, 'r')\n",
    "content = f.read().rstrip().split('\\n')\n",
    "content = [ int(x) for x in content]\n",
    "print(content)"
   ]
  },
  {
   "cell_type": "code",
   "execution_count": null,
   "metadata": {
    "collapsed": true
   },
   "outputs": [],
   "source": [
    "a = np.array(content, dtype=int)"
   ]
  },
  {
   "cell_type": "code",
   "execution_count": null,
   "metadata": {
    "collapsed": false
   },
   "outputs": [],
   "source": [
    "steps = 0\n",
    "index = 0 \n",
    "jump = 0 \n",
    "a = np.array(content, dtype=int)\n",
    "while True:\n",
    "    try:\n",
    "        jump = a[index] \n",
    "        a[index] = a[index] + 1\n",
    "        index = index + jump\n",
    "        steps = steps + 1\n",
    "    except:\n",
    "        print(\"I think we escapted \", steps)\n",
    "        break"
   ]
  },
  {
   "cell_type": "markdown",
   "metadata": {},
   "source": [
    "** Advent of Code Day 5 - Part 2 ** \n",
    "Now, the jumps are even stranger: after each jump, if the offset was three or more, instead decrease it by 1. Otherwise, increase it by 1 as before.\n",
    "\n",
    "Using this rule with the above example, the process now takes 10 steps, and the offset values after finding the exit are left as 2 3 2 3 -1.\n",
    "\n",
    "How many steps does it now take to reach the exit?"
   ]
  },
  {
   "cell_type": "code",
   "execution_count": null,
   "metadata": {
    "collapsed": false
   },
   "outputs": [],
   "source": [
    "steps = 0\n",
    "index = 0 \n",
    "jump = 0 \n",
    "a = np.array(content, dtype=int)\n",
    "while True:\n",
    "    try:\n",
    "        jump = a[index] \n",
    "        if jump >= 3: \n",
    "            a[index] = a[index] - 1\n",
    "        else:\n",
    "            a[index] = a[index] + 1\n",
    "        index = index + jump\n",
    "        steps = steps + 1\n",
    "    except:\n",
    "        print(\"I think we escapted \", steps)\n",
    "        break"
   ]
  },
  {
   "cell_type": "markdown",
   "metadata": {},
   "source": [
    "What I learned Day 5 \n",
    "* %%Timeit acts 'weird'. The execution does not change the state of the vars on this notebook. It 'breaks' the ijupyter notebook concepts (in my mind) \n",
    "* Numpy arrays ran slower (us) then Python arrays (ns) \n",
    "* I wish I know TDD and performance testing "
   ]
  },
  {
   "cell_type": "markdown",
   "metadata": {},
   "source": [
    "# Advent of Code Day 4"
   ]
  },
  {
   "cell_type": "markdown",
   "metadata": {},
   "source": [
    "** Advent of Code Day 4 - Part 1 ** A new system policy has been put in place that requires all accounts to use a passphrase instead of simply a password. A passphrase consists of a series of words (lowercase letters) separated by spaces.\n",
    "\n",
    "To ensure security, a valid passphrase must contain no duplicate words.\n",
    "\n",
    "For example:\n",
    "\n",
    "aa bb cc dd ee is valid.\n",
    "aa bb cc dd aa is not valid - the word aa appears more than once.\n",
    "aa bb cc dd aaa is valid - aa and aaa count as different words.\n",
    "The system's full passphrase list is available as your puzzle input. How many passphrases are valid?"
   ]
  },
  {
   "cell_type": "code",
   "execution_count": null,
   "metadata": {
    "collapsed": true
   },
   "outputs": [],
   "source": [
    "# read a line from a file to a list and set \n",
    "# compare size  \n",
    "import os\n",
    "path = 'day04.txt'\n",
    "f = open(path, 'r')\n",
    "content = f.read()"
   ]
  },
  {
   "cell_type": "code",
   "execution_count": null,
   "metadata": {
    "collapsed": false
   },
   "outputs": [],
   "source": [
    "f.seek(0)\n",
    "total = 0\n",
    "temp = []\n",
    "for line in f:\n",
    "    temp = line.rstrip().split(\" \")\n",
    "    myset = set(temp)\n",
    "    if len(temp) == len(myset):\n",
    "        total = total + 1\n",
    "    # print(temp, listlen, myset, setlen)\n",
    "print(total)"
   ]
  },
  {
   "cell_type": "markdown",
   "metadata": {},
   "source": [
    "** Advent of Code - Day 4 - Part 2 ** For added security, yet another system policy has been put in place. Now, a valid passphrase must contain no two words that are anagrams of each other - that is, a passphrase is invalid if any word's letters can be rearranged to form any other word in the passphrase.\n",
    "\n",
    "For example:\n",
    "\n",
    "abcde fghij is a valid passphrase.\n",
    "abcde xyz ecdab is not valid - the letters from the third word can be rearranged to form the first word.\n",
    "a ab abc abd abf abj is a valid passphrase, because all letters need to be used when forming another word.\n",
    "iiii oiii ooii oooi oooo is valid.\n",
    "oiii ioii iioi iiio is not valid - any of these words can be rearranged to form any other word.\n",
    "Under this new system policy, how many passphrases are valid?"
   ]
  },
  {
   "cell_type": "code",
   "execution_count": null,
   "metadata": {
    "collapsed": false
   },
   "outputs": [],
   "source": [
    "%%timeit\n",
    "# Get the line. (don't have to) Take out any with repeaters \n",
    "f.seek(0)\n",
    "total = 0\n",
    "%timeit -n 3\n",
    "for line in f: \n",
    "    temp = line.rstrip().split(\" \")\n",
    "    myset.clear()\n",
    "    for word in temp: \n",
    "        word = ''.join(sorted(word))\n",
    "        myset.add(word)\n",
    "    if len(myset) == len(temp):\n",
    "        total = total + 1\n",
    "%lsmagic"
   ]
  },
  {
   "cell_type": "markdown",
   "metadata": {},
   "source": [
    "What I learned from Day 4: \n",
    "* This would be a good day to do performance testing (%timeit, %%timeit %lsmagic\n",
    "* Apparently %%timeit needs to be the 1st line \n",
    "* Could I do the set create in one line \n",
    "* would pandas have done any of this automatically? "
   ]
  },
  {
   "cell_type": "markdown",
   "metadata": {},
   "source": [
    "# Advent of Code Day 3"
   ]
  },
  {
   "cell_type": "markdown",
   "metadata": {},
   "source": [
    "** Advent of Code - Day 3 - Part 1 **You come across an experimental new kind of memory stored on an infinite two-dimensional grid.\n",
    "\n",
    "Each square on the grid is allocated in a spiral pattern starting at a location marked 1 and then counting up while spiraling outward. For example, the first few squares are allocated like this:\n",
    "\n",
    "17  16  15  14  13\n",
    "18   5   4   3  12\n",
    "19   6   1   2  11\n",
    "20   7   8   9  10\n",
    "21  22  23---> ...\n",
    "While this is very space-efficient (no squares are skipped), requested data must be carried back to square 1 (the location of the only access port for this memory system) by programs that can only move up, down, left, or right. They always take the shortest path: the Manhattan Distance between the location of the data and square 1.\n",
    "\n",
    "For example:\n",
    "\n",
    "Data from square 1 is carried 0 steps, since it's at the access port.\n",
    "Data from square 12 is carried 3 steps, such as: down, left, left.\n",
    "Data from square 23 is carried only 2 steps: up twice.\n",
    "Data from square 1024 must be carried 31 steps.\n",
    "How many steps are required to carry the data from the square identified in your puzzle input all the way to the access port?"
   ]
  },
  {
   "cell_type": "code",
   "execution_count": null,
   "metadata": {
    "collapsed": true
   },
   "outputs": [],
   "source": [
    "import math \n"
   ]
  },
  {
   "cell_type": "code",
   "execution_count": null,
   "metadata": {
    "collapsed": false
   },
   "outputs": [],
   "source": [
    "port = 1    # ring = 0 , moves = 1 , rows 1 \n",
    "port = 15   #ring 2, moves 2, row 5\n",
    "port = 47   # ring 3, moves 4, row 7 \n",
    "port = 1024 # ring 16, moves 31, row ? \n",
    "port = 23   # ring 2, moves 2 \n",
    "port = 12   # ring \n",
    "port = 361527\n",
    "\n",
    "ring = 0 \n",
    "rowlen = 0 \n",
    "high = 0 \n",
    "rowlen = math.ceil(math.sqrt(port))  # Hmmm ... this might not be right if even\n",
    "if rowlen % 2 == 0:\n",
    "    rowlen = rowlen + 1 \n",
    "high = math.pow(rowlen, 2)\n",
    "ring = (rowlen -1)/2\n",
    "offset = (ring -(high - port))%ring\n",
    "print('The port ', port, 'is on ring ', ring, ' row of length ', rowlen, ' high num of ', high, ' offset of ', offset) \n",
    "moves = ring + offset\n",
    "print(\"Moves of \", moves, \" from the port \", port)"
   ]
  },
  {
   "cell_type": "markdown",
   "metadata": {},
   "source": [
    "** Advent of Code - Day 3 - Part 2 **\n",
    "As a stress test on the system, the programs here clear the grid and then store the value 1 in square 1. Then, in the same allocation order as shown above, they store the sum of the values in all adjacent squares, including diagonals.\n",
    "\n",
    "So, the first few squares' values are chosen as follows:\n",
    "\n",
    "Square 1 starts with the value 1.\n",
    "Square 2 has only one adjacent filled square (with value 1), so it also stores 1.\n",
    "Square 3 has both of the above squares as neighbors and stores the sum of their values, 2.\n",
    "Square 4 has all three of the aforementioned squares as neighbors and stores the sum of their values, 4.\n",
    "Square 5 only has the first and fourth squares as neighbors, so it gets the value 5.\n",
    "Once a square is written, its value does not change. Therefore, the first few squares would receive the following values:\n",
    "\n",
    "147  142  133  122   59\n",
    "304    5    4    2   57\n",
    "330   10    1    1   54\n",
    "351   11   23   25   26\n",
    "362  747  806--->   ...\n",
    "What is the first value written that is larger than your puzzle input? 361527"
   ]
  },
  {
   "cell_type": "code",
   "execution_count": null,
   "metadata": {
    "collapsed": true
   },
   "outputs": [],
   "source": [
    "# I cheated and went to this page - https://oeis.org/A141481\n",
    "import pandas as pd "
   ]
  },
  {
   "cell_type": "code",
   "execution_count": null,
   "metadata": {
    "collapsed": false
   },
   "outputs": [],
   "source": [
    "# now with an array \n",
    "# create a 5x5 array \n",
    "# This is boring me ... not done \n",
    "\n",
    "myzero = 2\n",
    "ring = 0 \n",
    "myarray = [[0] * 5] * 5\n",
    "print(myarray)\n",
    "mydf = pd.DataFrame(myarray)\n",
    "\n",
    "mydf.at[myzero,myzero] = 1\n",
    "done = True\n",
    "# loop here \n",
    "while done == True: \n",
    "    ring = ring + 1 \n",
    "    x = myzero\n",
    "    y = myzero + ring\n",
    "    mydf.at[x,y] = mydf.at[x,y-1] + mydf.at[x-1,y] + mydf.at[x,y+1 ]\n",
    "    done = False\n",
    "mydf"
   ]
  },
  {
   "cell_type": "markdown",
   "metadata": {},
   "source": [
    "# Advent of Code Day 2 "
   ]
  },
  {
   "cell_type": "markdown",
   "metadata": {},
   "source": [
    "** Advent of Code - Day 2 - Part 1 **\n",
    "As you walk through the door, a glowing humanoid shape yells in your direction. \"You there! Your state appears to be idle. Come help us repair the corruption in this spreadsheet - if we take another millisecond, we'll have to display an hourglass cursor!\"\n",
    "\n",
    "The spreadsheet consists of rows of apparently-random numbers. To make sure the recovery process is on the right track, they need you to calculate the spreadsheet's checksum. For each row, determine the difference between the largest value and the smallest value; the checksum is the sum of all of these differences.\n",
    "\n",
    "For example, given the following spreadsheet:\n",
    "\n",
    "5 1 9 5\n",
    "7 5 3\n",
    "2 4 6 8\n",
    "The first row's largest and smallest values are 9 and 1, and their difference is 8.\n",
    "The second row's largest and smallest values are 7 and 3, and their difference is 4.\n",
    "The third row's difference is 6.\n",
    "In this example, the spreadsheet's checksum would be 8 + 4 + 6 = 18.\n"
   ]
  },
  {
   "cell_type": "code",
   "execution_count": null,
   "metadata": {
    "collapsed": false
   },
   "outputs": [],
   "source": [
    "# data is at https://adventofcode.com/2017/day/2/input\n",
    "# Get a row  (?Do I use Beautiful Soup? )\n",
    "# Find the largest, find the smallest, \n",
    "#Add the difference to the total \n",
    "import os\n",
    "path = 'input.txt'\n",
    "# path = 'input2.txt'\n",
    "f = open(path, 'r')\n",
    "content = f.read()"
   ]
  },
  {
   "cell_type": "code",
   "execution_count": null,
   "metadata": {
    "collapsed": false
   },
   "outputs": [],
   "source": [
    "\n",
    "f.seek(0)\n",
    "total = 0 \n",
    "for line in f: \n",
    "    values = [int(n) for n in line.split()]\n",
    "    low = values[0]\n",
    "    high = values[0]\n",
    "    for x in values:\n",
    "        if x > high:\n",
    "            high = x\n",
    "        if x < low: \n",
    "            low = x\n",
    "    # print('high ', high, ' low ', low  )\n",
    "    total = total + (high-low)\n",
    "print('Total of (high-low) for each row', total)"
   ]
  },
  {
   "cell_type": "code",
   "execution_count": null,
   "metadata": {
    "collapsed": false
   },
   "outputs": [],
   "source": [
    "# With pandas \n",
    "import pandas as pd \n",
    "#df = pd.read_csv('input.txt', sep=\"\t\", header=None)\n",
    "df = pd.read_csv('input2.txt', sep=\" \", header=None)\n",
    "print((df.max(axis=1) - df.min(axis=1)).sum(axis=0))\n",
    "\n",
    "df"
   ]
  },
  {
   "cell_type": "markdown",
   "metadata": {},
   "source": [
    " **Advent of Code - Day 2 - Part 2** \"Great work; looks like we're on the right track after all. Here's a star for your effort.\" However, the program seems a little worried. Can programs be worried?\n",
    "\n",
    "\"Based on what we're seeing, it looks like all the User wanted is some information about the evenly divisible values in the spreadsheet. Unfortunately, none of us are equipped for that kind of calculation - most of us specialize in bitwise operations.\"\n",
    "\n",
    "It sounds like the goal is to find the only two numbers in each row where one evenly divides the other - that is, where the result of the division operation is a whole number. They would like you to find those numbers on each line, divide them, and add up each line's result.\n",
    "\n",
    "For example, given the following spreadsheet:\n",
    "\n",
    "5 9 2 8\n",
    "9 4 7 3\n",
    "3 8 6 5\n",
    "In the first row, the only two numbers that evenly divide are 8 and 2; the result of this division is 4.\n",
    "In the second row, the two numbers are 9 and 3; the result is 3.\n",
    "In the third row, the result is 2.\n",
    "In this example, the sum of the results would be 4 + 3 + 2 = 9.\n",
    "\n",
    "What is the sum of each row's result in your puzzle input?"
   ]
  },
  {
   "cell_type": "code",
   "execution_count": null,
   "metadata": {
    "collapsed": false
   },
   "outputs": [],
   "source": [
    "# Note: Input has not changed \n",
    "f.seek(0)\n",
    "total = 0 \n",
    "for line in f: \n",
    "    values = [int(n) for n in line.split()]\n",
    "    for x in values:\n",
    "        for y in values:  \n",
    "            if y%x == 0:\n",
    "                if x != y:\n",
    "                    # print('x = ', x, \"y= \", y, \"y/x =\", (y/x))\n",
    "                    total = total + (y/x)\n",
    "print('Value of Total= ', total)"
   ]
  },
  {
   "cell_type": "code",
   "execution_count": null,
   "metadata": {
    "collapsed": false
   },
   "outputs": [],
   "source": [
    "# With Pandas (imported Pandas and made a dataframe above df)\n"
   ]
  },
  {
   "cell_type": "markdown",
   "metadata": {},
   "source": [
    "What I learned from Day 2: \n",
    " * I need to do this in BeautifulSoup (to get the input) and Pandas. \n",
    " * Need to learn how to send in credentials for BeautifulSoup. \n",
    " * Pandas should do high\\low, etc \n",
    " "
   ]
  },
  {
   "cell_type": "code",
   "execution_count": null,
   "metadata": {
    "collapsed": false,
    "scrolled": true
   },
   "outputs": [],
   "source": [
    "# This is not working \n",
    "# from bs4 import BeautifulSoup as be\n",
    "# import requests\n",
    "#import re\n",
    "#url = 'http://adventofcode.com/2017/day/2/input' #Try to use this & get credentials\n",
    "#url = 'http://localhost:8888/edit/input.html'\n",
    "#page = requests.get(url)\n",
    "#soup = be(page.content)\n",
    "#soup\n",
    "print(\"bye\")"
   ]
  },
  {
   "cell_type": "markdown",
   "metadata": {},
   "source": [
    "# Advent of Code Day 1 "
   ]
  },
  {
   "cell_type": "markdown",
   "metadata": {},
   "source": [
    "** Advent of Code - Day 1 - Part 1 **\n",
    "It goes on to explain that you may only leave by solving a captcha to prove you're not a human. Apparently, you only get one millisecond to solve the captcha: too fast for a normal human, but it feels like hours to you.\n",
    "\n",
    "The captcha requires you to review a sequence of digits (your puzzle input) and find the sum of all digits that match the next digit in the list. The list is circular, so the digit after the last digit is the first digit in the list.\n",
    "\n",
    "For example:\n",
    "\n",
    "1122 produces a sum of 3 (1 + 2) because the first digit (1) matches the second digit and the third digit (2) matches the fourth digit.\n",
    "1111 produces 4 because each digit (all 1) matches the next.\n",
    "1234 produces 0 because no digit matches the next.\n",
    "91212129 produces 9 because the only digit that matches the next one is the last digit, 9.\n",
    "What is the solution to your captcha?\n"
   ]
  },
  {
   "cell_type": "code",
   "execution_count": null,
   "metadata": {
    "collapsed": false
   },
   "outputs": [],
   "source": [
    "captcha = '77736991856689225253142335214746294932318813454849177823468674346512426482777696993348135287531487622845155339235443718798255411492778415157351753377959586612882455464736285648473397681163729345143319577258292849619491486748832944425643737899293811819448271546283914592546989275992844383947572926628695617661344293284789225493932487897149244685921644561896799491668147588536732985476538413354195246785378443492137893161362862587297219368699689318441563683292683855151652394244688119527728613756153348584975372656877565662527436152551476175644428333449297581939357656843784849965764796365272113837436618857363585783813291999774718355479485961244782148994281845717611589612672436243788252212252489833952785291284935439662751339273847424621193587955284885915987692812313251556836958571335334281322495251889724281863765636441971178795365413267178792118544937392522893132283573129821178591214594778712292228515169348771198167462495988252456944269678515277886142827218825358561772588377998394984947946121983115158951297156321289231481348126998584455974277123213413359859659339792627742476688827577318285573236187838749444212666293172899385531383551142896847178342163129883523694183388123567744916752899386265368245342587281521723872555392212596227684414269667696229995976182762587281829533181925696289733325513618571116199419759821597197636415243789757789129824537812428338192536462468554399548893532588928486825398895911533744671691387494516395641555683144968644717265849634943691721391779987198764147667349266877149238695714118982841721323853294642175381514347345237721288281254828745122878268792661867994785585131534136646954347165597315643658739688567246339618795777125767432162928257331951255792438831957359141651634491912746875748363394329848227391812251812842263277229514125426682179711184717737714178235995431465217547759282779499842892993556918977773236196185348965713241211365895519697294982523166196268941976859987925578945185217127344619169353395993198368185217391883839449331638641744279836858188235296951745922667612379649453277174224722894599153367373494255388826855322712652812127873536473277'\n",
    "# captcha = '777367' #21\n",
    "count = 0 \n",
    "length = len(captcha)\n",
    "print('len ', length)\n",
    "# increment through the string to see if current number is the same as the next \n",
    "# Total those numbers\n",
    "# Check to see if the last equals the first \n",
    "for i in range(length-1):\n",
    "    x = captcha[i]\n",
    "    next = captcha[i+1]\n",
    "    if x == next:\n",
    "        count = count + int(x)\n",
    "# check the last \n",
    "if captcha[length-1] == captcha[0]:\n",
    "    count = count + int(captcha[length-1])\n",
    "print(count)"
   ]
  },
  {
   "cell_type": "code",
   "execution_count": null,
   "metadata": {
    "collapsed": false
   },
   "outputs": [],
   "source": [
    "# with enumerate \n",
    "captcha = '777367' #21\n",
    "count = 0\n",
    "mylen = len(captcha)\n",
    "for index, value in enumerate(captcha):\n",
    "    print(index, value)\n",
    "    if value == captcha[(index+1)% mylen]:\n",
    "        count = count + int(value)\n",
    "print(count)"
   ]
  },
  {
   "cell_type": "markdown",
   "metadata": {},
   "source": [
    "Advent of Code - Day 1 - Part 2 \n",
    "You notice a progress bar that jumps to 50% completion. Apparently, the door isn't yet satisfied, but it did emit a star as encouragement. The instructions change:\n",
    "\n",
    "Now, instead of considering the next digit, it wants you to consider the digit halfway around the circular list. That is, if your list contains 10 items, only include a digit in your sum if the digit 10/2 = 5 steps forward matches it. Fortunately, your list has an even number of elements.\n",
    "\n",
    "For example:\n",
    "\n",
    "1212 produces 6: the list contains 4 items, and all four digits match the digit 2 items ahead.\n",
    "1221 produces 0, because every comparison is between a 1 and a 2.\n",
    "123425 produces 4, because both 2s match each other, but no other digit has a match.\n",
    "123123 produces 12.\n",
    "12131415 produces 4.\n",
    "What is the solution to your new captcha?"
   ]
  },
  {
   "cell_type": "code",
   "execution_count": null,
   "metadata": {
    "collapsed": false
   },
   "outputs": [],
   "source": [
    "captcha = '77736991856689225253142335214746294932318813454849177823468674346512426482777696993348135287531487622845155339235443718798255411492778415157351753377959586612882455464736285648473397681163729345143319577258292849619491486748832944425643737899293811819448271546283914592546989275992844383947572926628695617661344293284789225493932487897149244685921644561896799491668147588536732985476538413354195246785378443492137893161362862587297219368699689318441563683292683855151652394244688119527728613756153348584975372656877565662527436152551476175644428333449297581939357656843784849965764796365272113837436618857363585783813291999774718355479485961244782148994281845717611589612672436243788252212252489833952785291284935439662751339273847424621193587955284885915987692812313251556836958571335334281322495251889724281863765636441971178795365413267178792118544937392522893132283573129821178591214594778712292228515169348771198167462495988252456944269678515277886142827218825358561772588377998394984947946121983115158951297156321289231481348126998584455974277123213413359859659339792627742476688827577318285573236187838749444212666293172899385531383551142896847178342163129883523694183388123567744916752899386265368245342587281521723872555392212596227684414269667696229995976182762587281829533181925696289733325513618571116199419759821597197636415243789757789129824537812428338192536462468554399548893532588928486825398895911533744671691387494516395641555683144968644717265849634943691721391779987198764147667349266877149238695714118982841721323853294642175381514347345237721288281254828745122878268792661867994785585131534136646954347165597315643658739688567246339618795777125767432162928257331951255792438831957359141651634491912746875748363394329848227391812251812842263277229514125426682179711184717737714178235995431465217547759282779499842892993556918977773236196185348965713241211365895519697294982523166196268941976859987925578945185217127344619169353395993198368185217391883839449331638641744279836858188235296951745922667612379649453277174224722894599153367373494255388826855322712652812127873536473277'\n",
    "# captcha = '12131415' # 4 \n",
    "# captcha = '1212' # 0 \n",
    "# captcha = '123425' # 4 \n",
    "# captcha = '123123' # 12 \n",
    "# captcha = '1212' # 6 \n",
    "count = 0 \n",
    "length = len(captcha)\n",
    "halflen = int(length/2)\n",
    "print('length ', length, 'half length ', halflen)\n",
    "# increment through the string to see if the current char is the same as half one\n",
    "# Total those numbers\n",
    "#Check to see if the last equals the first \n",
    "for i in range(length-1):\n",
    "    x = captcha[i]\n",
    "    next = captcha[(i+halflen)% length]\n",
    "    if x == next:\n",
    "        count = count + int(x)\n",
    "# check the last \n",
    "if captcha[length-1] == captcha[halflen-1]:\n",
    "    count = count + int(captcha[length-1])\n",
    "print(count)"
   ]
  },
  {
   "cell_type": "markdown",
   "metadata": {},
   "source": [
    "What I learned\\remembered from Day 1 : \n",
    "* ints and floats are different. (ie you can't iterate with a float but you get a float when you divide) \n",
    "* I should have used iterator from my data science class but could not remember it. \n",
    "* I should use this to create test first development \n",
    "* Todo: Need to replace the i in range (len) to enumerate "
   ]
  },
  {
   "cell_type": "code",
   "execution_count": null,
   "metadata": {
    "collapsed": true
   },
   "outputs": [],
   "source": []
  }
 ],
 "metadata": {
  "anaconda-cloud": {},
  "kernelspec": {
   "display_name": "Python [conda root]",
   "language": "python",
   "name": "conda-root-py"
  },
  "language_info": {
   "codemirror_mode": {
    "name": "ipython",
    "version": 3
   },
   "file_extension": ".py",
   "mimetype": "text/x-python",
   "name": "python",
   "nbconvert_exporter": "python",
   "pygments_lexer": "ipython3",
   "version": "3.5.2"
  }
 },
 "nbformat": 4,
 "nbformat_minor": 1
}
