{
 "cells": [
  {
   "cell_type": "markdown",
   "metadata": {
    "collapsed": false
   },
   "source": [
    "From https://github.com/qxzzxq/pyofo"
   ]
  },
  {
   "cell_type": "code",
   "execution_count": null,
   "metadata": {
    "collapsed": true
   },
   "outputs": [],
   "source": [
    "import pyofo\n",
    "import json"
   ]
  },
  {
   "cell_type": "code",
   "execution_count": null,
   "metadata": {
    "collapsed": false
   },
   "outputs": [],
   "source": [
    "log_in = pyofo.LoginHandler(tel='remove', ccc='1', lat='36.0', lng='-78.9' )\n",
    "r = log_in.request_sms_code()\n",
    "r.text"
   ]
  },
  {
   "cell_type": "code",
   "execution_count": null,
   "metadata": {
    "collapsed": false
   },
   "outputs": [],
   "source": [
    "r = log_in.login_with_code(otp_code='remove')\n",
    "r.text"
   ]
  },
  {
   "cell_type": "code",
   "execution_count": null,
   "metadata": {
    "collapsed": true
   },
   "outputs": [],
   "source": [
    "pyofo.set_token('deleted')\n",
    "ofo = pyofo.Ofo()\n",
    "r = ofo.nearby_ofo_car(lat='36.0', lng='-78.9')"
   ]
  },
  {
   "cell_type": "code",
   "execution_count": null,
   "metadata": {
    "collapsed": false
   },
   "outputs": [],
   "source": [
    "import gmaps as jupmap\n",
    "f = open('private.key', 'r')\n",
    "for line in f: \n",
    "    temp = line.rstrip('').replace(',','').replace('\\n','').split(\" \")\n",
    "    exec(temp[0])\n",
    "jupmap.configure(api_key=jupmap_key)\n",
    "m = jupmap.Map()\n",
    "home = (36.0160282, -78.9321707)\n",
    "foodLion = (36.0193147,-78.9603636)\n",
    "church = (35.9969749, -78.9091543)\n",
    "dl = jupmap.directions_layer(church, home)\n",
    "#googlemaps has an optimize_waypoints=True but I can't find it in jupyter gmaps \n",
    "m.add_layer(dl)\n",
    "m"
   ]
  },
  {
   "cell_type": "code",
   "execution_count": null,
   "metadata": {
    "collapsed": false,
    "scrolled": true
   },
   "outputs": [],
   "source": [
    "r.json()['values']['cars']\n",
    "for key, value in enumerate(r.json()['values']['cars']):\n",
    "    print(value)"
   ]
  },
  {
   "cell_type": "code",
   "execution_count": null,
   "metadata": {
    "collapsed": false,
    "scrolled": true
   },
   "outputs": [],
   "source": [
    "marker_loc = [ (-78.900015547246, 36.000268625861), (-78.899991505183, 36.000308659339), ( -78.900002524102, 36.000595643858)]\n",
    "fig = jupmap.figure()\n",
    "markers = jupmap.marker_layer(marker_loc)\n",
    "fig.add_layer(markers)                                                                                          \n",
    "fig                                                                     "
   ]
  },
  {
   "cell_type": "code",
   "execution_count": null,
   "metadata": {
    "collapsed": false
   },
   "outputs": [],
   "source": [
    "jupmap.plot(marker_loc)"
   ]
  },
  {
   "cell_type": "code",
   "execution_count": null,
   "metadata": {
    "collapsed": true
   },
   "outputs": [],
   "source": []
  }
 ],
 "metadata": {
  "anaconda-cloud": {},
  "kernelspec": {
   "display_name": "Python [default]",
   "language": "python",
   "name": "python3"
  },
  "language_info": {
   "codemirror_mode": {
    "name": "ipython",
    "version": 3
   },
   "file_extension": ".py",
   "mimetype": "text/x-python",
   "name": "python",
   "nbconvert_exporter": "python",
   "pygments_lexer": "ipython3",
   "version": "3.5.2"
  }
 },
 "nbformat": 4,
 "nbformat_minor": 1
}
