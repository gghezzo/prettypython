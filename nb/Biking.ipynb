{
 "cells": [
  {
   "cell_type": "markdown",
   "metadata": {
    "collapsed": false
   },
   "source": [
    "From https://github.com/qxzzxq/pyofo"
   ]
  },
  {
   "cell_type": "code",
   "execution_count": null,
   "metadata": {
    "collapsed": true
   },
   "outputs": [],
   "source": [
    "import pyofo\n",
    "import json"
   ]
  },
  {
   "cell_type": "code",
   "execution_count": 5,
   "metadata": {
    "collapsed": false
   },
   "outputs": [
    {
     "data": {
      "text/plain": [
       "'{\"errorCode\":200,\"msg\":\"Success\",\"values\":{}}'"
      ]
     },
     "execution_count": 5,
     "metadata": {},
     "output_type": "execute_result"
    }
   ],
   "source": [
    "log_in = pyofo.LoginHandler(tel='9193235152', ccc='1', lat='36.0', lng='-78.9' )\n",
    "r = log_in.request_sms_code()\n",
    "r.text"
   ]
  },
  {
   "cell_type": "code",
   "execution_count": 7,
   "metadata": {
    "collapsed": false
   },
   "outputs": [
    {
     "data": {
      "text/plain": [
       "'{\"errorCode\":200,\"msg\":\"登陆成功\",\"values\":{\"token\":\"bbfcd800-1b55-11e8-acc0-7db028ad60fa\",\"isNewuser\":false,\"needDeposit\":false,\"depositToPay\":0,\"depositCurrency\":\"$\",\"paymentMethod\":{}}}'"
      ]
     },
     "execution_count": 7,
     "metadata": {},
     "output_type": "execute_result"
    }
   ],
   "source": [
    "r = log_in.login_with_code(otp_code='4130')\n",
    "r.text"
   ]
  },
  {
   "cell_type": "code",
   "execution_count": 10,
   "metadata": {
    "collapsed": true
   },
   "outputs": [],
   "source": [
    "pyofo.set_token('bbfcd800-1b55-11e8-acc0-7db028ad60fa')\n",
    "ofo = pyofo.Ofo()\n",
    "r = ofo.nearby_ofo_car(lat='36.0', lng='-78.9')"
   ]
  },
  {
   "cell_type": "code",
   "execution_count": 33,
   "metadata": {
    "collapsed": false
   },
   "outputs": [],
   "source": [
    "import gmaps as jupmap\n",
    "f = open('private.key', 'r')\n",
    "for line in f: \n",
    "    temp = line.rstrip('').replace(',','').replace('\\n','').split(\" \")\n",
    "    exec(temp[0])\n",
    "jupmap.configure(api_key=jupmap_key)\n",
    "m = jupmap.Map()\n",
    "home = (36.0160282, -78.9321707)\n",
    "foodLion = (36.0193147,-78.9603636)\n",
    "church = (35.9969749, -78.9091543)\n",
    "dl = jupmap.directions_layer(church, home)\n",
    "#googlemaps has an optimize_waypoints=True but I can't find it in jupyter gmaps \n",
    "m.add_layer(dl)\n",
    "m"
   ]
  },
  {
   "cell_type": "code",
   "execution_count": 29,
   "metadata": {
    "collapsed": false,
    "scrolled": true
   },
   "outputs": [
    {
     "name": "stdout",
     "output_type": "stream",
     "text": [
      "{'userIdLast': '1', 'lng': -78.900015547246, 'lat': 36.000268625861}\n",
      "{'userIdLast': '1', 'lng': -78.899991505183, 'lat': 36.000308659339}\n",
      "{'userIdLast': '1', 'lng': -78.900002524102, 'lat': 36.000595643858}\n",
      "{'userIdLast': '1', 'lng': -78.900102698996, 'lat': 36.000839504088}\n",
      "{'userIdLast': '1', 'lng': -78.901521204344, 'lat': 36.000302506955}\n",
      "{'userIdLast': '1', 'lng': -78.901583315826, 'lat': 35.999596418997}\n",
      "{'userIdLast': '1', 'lng': -78.901479129005, 'lat': 36.000662566557}\n",
      "{'userIdLast': '1', 'lng': -78.901524209344, 'lat': 36.000617502538}\n",
      "{'userIdLast': '1', 'lng': -78.901862814532, 'lat': 35.99998102066}\n",
      "{'userIdLast': '1', 'lng': -78.901912903356, 'lat': 36.00070694882}\n",
      "{'userIdLast': '1', 'lng': -78.899552743186, 'lat': 35.998223269716}\n",
      "{'userIdLast': '1', 'lng': -78.89956276061, 'lat': 35.998206255851}\n",
      "{'userIdLast': '1', 'lng': -78.897841801167, 'lat': 36.00127660977}\n",
      "{'userIdLast': '1', 'lng': -78.901298806957, 'lat': 36.00184382182}\n",
      "{'userIdLast': '1', 'lng': -78.899760098371, 'lat': 36.002915980054}\n",
      "{'userIdLast': '1', 'lng': -78.90137393954, 'lat': 36.002695714934}\n",
      "{'userIdLast': '1', 'lng': -78.899894332408, 'lat': 36.002936793462}\n",
      "{'userIdLast': '1', 'lng': -78.896667825249, 'lat': 36.001317183364}\n",
      "{'userIdLast': '1', 'lng': -78.896560646574, 'lat': 36.001286325673}\n",
      "{'userIdLast': '1', 'lng': -78.901335878421, 'lat': 35.996892771643}\n",
      "{'userIdLast': '1', 'lng': -78.90138696927, 'lat': 35.996875699202}\n",
      "{'userIdLast': '1', 'lng': -78.901213661478, 'lat': 35.996798944809}\n",
      "{'userIdLast': '1', 'lng': -78.90312809263, 'lat': 36.00227519998}\n",
      "{'userIdLast': '1', 'lng': -78.903117072606, 'lat': 36.002289215942}\n",
      "{'userIdLast': '1', 'lng': -78.901799705186, 'lat': 35.996832112236}\n",
      "{'userIdLast': '1', 'lng': -78.901935948876, 'lat': 35.996860917791}\n",
      "{'userIdLast': '1', 'lng': -78.899449566137, 'lat': 35.996479413347}\n",
      "{'userIdLast': '1', 'lng': -78.899439548832, 'lat': 35.996419427228}\n",
      "{'userIdLast': '1', 'lng': -78.904188032899, 'lat': 35.998493656348}\n",
      "{'userIdLast': '1', 'lng': -78.903469713901, 'lat': 36.002548703819}\n",
      "{'userIdLast': '1', 'lng': -78.904277196856, 'lat': 35.998465525497}\n",
      "{'userIdLast': '1', 'lng': -78.904002693649, 'lat': 35.99755192843}\n",
      "{'userIdLast': '1', 'lng': -78.903346495425, 'lat': 35.996904885722}\n",
      "{'userIdLast': '1', 'lng': -78.901242714012, 'lat': 35.995942904121}\n",
      "{'userIdLast': '1', 'lng': -78.903421632297, 'lat': 35.996861776539}\n",
      "{'userIdLast': '1', 'lng': -78.90345168705, 'lat': 35.996871732826}\n",
      "{'userIdLast': '1', 'lng': -78.903479738181, 'lat': 35.996870692017}\n",
      "{'userIdLast': '1', 'lng': -78.903490758268, 'lat': 35.996874675979}\n",
      "{'userIdLast': '1', 'lng': -78.903176186066, 'lat': 35.996580133067}\n",
      "{'userIdLast': '1', 'lng': -78.902612165116, 'lat': 35.996245948261}\n",
      "{'userIdLast': '1', 'lng': -78.904916377096, 'lat': 35.99804758376}\n",
      "{'userIdLast': '1', 'lng': -78.902716353374, 'lat': 35.996149798173}\n",
      "{'userIdLast': '1', 'lng': -78.905037601627, 'lat': 35.998193404284}\n",
      "{'userIdLast': '1', 'lng': -78.905067657398, 'lat': 35.998172359777}\n",
      "{'userIdLast': '1', 'lng': -78.905081683443, 'lat': 35.998150339009}\n",
      "{'userIdLast': '1', 'lng': -78.905116748484, 'lat': 35.99818428703}\n",
      "{'userIdLast': '1', 'lng': -78.905108733689, 'lat': 35.998103298951}\n",
      "{'userIdLast': '1', 'lng': -78.905160830375, 'lat': 35.998136221703}\n",
      "{'userIdLast': '1', 'lng': -78.898553021265, 'lat': 35.995536645971}\n",
      "{'userIdLast': '1', 'lng': -78.904527659579, 'lat': 35.997107157903}\n",
      "{'userIdLast': '1', 'lng': -78.904513633759, 'lat': 35.997061178579}\n",
      "{'userIdLast': '1', 'lng': -78.904519644844, 'lat': 35.997061169729}\n",
      "{'userIdLast': '1', 'lng': -78.902906697979, 'lat': 35.995901523525}\n",
      "{'userIdLast': '1', 'lng': -78.899710020199, 'lat': 35.995257053163}\n",
      "{'userIdLast': '1', 'lng': -78.894171738059, 'lat': 36.001059436418}\n",
      "{'userIdLast': '1', 'lng': -78.899685978349, 'lat': 35.99526208652}\n",
      "{'userIdLast': '1', 'lng': -78.899670952207, 'lat': 35.995258107365}\n",
      "{'userIdLast': '1', 'lng': -78.898689255252, 'lat': 35.995310459845}\n",
      "{'userIdLast': '1', 'lng': -78.904629848253, 'lat': 35.997017007386}\n",
      "{'userIdLast': '1', 'lng': -78.904630850187, 'lat': 35.996934005954}\n",
      "{'userIdLast': '1', 'lng': -78.902048151788, 'lat': 35.995145758322}\n",
      "{'userIdLast': '1', 'lng': -78.8956781825, 'lat': 36.003904487399}\n",
      "{'userIdLast': '1', 'lng': -78.895531942353, 'lat': 36.003869678571}\n",
      "{'userIdLast': '1', 'lng': -78.895597049139, 'lat': 36.003932593496}\n",
      "{'userIdLast': '1', 'lng': -78.905075666811, 'lat': 36.003602345258}\n",
      "{'userIdLast': '1', 'lng': -78.90098826455, 'lat': 35.994608264512}\n",
      "{'userIdLast': '1', 'lng': -78.904903346795, 'lat': 36.004159600067}\n",
      "{'userIdLast': '1', 'lng': -78.907481190421, 'lat': 35.998939738015}\n",
      "{'userIdLast': '1', 'lng': -78.899924395588, 'lat': 35.993817755998}\n",
      "{'userIdLast': '1', 'lng': -78.907634481997, 'lat': 35.999014504947}\n",
      "{'userIdLast': '1', 'lng': -78.906486310387, 'lat': 35.996597243019}\n",
      "{'userIdLast': '1', 'lng': -78.907838870853, 'lat': 35.999753193304}\n",
      "{'userIdLast': '1', 'lng': -78.901724574345, 'lat': 35.993795220925}\n",
      "{'userIdLast': '1', 'lng': -78.904888328512, 'lat': 35.994716627046}\n",
      "{'userIdLast': '1', 'lng': -78.904877308178, 'lat': 35.994647643377}\n",
      "{'userIdLast': '1', 'lng': -78.904936417607, 'lat': 35.99468255595}\n",
      "{'userIdLast': '1', 'lng': -78.904976491857, 'lat': 35.994686496656}\n",
      "{'userIdLast': '1', 'lng': -78.904908365707, 'lat': 35.994626597471}\n",
      "{'userIdLast': '1', 'lng': -78.905007549465, 'lat': 35.994645450711}\n",
      "{'userIdLast': '1', 'lng': -78.90828973341, 'lat': 35.999046504911}\n",
      "{'userIdLast': '1', 'lng': -78.908575280725, 'lat': 35.999548066883}\n",
      "{'userIdLast': '1', 'lng': -78.90905921183, 'lat': 36.000106322009}\n",
      "{'userIdLast': '1', 'lng': -78.909043180084, 'lat': 36.001055346228}\n",
      "{'userIdLast': '1', 'lng': -78.909337748742, 'lat': 36.001431891242}\n",
      "{'userIdLast': '1', 'lng': -78.893150120116, 'lat': 35.994497733096}\n",
      "{'userIdLast': '1', 'lng': -78.905176865644, 'lat': 35.992641200991}\n",
      "{'userIdLast': '1', 'lng': -78.905953314361, 'lat': 35.991783045139}\n",
      "{'userIdLast': '1', 'lng': -78.906798904273, 'lat': 35.991834774973}\n",
      "{'userIdLast': '1', 'lng': -78.891743929939, 'lat': 35.99176047831}\n",
      "{'userIdLast': '1', 'lng': -78.891654792601, 'lat': 35.99179858737}\n"
     ]
    }
   ],
   "source": [
    "r.json()['values']['cars']\n",
    "for key, value in enumerate(r.json()['values']['cars']):\n",
    "    print(value)"
   ]
  },
  {
   "cell_type": "code",
   "execution_count": 38,
   "metadata": {
    "collapsed": false,
    "scrolled": true
   },
   "outputs": [
    {
     "ename": "AttributeError",
     "evalue": "module 'gmaps' has no attribute 'figure'",
     "output_type": "error",
     "traceback": [
      "\u001b[0;31m---------------------------------------------------------------------------\u001b[0m",
      "\u001b[0;31mAttributeError\u001b[0m                            Traceback (most recent call last)",
      "\u001b[0;32m<ipython-input-38-893054b30027>\u001b[0m in \u001b[0;36m<module>\u001b[0;34m()\u001b[0m\n\u001b[1;32m      1\u001b[0m \u001b[0mmarker_loc\u001b[0m \u001b[1;33m=\u001b[0m \u001b[1;33m[\u001b[0m \u001b[1;33m(\u001b[0m\u001b[1;33m-\u001b[0m\u001b[1;36m78.900015547246\u001b[0m\u001b[1;33m,\u001b[0m \u001b[1;36m36.000268625861\u001b[0m\u001b[1;33m)\u001b[0m\u001b[1;33m,\u001b[0m \u001b[1;33m(\u001b[0m\u001b[1;33m-\u001b[0m\u001b[1;36m78.899991505183\u001b[0m\u001b[1;33m,\u001b[0m \u001b[1;36m36.000308659339\u001b[0m\u001b[1;33m)\u001b[0m\u001b[1;33m,\u001b[0m \u001b[1;33m(\u001b[0m \u001b[1;33m-\u001b[0m\u001b[1;36m78.900002524102\u001b[0m\u001b[1;33m,\u001b[0m \u001b[1;36m36.000595643858\u001b[0m\u001b[1;33m)\u001b[0m\u001b[1;33m]\u001b[0m\u001b[1;33m\u001b[0m\u001b[0m\n\u001b[0;32m----> 2\u001b[0;31m \u001b[0mfig\u001b[0m \u001b[1;33m=\u001b[0m \u001b[0mjupmap\u001b[0m\u001b[1;33m.\u001b[0m\u001b[0mfigure\u001b[0m\u001b[1;33m(\u001b[0m\u001b[1;33m)\u001b[0m\u001b[1;33m\u001b[0m\u001b[0m\n\u001b[0m\u001b[1;32m      3\u001b[0m \u001b[0mmarkers\u001b[0m \u001b[1;33m=\u001b[0m \u001b[0mjupmap\u001b[0m\u001b[1;33m.\u001b[0m\u001b[0mmarker_layer\u001b[0m\u001b[1;33m(\u001b[0m\u001b[0mmarker_loc\u001b[0m\u001b[1;33m)\u001b[0m\u001b[1;33m\u001b[0m\u001b[0m\n\u001b[1;32m      4\u001b[0m \u001b[0mfig\u001b[0m\u001b[1;33m.\u001b[0m\u001b[0madd_layer\u001b[0m\u001b[1;33m(\u001b[0m\u001b[0mmarkers\u001b[0m\u001b[1;33m)\u001b[0m\u001b[1;33m\u001b[0m\u001b[0m\n\u001b[1;32m      5\u001b[0m \u001b[0mfig\u001b[0m\u001b[1;33m\u001b[0m\u001b[0m\n",
      "\u001b[0;31mAttributeError\u001b[0m: module 'gmaps' has no attribute 'figure'"
     ]
    }
   ],
   "source": [
    "marker_loc = [ (-78.900015547246, 36.000268625861), (-78.899991505183, 36.000308659339), ( -78.900002524102, 36.000595643858)]\n",
    "fig = jupmap.figure()\n",
    "markers = jupmap.marker_layer(marker_loc)\n",
    "fig.add_layer(markers)                                                                                          \n",
    "fig                                                                     "
   ]
  },
  {
   "cell_type": "code",
   "execution_count": 40,
   "metadata": {
    "collapsed": false
   },
   "outputs": [
    {
     "ename": "AttributeError",
     "evalue": "module 'gmaps' has no attribute 'plot'",
     "output_type": "error",
     "traceback": [
      "\u001b[0;31m---------------------------------------------------------------------------\u001b[0m",
      "\u001b[0;31mAttributeError\u001b[0m                            Traceback (most recent call last)",
      "\u001b[0;32m<ipython-input-40-afc1901006a1>\u001b[0m in \u001b[0;36m<module>\u001b[0;34m()\u001b[0m\n\u001b[0;32m----> 1\u001b[0;31m \u001b[0mjupmap\u001b[0m\u001b[1;33m.\u001b[0m\u001b[0mplot\u001b[0m\u001b[1;33m(\u001b[0m\u001b[0mmarker_loc\u001b[0m\u001b[1;33m)\u001b[0m\u001b[1;33m\u001b[0m\u001b[0m\n\u001b[0m",
      "\u001b[0;31mAttributeError\u001b[0m: module 'gmaps' has no attribute 'plot'"
     ]
    }
   ],
   "source": [
    "jupmap.plot(marker_loc)"
   ]
  },
  {
   "cell_type": "code",
   "execution_count": null,
   "metadata": {
    "collapsed": true
   },
   "outputs": [],
   "source": []
  }
 ],
 "metadata": {
  "anaconda-cloud": {},
  "kernelspec": {
   "display_name": "Python [default]",
   "language": "python",
   "name": "python3"
  },
  "language_info": {
   "codemirror_mode": {
    "name": "ipython",
    "version": 3
   },
   "file_extension": ".py",
   "mimetype": "text/x-python",
   "name": "python",
   "nbconvert_exporter": "python",
   "pygments_lexer": "ipython3",
   "version": "3.5.2"
  },
  "widgets": {
   "state": {
    "7747f6f387034da3a18ccda8ef51732b": {
     "views": [
      {
       "cell_index": 5
      }
     ]
    }
   },
   "version": "1.2.0"
  }
 },
 "nbformat": 4,
 "nbformat_minor": 1
}
