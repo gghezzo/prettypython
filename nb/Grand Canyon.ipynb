{
 "cells": [
  {
   "cell_type": "markdown",
   "metadata": {},
   "source": [
    "# Weather for our Grand Canyon Vacation "
   ]
  },
  {
   "cell_type": "code",
   "execution_count": 1,
   "metadata": {
    "collapsed": true
   },
   "outputs": [],
   "source": [
    "import pyowm       # Open Weather Map \n",
    "from datetime import datetime \n",
    "from dateutil.tz import tz, tzlocal \n",
    "import calendar\n",
    "owm = pyowm.OWM('Opps')"  # get new one 
   ]
  },
  {
   "cell_type": "code",
   "execution_count": 18,
   "metadata": {
    "collapsed": false
   },
   "outputs": [
    {
     "name": "stdout",
     "output_type": "stream",
     "text": [
      "<pyowm.webapi25.forecaster.Forecaster>\n",
      "<pyowm.webapi25.forecaster.Forecaster>\n",
      "<pyowm.webapi25.forecaster.Forecaster>\n",
      "Monday\n",
      "{'morn': 70.3, 'eve': 53.85, 'day': 70.3, 'night': 42.64, 'max': 70.3, 'min': 42.64}\n",
      "Tuesday\n",
      "{'morn': 41.29, 'eve': 63.37, 'day': 62.29, 'night': 51.53, 'max': 64.98, 'min': 41.29}\n",
      "Wednesday\n",
      "{'morn': 51.82, 'eve': 60.57, 'day': 59.38, 'night': 55.02, 'max': 60.57, 'min': 51.82}\n",
      "Thursday\n",
      "{'morn': 50.41, 'eve': 62.91, 'day': 59.29, 'night': 53.13, 'max': 62.91, 'min': 50.41}\n",
      "Friday\n",
      "{'morn': 52.29, 'eve': 58.41, 'day': 55.47, 'night': 45.7, 'max': 58.41, 'min': 45.7}\n",
      "Saturday\n",
      "{'morn': 44.58, 'eve': 58.73, 'day': 54.34, 'night': 43.66, 'max': 58.73, 'min': 43.66}\n",
      "Sunday\n",
      "{'morn': 37.02, 'eve': 64.49, 'day': 56.7, 'night': 45.09, 'max': 64.49, 'min': 37.02}\n"
     ]
    }
   ],
   "source": [
    "Sedona_id = 5313667\n",
    "PHX_id = 5308655\n",
    "GC_id = 5296391\n",
    "YOS_id = 5410943 \n",
    "LAX_id = 3882428 \n",
    "PAS_id = 4364990\n",
    "\n",
    "Sedona = owm.weather_at_id(Sedona_id)\n",
    "PHX = owm.weather_at_id(PHX_id)\n",
    "GC = owm.weather_at_id(GC_id)\n",
    "\n",
    "PHX_fc = owm.daily_forecast('Phoenix', limit=7)\n",
    "SED_fc = owm.daily_forecast('Sedona', limit=7)\n",
    "GC_fc = owm.daily_forecast('Grand Canyon', limit=7)\n",
    "LAX_fc = owm.daily_forecast('Los Angeles', limit=7)\n",
    "YOS_fc = owm.daily_forecast('El Portal', limit=7)\n",
    "print(SED_fc)\n",
    "print(GC_fc)\n",
    "print(LAX_fc)\n",
    "forecast = LAX_fc.get_forecast()\n",
    "for w in forecast: \n",
    "    print((calendar.day_name[w.get_reference_time(timeformat='date').weekday()]))\n",
    "    print(w.get_temperature('fahrenheit'))"
   ]
  },
  {
   "cell_type": "code",
   "execution_count": 23,
   "metadata": {
    "collapsed": false
   },
   "outputs": [
    {
     "name": "stdout",
     "output_type": "stream",
     "text": [
      "Wednesday In Yosemite\n",
      "{'morn': 38.84, 'eve': 53.53, 'day': 51.19, 'night': 39.33, 'max': 55.33, 'min': 38.84}\n",
      "Thursday In Yosemite\n",
      "{'morn': 34.86, 'eve': 52.81, 'day': 55.04, 'night': 45.03, 'max': 57.22, 'min': 34.86}\n",
      "Friday In Yosemite\n",
      "{'morn': 51.73, 'eve': 55.96, 'day': 56.57, 'night': 49.35, 'max': 56.57, 'min': 49.35}\n",
      "Friday  in Pasadena\n",
      "{'morn': 52.29, 'eve': 58.41, 'day': 55.47, 'night': 45.7, 'max': 58.41, 'min': 45.7}\n",
      "Saturday  in Pasadena\n",
      "{'morn': 44.58, 'eve': 58.73, 'day': 54.34, 'night': 43.66, 'max': 58.73, 'min': 43.66}\n",
      "Sunday  in Pasadena\n",
      "{'morn': 37.02, 'eve': 64.49, 'day': 56.7, 'night': 45.09, 'max': 64.49, 'min': 37.02}\n",
      "<pyowm.webapi25.forecast.Forecast - reception time=2018-03-20 00:34:11+00, interval=daily>\n"
     ]
    }
   ],
   "source": [
    "LAX_fc = owm.daily_forecast('Los Angeles', limit=7)\n",
    "YOS_fc = owm.daily_forecast('El Portal', limit=7)\n",
    "forecast = YOS_fc.get_forecast()\n",
    "YOS_day = ['Wednesday', 'Thursday', 'Friday']\n",
    "LAX_day = ['Saturday', 'Sunday', 'Friday']\n",
    "for y in forecast: \n",
    "    day = (calendar.day_name[y.get_reference_time(timeformat='date').weekday()])\n",
    "    if day in YOS_day:\n",
    "        print(day, 'In Yosemite')\n",
    "        print(y.get_temperature('fahrenheit'))\n",
    "forecast = LAX_fc.get_forecast()\n",
    "for z in forecast: \n",
    "    day = (calendar.day_name[z.get_reference_time(timeformat='date').weekday()])\n",
    "    if day in LAX_day:\n",
    "        print(day, ' in Pasadena')\n",
    "        print(z.get_temperature('fahrenheit'))\n",
    "print(forecast)"
   ]
  },
  {
   "cell_type": "code",
   "execution_count": 3,
   "metadata": {
    "collapsed": false
   },
   "outputs": [
    {
     "name": "stdout",
     "output_type": "stream",
     "text": [
      "{'eve': 0, 'day': 0, 'night': 0, 'morn': 0}\n",
      "Phoenix on Monday: (high) 71.6 (low) 49.62 2018-03-19 19:00:00+00:00\n",
      "Phoenix on Thursday: (high) 83.57 (low) 51.67\n",
      "Phoenix on Sunday: (high) 71.29 (low) 39.94\n",
      "Sedona on Thursday: (high) 68.32 (low) 38.8\n",
      "Sedona on Friday: (high) 59.7 (low) 43.18\n",
      "Grand Canyon on Friday: (high) 56.32 (low) 45.21\n",
      "snow:  {}\n",
      "Grand Canyon on Saturday: (high) 50.99 (low) 32.32\n",
      "snow:  {}\n",
      "Grand Canyon on Sunday: (high) 49.6 (low) 21.94\n",
      "snow:  {}\n"
     ]
    }
   ],
   "source": [
    "Thur = {'morn':0,'day':0,'eve':0,'night':0}\n",
    "Fri = {'morn':0,'day':0,'eve':0,'night':0}\n",
    "Sat = {'morn':0,'day':0,'eve':0,'night':0}\n",
    "Sun = {'morn':0,'day':0,'eve':0,'night':0}\n",
    "Mon = {'morn':0,'day':0,'eve':0,'night':0}\n",
    "print(Sun)\n",
    "forecast = PHX_fc.get_forecast()\n",
    "for w in forecast:\n",
    "    day = (calendar.day_name[w.get_reference_time(timeformat='date').weekday()])\n",
    "    temp = w.get_temperature('fahrenheit')\n",
    "    if (day == 'Thursday'):\n",
    "       Thur['morn'] = 'x'\n",
    "       Thur['day'] = temp['day']\n",
    "       print('Phoenix on Thursday: (high)', temp['max'], '(low)', temp['min'])\n",
    "    if (day == 'Sunday'):\n",
    "       Sun['eve'] = temp['eve']\n",
    "       Sun['night'] = temp['night']\n",
    "       print('Phoenix on Sunday: (high)', temp['max'], '(low)', temp['min'])\n",
    "    if (day == 'Monday'):\n",
    "       Mon['morn'] = temp['morn']\n",
    "       Mon['day'] = temp['day']\n",
    "       Mon['eve'] = 'x'\n",
    "       Mon['night'] = 'x'\n",
    "       print('Phoenix on Monday: (high)', temp['max'], '(low)', temp['min'], w.get_reference_time(timeformat='date'))\n",
    "forecast = SED_fc.get_forecast()\n",
    "for w in forecast:\n",
    "    day = (calendar.day_name[w.get_reference_time(timeformat='date').weekday()])\n",
    "    temp = w.get_temperature('fahrenheit')\n",
    "    if (day == 'Thursday'):\n",
    "       Thur['eve'] = temp['eve']\n",
    "       Thur['night'] = temp['night']\n",
    "       print('Sedona on Thursday: (high)', temp['max'], '(low)', temp['min'])\n",
    "    if (day == 'Friday'):\n",
    "       Fri['morn'] = temp['morn']\n",
    "       Fri['day'] = temp['day']\n",
    "       print('Sedona on Friday: (high)', temp['max'], '(low)', temp['min'])\n",
    "\n",
    "forecast = GC_fc.get_forecast()\n",
    "for w in forecast:\n",
    "    day = (calendar.day_name[w.get_reference_time(timeformat='date').weekday()])\n",
    "    temp = w.get_temperature('fahrenheit')\n",
    "    if (day == 'Friday'):\n",
    "       Fri['eve'] = temp['eve']\n",
    "       Fri['night'] = temp['night']\n",
    "       print('Grand Canyon on Friday: (high)', temp['max'], '(low)', temp['min'])\n",
    "       print('snow: ', w.get_snow())\n",
    "    if (day == 'Saturday'):\n",
    "       Sat['morn'] = temp['morn']\n",
    "       Sat['day'] = temp['day']\n",
    "       Sat['eve'] = temp['eve']\n",
    "       Sat['night'] = temp['night']\n",
    "       print('Grand Canyon on Saturday: (high)', temp['max'], '(low)', temp['min'])\n",
    "       print('snow: ', w.get_snow())\n",
    "    if (day == 'Sunday'):\n",
    "       Sun['morn'] = temp['morn']\n",
    "       Sun['day'] = temp['day']\n",
    "       print('Grand Canyon on Sunday: (high)', temp['max'], '(low)', temp['min'])\n",
    "       print('snow: ', w.get_snow())\n",
    "\n",
    "   "
   ]
  },
  {
   "cell_type": "code",
   "execution_count": 4,
   "metadata": {
    "collapsed": false
   },
   "outputs": [
    {
     "name": "stdout",
     "output_type": "stream",
     "text": [
      "Thursday Phoenix (day) - Arrive at Noon  77.2\n",
      "Thursday Sedona (night) - Check in around 3  57.36\n",
      "Friday Sedona (morning to day)  54.32 to 59.7\n",
      "Friday Grand Canyon (evening to night)  55.38 to 45.21\n",
      "Saturday Grand Canyon (all day)  39.58 to 50.38 50.99 to 32.32\n",
      "Sunday Grand Canyon  (morning to day) 21.94 to 43.07\n",
      "Sunday Phoenix (evening to night)  71.29 to 46.53\n",
      "Monday Phoneix  (morning to day) - flight at 5pm  71.6 to 71.6\n"
     ]
    }
   ],
   "source": [
    "print('Thursday Phoenix (day) - Arrive at Noon ', Thur['day'])\n",
    "print('Thursday Sedona (night) - Check in around 3 ', Thur['night'])\n",
    "print('Friday Sedona (morning to day) ', Fri['morn'], 'to', Fri['day'])\n",
    "print('Friday Grand Canyon (evening to night) ', Fri['eve'], 'to', Fri['night'])\n",
    "print('Saturday Grand Canyon (all day) ', Sat['morn'], 'to', Sat['day'], Sat['eve'], 'to', Sat['night'])\n",
    "print('Sunday Grand Canyon  (morning to day)', Sun['morn'], 'to', Sun['day']) \n",
    "print('Sunday Phoenix (evening to night) ', Sun['eve'], 'to', Sun['night'])\n",
    "print('Monday Phoneix  (morning to day) - flight at 5pm ', Mon['morn'], 'to', Mon['day'])"
   ]
  },
  {
   "cell_type": "code",
   "execution_count": 5,
   "metadata": {
    "collapsed": false,
    "scrolled": true
   },
   "outputs": [
    {
     "ename": "SyntaxError",
     "evalue": "invalid syntax (<ipython-input-5-071a94184c09>, line 6)",
     "output_type": "error",
     "traceback": [
      "\u001b[0;36m  File \u001b[0;32m\"<ipython-input-5-071a94184c09>\"\u001b[0;36m, line \u001b[0;32m6\u001b[0m\n\u001b[0;31m    theDate = w.get_reference_time(timeformat='date'))\u001b[0m\n\u001b[0m                                                     ^\u001b[0m\n\u001b[0;31mSyntaxError\u001b[0m\u001b[0;31m:\u001b[0m invalid syntax\n"
     ]
    }
   ],
   "source": [
    "forecast = PHX_fc.get_forecast()\n",
    "print(forecast.get_location().get_name())\n",
    "for w in forecast:\n",
    "    print(w.get_temperature('fahrenheit'))\n",
    "    print(w.get_snow())\n",
    "    theDate = w.get_reference_time(timeformat='date'))\n",
    "    print(theDate)"
   ]
  },
  {
   "cell_type": "code",
   "execution_count": null,
   "metadata": {
    "collapsed": true
   },
   "outputs": [],
   "source": []
  }
 ],
 "metadata": {
  "anaconda-cloud": {},
  "kernelspec": {
   "display_name": "Python [conda root]",
   "language": "python",
   "name": "conda-root-py"
  },
  "language_info": {
   "codemirror_mode": {
    "name": "ipython",
    "version": 3
   },
   "file_extension": ".py",
   "mimetype": "text/x-python",
   "name": "python",
   "nbconvert_exporter": "python",
   "pygments_lexer": "ipython3",
   "version": "3.5.2"
  }
 },
 "nbformat": 4,
 "nbformat_minor": 1
}
