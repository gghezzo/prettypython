{
 "cells": [
  {
   "cell_type": "markdown",
   "metadata": {},
   "source": [
    "# Weather for our Grand Canyon Vacation "
   ]
  },
  {
   "cell_type": "code",
   "execution_count": null,
   "metadata": {
    "collapsed": true
   },
   "outputs": [],
   "source": [
    "import pyowm       # Open Weather Map \n",
    "from datetime import datetime \n",
    "from dateutil.tz import tz, tzlocal \n",
    "import calendar\n",
    "owm = pyowm.OWM('Deleted')"
   ]
  },
  {
   "cell_type": "code",
   "execution_count": null,
   "metadata": {
    "collapsed": false
   },
   "outputs": [],
   "source": [
    "Sedona_id = 5313667\n",
    "PHX_id = 5308655\n",
    "GC_id = 5296391\n",
    "YOS_id = 5410943 \n",
    "LAX_id = 3882428 \n",
    "PAS_id = 4364990\n",
    "\n",
    "Sedona = owm.weather_at_id(Sedona_id)\n",
    "PHX = owm.weather_at_id(PHX_id)\n",
    "GC = owm.weather_at_id(GC_id)\n",
    "\n",
    "PHX_fc = owm.daily_forecast('Phoenix', limit=7)\n",
    "SED_fc = owm.daily_forecast('Sedona', limit=7)\n",
    "GC_fc = owm.daily_forecast('Grand Canyon', limit=7)\n",
    "LAX_fc = owm.daily_forecast('Los Angeles', limit=7)\n",
    "YOS_fc = owm.daily_forecast('El Portal', limit=7)\n",
    "print(SED_fc)\n",
    "print(GC_fc)\n",
    "print(LAX_fc)\n",
    "forecast = LAX_fc.get_forecast()\n",
    "for w in forecast: \n",
    "    print((calendar.day_name[w.get_reference_time(timeformat='date').weekday()]))\n",
    "    print(w.get_temperature('fahrenheit'))"
   ]
  },
  {
   "cell_type": "code",
   "execution_count": null,
   "metadata": {
    "collapsed": false
   },
   "outputs": [],
   "source": [
    "LAX_fc = owm.daily_forecast('Los Angeles', limit=7)\n",
    "YOS_fc = owm.daily_forecast('El Portal', limit=7)\n",
    "forecast = YOS_fc.get_forecast()\n",
    "YOS_day = ['Wednesday', 'Thursday', 'Friday']\n",
    "LAX_day = ['Saturday', 'Sunday', 'Friday']\n",
    "for y in forecast: \n",
    "    day = (calendar.day_name[y.get_reference_time(timeformat='date').weekday()])\n",
    "    if day in YOS_day:\n",
    "        print(day, 'In Yosemite')\n",
    "        print(y.get_temperature('fahrenheit'))\n",
    "forecast = LAX_fc.get_forecast()\n",
    "for z in forecast: \n",
    "    day = (calendar.day_name[z.get_reference_time(timeformat='date').weekday()])\n",
    "    if day in LAX_day:\n",
    "        print(day, ' in Pasadena')\n",
    "        print(z.get_temperature('fahrenheit'))\n",
    "print(forecast)"
   ]
  },
  {
   "cell_type": "code",
   "execution_count": null,
   "metadata": {
    "collapsed": false
   },
   "outputs": [],
   "source": [
    "Thur = {'morn':0,'day':0,'eve':0,'night':0}\n",
    "Fri = {'morn':0,'day':0,'eve':0,'night':0}\n",
    "Sat = {'morn':0,'day':0,'eve':0,'night':0}\n",
    "Sun = {'morn':0,'day':0,'eve':0,'night':0}\n",
    "Mon = {'morn':0,'day':0,'eve':0,'night':0}\n",
    "print(Sun)\n",
    "forecast = PHX_fc.get_forecast()\n",
    "for w in forecast:\n",
    "    day = (calendar.day_name[w.get_reference_time(timeformat='date').weekday()])\n",
    "    temp = w.get_temperature('fahrenheit')\n",
    "    if (day == 'Thursday'):\n",
    "       Thur['morn'] = 'x'\n",
    "       Thur['day'] = temp['day']\n",
    "       print('Phoenix on Thursday: (high)', temp['max'], '(low)', temp['min'])\n",
    "    if (day == 'Sunday'):\n",
    "       Sun['eve'] = temp['eve']\n",
    "       Sun['night'] = temp['night']\n",
    "       print('Phoenix on Sunday: (high)', temp['max'], '(low)', temp['min'])\n",
    "    if (day == 'Monday'):\n",
    "       Mon['morn'] = temp['morn']\n",
    "       Mon['day'] = temp['day']\n",
    "       Mon['eve'] = 'x'\n",
    "       Mon['night'] = 'x'\n",
    "       print('Phoenix on Monday: (high)', temp['max'], '(low)', temp['min'], w.get_reference_time(timeformat='date'))\n",
    "forecast = SED_fc.get_forecast()\n",
    "for w in forecast:\n",
    "    day = (calendar.day_name[w.get_reference_time(timeformat='date').weekday()])\n",
    "    temp = w.get_temperature('fahrenheit')\n",
    "    if (day == 'Thursday'):\n",
    "       Thur['eve'] = temp['eve']\n",
    "       Thur['night'] = temp['night']\n",
    "       print('Sedona on Thursday: (high)', temp['max'], '(low)', temp['min'])\n",
    "    if (day == 'Friday'):\n",
    "       Fri['morn'] = temp['morn']\n",
    "       Fri['day'] = temp['day']\n",
    "       print('Sedona on Friday: (high)', temp['max'], '(low)', temp['min'])\n",
    "\n",
    "forecast = GC_fc.get_forecast()\n",
    "for w in forecast:\n",
    "    day = (calendar.day_name[w.get_reference_time(timeformat='date').weekday()])\n",
    "    temp = w.get_temperature('fahrenheit')\n",
    "    if (day == 'Friday'):\n",
    "       Fri['eve'] = temp['eve']\n",
    "       Fri['night'] = temp['night']\n",
    "       print('Grand Canyon on Friday: (high)', temp['max'], '(low)', temp['min'])\n",
    "       print('snow: ', w.get_snow())\n",
    "    if (day == 'Saturday'):\n",
    "       Sat['morn'] = temp['morn']\n",
    "       Sat['day'] = temp['day']\n",
    "       Sat['eve'] = temp['eve']\n",
    "       Sat['night'] = temp['night']\n",
    "       print('Grand Canyon on Saturday: (high)', temp['max'], '(low)', temp['min'])\n",
    "       print('snow: ', w.get_snow())\n",
    "    if (day == 'Sunday'):\n",
    "       Sun['morn'] = temp['morn']\n",
    "       Sun['day'] = temp['day']\n",
    "       print('Grand Canyon on Sunday: (high)', temp['max'], '(low)', temp['min'])\n",
    "       print('snow: ', w.get_snow())\n",
    "\n",
    "   "
   ]
  },
  {
   "cell_type": "code",
   "execution_count": null,
   "metadata": {
    "collapsed": false
   },
   "outputs": [],
   "source": [
    "print('Thursday Phoenix (day) - Arrive at Noon ', Thur['day'])\n",
    "print('Thursday Sedona (night) - Check in around 3 ', Thur['night'])\n",
    "print('Friday Sedona (morning to day) ', Fri['morn'], 'to', Fri['day'])\n",
    "print('Friday Grand Canyon (evening to night) ', Fri['eve'], 'to', Fri['night'])\n",
    "print('Saturday Grand Canyon (all day) ', Sat['morn'], 'to', Sat['day'], Sat['eve'], 'to', Sat['night'])\n",
    "print('Sunday Grand Canyon  (morning to day)', Sun['morn'], 'to', Sun['day']) \n",
    "print('Sunday Phoenix (evening to night) ', Sun['eve'], 'to', Sun['night'])\n",
    "print('Monday Phoneix  (morning to day) - flight at 5pm ', Mon['morn'], 'to', Mon['day'])"
   ]
  },
  {
   "cell_type": "code",
   "execution_count": null,
   "metadata": {
    "collapsed": false,
    "scrolled": true
   },
   "outputs": [],
   "source": [
    "forecast = PHX_fc.get_forecast()\n",
    "print(forecast.get_location().get_name())\n",
    "for w in forecast:\n",
    "    print(w.get_temperature('fahrenheit'))\n",
    "    print(w.get_snow())\n",
    "    theDate = w.get_reference_time(timeformat='date'))\n",
    "    print(theDate)"
   ]
  },
  {
   "cell_type": "code",
   "execution_count": null,
   "metadata": {
    "collapsed": true
   },
   "outputs": [],
   "source": []
  }
 ],
 "metadata": {
  "anaconda-cloud": {},
  "kernelspec": {
   "display_name": "Python [conda root]",
   "language": "python",
   "name": "conda-root-py"
  },
  "language_info": {
   "codemirror_mode": {
    "name": "ipython",
    "version": 3
   },
   "file_extension": ".py",
   "mimetype": "text/x-python",
   "name": "python",
   "nbconvert_exporter": "python",
   "pygments_lexer": "ipython3",
   "version": "3.5.2"
  }
 },
 "nbformat": 4,
 "nbformat_minor": 1
}
