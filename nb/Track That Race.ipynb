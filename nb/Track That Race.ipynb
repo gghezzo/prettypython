{
 "cells": [
  {
   "cell_type": "markdown",
   "metadata": {},
   "source": [
    "Race Predictions: \n",
    "Analyze race data to predict when you will see folks.\n",
    "Answer (based on 1 year, and based on history): \n",
    "Fastest, slowest, range, mean, median, mode \n",
    "    For the race\n",
    "    For an aid station \n",
    "    For an intersection \n",
    "    Chip vs Gun \n",
    "When can I leave my neighborhood? \n",
    "When do we need to be setup? Have most of the glasses? Stop filling more glasses? \n",
    "\n",
    "Graph the runners :) \n"
   ]
  },
  {
   "cell_type": "markdown",
   "metadata": {},
   "source": [
    "Get the Data \n",
    "Bull City Race Fest - 2017 - https://results.chronotrack.com/event/results/event/event-34552\n"
   ]
  }
 ],
 "metadata": {
  "anaconda-cloud": {},
  "kernelspec": {
   "display_name": "Python [default]",
   "language": "python",
   "name": "python3"
  },
  "language_info": {
   "codemirror_mode": {
    "name": "ipython",
    "version": 3
   },
   "file_extension": ".py",
   "mimetype": "text/x-python",
   "name": "python",
   "nbconvert_exporter": "python",
   "pygments_lexer": "ipython3",
   "version": "3.5.2"
  }
 },
 "nbformat": 4,
 "nbformat_minor": 1
}
