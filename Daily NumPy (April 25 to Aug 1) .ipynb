{
 "cells": [
  {
   "cell_type": "markdown",
   "metadata": {},
   "source": [
    "Daily NumPy \n",
    "https://www.machinelearningplus.com/python/101-numpy-exercises-python/"
   ]
  },
  {
   "cell_type": "code",
   "execution_count": 4,
   "metadata": {},
   "outputs": [
    {
     "name": "stdout",
     "output_type": "stream",
     "text": [
      "Version:  1.13.3 <module 'numpy.version' from 'C:\\\\Anaconda3\\\\lib\\\\site-packages\\\\numpy\\\\version.py'>\n"
     ]
    }
   ],
   "source": [
    "# Day 1 - Q. Import numpy as `np` and print the version number.\n",
    "import numpy as np\n",
    "print( 'Version: ',np.version.version, np.version) "
   ]
  },
  {
   "cell_type": "code",
   "execution_count": 21,
   "metadata": {},
   "outputs": [
    {
     "name": "stdout",
     "output_type": "stream",
     "text": [
      "From a list :  [0 1 2 3 4 5 6 7 8 9]\n",
      "From zeros  :  [0 1 2 3 4 5 6 7 8 9]\n",
      "From IO     :  [0 1 2 3 4 5 6 7 8 9]\n"
     ]
    }
   ],
   "source": [
    "# Day 2 - Q. Create a 1D array of numbers from 0 to 9 \n",
    "# Output - array([0, 1, 2, 3, 4, 5, 6, 7, 8, 9])\n",
    "# There are 5 ways to create an array in NumPy 1) From a list\\tuple 2) creation object 3) Reading from disk 4) raw byes in strings\\buffers 5) Special Library\n",
    "# ones, zeros, random.random, empty, full, arange, linspace\n",
    "fromList = np.array([0, 1, 2, 3, 4, 5, 6, 7, 8, 9])\n",
    "print(\"From a list : \", fromList)\n",
    "fromZero = np.zeros(10, dtype = np.integer)\n",
    "for i,x in enumerate(fromZero): \n",
    "    fromZero[i] = i\n",
    "print(\"From zeros  : \", fromZero) \n",
    "from io import StringIO\n",
    "c = StringIO(\"0, 1, 2, 3, 4, 5, 6, 7, 8, 9\") \n",
    "fromIO = np.loadtxt(c, delimiter=',', dtype=np.int64)\n",
    "print(\"From IO     : \", fromIO)"
   ]
  },
  {
   "cell_type": "code",
   "execution_count": 2,
   "metadata": {},
   "outputs": [
    {
     "name": "stdout",
     "output_type": "stream",
     "text": [
      "[0, 1, 2, 3, 4, 5, 6, 7, 8, 9]\n"
     ]
    }
   ],
   "source": [
    "print(raw)"
   ]
  }
 ],
 "metadata": {
  "kernelspec": {
   "display_name": "Python 3",
   "language": "python",
   "name": "python3"
  },
  "language_info": {
   "codemirror_mode": {
    "name": "ipython",
    "version": 3
   },
   "file_extension": ".py",
   "mimetype": "text/x-python",
   "name": "python",
   "nbconvert_exporter": "python",
   "pygments_lexer": "ipython3",
   "version": "3.6.3"
  }
 },
 "nbformat": 4,
 "nbformat_minor": 2
}
